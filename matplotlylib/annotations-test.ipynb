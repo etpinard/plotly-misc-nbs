{
 "metadata": {
  "name": "",
  "signature": "sha256:55c816ad8735a10d0dcbfe3db6592e8201db31ee782183eb1aeeae194403313c"
 },
 "nbformat": 3,
 "nbformat_minor": 0,
 "worksheets": [
  {
   "cells": [
    {
     "cell_type": "heading",
     "level": 1,
     "metadata": {},
     "source": [
      "Converting matplotlib<br>annotations to Plotly"
     ]
    },
    {
     "cell_type": "heading",
     "level": 2,
     "metadata": {},
     "source": [
      "a briefing on fundamental differences between<br>\n",
      "matplotlib and Plotly annotations"
     ]
    },
    {
     "cell_type": "markdown",
     "metadata": {},
     "source": [
      "From [python-api #48](https://github.com/plotly/python-api/pull/48):\n",
      "\n",
      "\u00c9tienne:\n",
      "\n",
      "> The question now becomes if and/or how to automatically increase the margins to make annotations like theses fit in the figure's frame? Note that **we could also increase the range** (in this case, the x-axis' range) **to make the annotations fit**. But, this is probably not the best solution.\n",
      "\n",
      "Andrew:\n",
      "\n",
      "> Well, i'll be getting the frame to go away there at least... it's extremely difficult to track down whether or not the ticks are set to be on or off so far. But i'm pretty sure i'll be able to track that down soon. In other words, **we wouldn't need to increase the side of the data area if the frame wasn't showing in that plot**.\n",
      "\n",
      "Converting annotations from matplotlib to plotly is rather confusing. The following will hopefully shed some light on the topic.\n",
      "\n",
      "<br>"
     ]
    },
    {
     "cell_type": "code",
     "collapsed": false,
     "input": [
      "import plotly\n",
      "plotly.__version__"
     ],
     "language": "python",
     "metadata": {},
     "outputs": [
      {
       "metadata": {},
       "output_type": "pyout",
       "prompt_number": 1,
       "text": [
        "'1.1.1'"
       ]
      }
     ],
     "prompt_number": 1
    },
    {
     "cell_type": "code",
     "collapsed": false,
     "input": [
      "import plotly.plotly as py  \n",
      "import plotly.tools as tls\n",
      "from plotly.graph_objs import *"
     ],
     "language": "python",
     "metadata": {},
     "outputs": [],
     "prompt_number": 2
    },
    {
     "cell_type": "code",
     "collapsed": false,
     "input": [
      "import matplotlib.pyplot as plt\n",
      "%matplotlib inline"
     ],
     "language": "python",
     "metadata": {},
     "outputs": [],
     "prompt_number": 3
    },
    {
     "cell_type": "heading",
     "level": 3,
     "metadata": {},
     "source": [
      "1. Data-referenced annotations that are positioned over plot edge"
     ]
    },
    {
     "cell_type": "heading",
     "level": 5,
     "metadata": {},
     "source": [
      "Plotly example"
     ]
    },
    {
     "cell_type": "code",
     "collapsed": true,
     "input": [
      "data = Data([\n",
      "    Scatter(\n",
      "        x = [1,2,3],\n",
      "        y = [4,5,1]\n",
      "    )\n",
      "])\n",
      "\n",
      "layout= Layout(\n",
      "    xaxis= XAxis(\n",
      "        range=[0,4]\n",
      "    ),\n",
      "    yaxis= YAxis(\n",
      "        range=[0,5.5]\n",
      "    ),\n",
      "    annotations= Annotations([\n",
      "            Annotation(\n",
      "                xref='x1',\n",
      "                yref='y1',\n",
      "                x = 5,\n",
      "                y = 6,\n",
      "                text='out of range',\n",
      "                showarrow=False\n",
      "            ),\n",
      "            Annotation(\n",
      "                xref='paper',\n",
      "                yref='paper',\n",
      "                x = 1.1,\n",
      "                y = 1.1,\n",
      "                text='ouside plot edge\\n but still showing',\n",
      "                showarrow=False\n",
      "        )\n",
      "    ])\n",
      ")\n",
      "\n",
      "fig = Figure(data=data, layout=layout)\n",
      "\n",
      "py.iplot(fig, filename='mpl-annotations1')"
     ],
     "language": "python",
     "metadata": {},
     "outputs": [
      {
       "html": [
        "<iframe id=\"igraph\" scrolling=\"no\" style=\"border:none;\"seamless=\"seamless\" src=\"https://plot.ly/~etpinard/346\" height=\"525\" width=\"100%\"></iframe>"
       ],
       "metadata": {},
       "output_type": "display_data",
       "text": [
        "<IPython.core.display.HTML at 0x7f22f00bf650>"
       ]
      }
     ],
     "prompt_number": 4
    },
    {
     "cell_type": "markdown",
     "metadata": {},
     "source": [
      "* So, the *out of range* annotation does not show when the plot is first rendered. \n",
      "\n",
      "* But, by zooming out (out of the set axis range) we can see it."
     ]
    },
    {
     "cell_type": "heading",
     "level": 5,
     "metadata": {},
     "source": [
      "mpl example"
     ]
    },
    {
     "cell_type": "code",
     "collapsed": false,
     "input": [
      "help(plt.text)"
     ],
     "language": "python",
     "metadata": {},
     "outputs": [
      {
       "output_type": "stream",
       "stream": "stdout",
       "text": [
        "Help on function text in module matplotlib.pyplot:\n",
        "\n",
        "text(x, y, s, fontdict=None, withdash=False, **kwargs)\n",
        "    Add text to the axes.\n",
        "    \n",
        "    Add text in string *s* to axis at location *x*, *y*, data\n",
        "    coordinates.\n",
        "    \n",
        "    Parameters\n",
        "    ----------\n",
        "    s : string\n",
        "        text\n",
        "    \n",
        "    x, y : scalars\n",
        "        data coordinates\n",
        "    \n",
        "    fontdict : dictionary, optional, default: None\n",
        "        A dictionary to override the default text properties. If fontdict\n",
        "        is None, the defaults are determined by your rc parameters.\n",
        "    \n",
        "    withdash : boolean, optional, default: False\n",
        "        Creates a `~matplotlib.text.TextWithDash` instance instead of a\n",
        "        `~matplotlib.text.Text` instance.\n",
        "    \n",
        "    Other parameters\n",
        "    ----------------\n",
        "    kwargs : `~matplotlib.text.Text` properties.\n",
        "        Other miscellaneous text parameters.\n",
        "    \n",
        "    Examples\n",
        "    --------\n",
        "    Individual keyword arguments can be used to override any given\n",
        "    parameter::\n",
        "    \n",
        "        >>> text(x, y, s, fontsize=12)\n",
        "    \n",
        "    The default transform specifies that text is in data coords,\n",
        "    alternatively, you can specify text in axis coords (0,0 is\n",
        "    lower-left and 1,1 is upper-right).  The example below places\n",
        "    text in the center of the axes::\n",
        "    \n",
        "        >>> text(0.5, 0.5,'matplotlib', horizontalalignment='center',\n",
        "        ...      verticalalignment='center',\n",
        "        ...      transform=ax.transAxes)\n",
        "    \n",
        "    You can put a rectangular box around the text instance (e.g., to\n",
        "    set a background color) by using the keyword *bbox*.  *bbox* is\n",
        "    a dictionary of `~matplotlib.patches.Rectangle`\n",
        "    properties.  For example::\n",
        "    \n",
        "        >>> text(x, y, s, bbox=dict(facecolor='red', alpha=0.5))\n",
        "\n"
       ]
      }
     ],
     "prompt_number": 5
    },
    {
     "cell_type": "markdown",
     "metadata": {},
     "source": [
      "more info [here](http://matplotlib.org/users/annotations_intro.html)"
     ]
    },
    {
     "cell_type": "code",
     "collapsed": false,
     "input": [
      "fig_mpl = plt.figure()\n",
      "ax = plt.subplot(111)\n",
      "\n",
      "plt.xlim(0, 4)  \n",
      "plt.ylim(0, 5.5)  \n",
      "\n",
      "plt.text(5,6,'out of range (but showing)',\n",
      "         horizontalalignment='center')\n",
      "\n",
      "ax.annotate(\"ouside plot edge \\n(axes fraction ref)\", \n",
      "            xy=(1, 1),  xycoords='data',                # (useless w/o arrow) \n",
      "            xytext=(1.1,1.1), textcoords='axes fraction',\n",
      "            horizontalalignment='center',\n",
      "            #arrowprops=dict(facecolor='black', shrink=0.05)  # arrow\n",
      "            )\n",
      "\n",
      "plt.plot([1,2,3],[4,5,1])"
     ],
     "language": "python",
     "metadata": {},
     "outputs": [
      {
       "metadata": {},
       "output_type": "pyout",
       "prompt_number": 6,
       "text": [
        "[<matplotlib.lines.Line2D at 0x7f22f776e0d0>]"
       ]
      },
      {
       "metadata": {},
       "output_type": "display_data",
       "png": "[encoded data removed]",
       "text": [
        "<matplotlib.figure.Figure at 0x7f22f776e090>"
       ]
      }
     ],
     "prompt_number": 6
    },
    {
     "cell_type": "markdown",
     "metadata": {},
     "source": [
      "* mpl displays the data-reference annoation outside the frame by default"
     ]
    },
    {
     "cell_type": "heading",
     "level": 3,
     "metadata": {},
     "source": [
      "2. Long annotations and margins"
     ]
    },
    {
     "cell_type": "heading",
     "level": 5,
     "metadata": {},
     "source": [
      "Plotly"
     ]
    },
    {
     "cell_type": "code",
     "collapsed": false,
     "input": [
      "data = Data([\n",
      "    Scatter(\n",
      "        x = [1,2,3],\n",
      "        y = [4,5,1]\n",
      "    )\n",
      "])\n",
      "\n",
      "layout= Layout(\n",
      "    xaxis= XAxis(\n",
      "        range=[0,4]\n",
      "    ),\n",
      "    yaxis= YAxis(\n",
      "        range=[0,5.5]\n",
      "    ),\n",
      "    annotations= Annotations([\n",
      "            Annotation(\n",
      "                xref='x1',\n",
      "                yref='y1',\n",
      "                x = 3.5,\n",
      "                y = 3,\n",
      "                text='A loooooooooooooooooooooooooooooooonnnnnnnngggggggg annotation',\n",
      "                showarrow=False,\n",
      "                xanchor='left'\n",
      "            ),\n",
      "    ]),\n",
      "    showlegend=False\n",
      ")\n",
      "\n",
      "fig = Figure(data=data, layout=layout)\n",
      "\n",
      "py.iplot(fig, filename='mpl-annotations2')"
     ],
     "language": "python",
     "metadata": {},
     "outputs": [
      {
       "html": [
        "<iframe id=\"igraph\" scrolling=\"no\" style=\"border:none;\"seamless=\"seamless\" src=\"https://plot.ly/~etpinard/347\" height=\"525\" width=\"100%\"></iframe>"
       ],
       "metadata": {},
       "output_type": "display_data",
       "text": [
        "<IPython.core.display.HTML at 0x7f22d2750f10>"
       ]
      }
     ],
     "prompt_number": 7
    },
    {
     "cell_type": "markdown",
     "metadata": {},
     "source": [
      "* Long annotations span across the axis range but do not modify the margin size."
     ]
    },
    {
     "cell_type": "heading",
     "level": 5,
     "metadata": {},
     "source": [
      "matplotlib"
     ]
    },
    {
     "cell_type": "code",
     "collapsed": false,
     "input": [
      "fig_mpl = plt.figure()\n",
      "ax = plt.subplot(111)\n",
      "\n",
      "plt.xlim(0, 4)  \n",
      "plt.ylim(0, 5.5)  \n",
      "\n",
      "plt.text(3.5,3,'A loooooooooooooooooooooooooooooooonnnnnnnngggggggg annotation')\n",
      "\n",
      "plt.plot([1,2,3],[4,5,1])"
     ],
     "language": "python",
     "metadata": {},
     "outputs": [
      {
       "metadata": {},
       "output_type": "pyout",
       "prompt_number": 8,
       "text": [
        "[<matplotlib.lines.Line2D at 0x7f22d27377d0>]"
       ]
      },
      {
       "metadata": {},
       "output_type": "display_data",
       "png": "[encoded data removed]",
       "text": [
        "<matplotlib.figure.Figure at 0x7f22d1b8dcd0>"
       ]
      }
     ],
     "prompt_number": 8
    },
    {
     "cell_type": "markdown",
     "metadata": {},
     "source": [
      "* Here the margin are adjusted to make the annotation *fit*"
     ]
    },
    {
     "cell_type": "markdown",
     "metadata": {},
     "source": [
      "<br>\n",
      "<hr>\n",
      "<br>"
     ]
    },
    {
     "cell_type": "code",
     "collapsed": false,
     "input": [
      "from IPython.display import display, HTML\n",
      "import urllib2\n",
      "url = 'https://raw.githubusercontent.com/plotly/python-user-guide/master/custom.css'\n",
      "display(HTML(urllib2.urlopen(url).read()))"
     ],
     "language": "python",
     "metadata": {},
     "outputs": [
      {
       "html": [
        "<style>\n",
        "    /*body {\n",
        "        background-color: #F5F5F5;\n",
        "    }*/\n",
        "    div.cell{\n",
        "        width: 850px;\n",
        "        margin-left: 10% !important;\n",
        "        margin-right: auto;\n",
        "    }\n",
        "    h1 {\n",
        "        font-family: \"Open sans\",verdana,arial,sans-serif;\n",
        "    }\n",
        "    .text_cell_render h1 {\n",
        "        font-weight: 200;\n",
        "        font-size: 40pt;\n",
        "        line-height: 100%;\n",
        "        color:#447adb;\n",
        "        margin-bottom: 0em;\n",
        "        margin-top: 0em;\n",
        "        display: block;\n",
        "        white-space: nowrap;\n",
        "    } \n",
        "    h2 {\n",
        "        font-family: \"Open sans\",verdana,arial,sans-serif;\n",
        "        text-indent:1em;\n",
        "    }\n",
        "    .text_cell_render h2 {\n",
        "        font-weight: 200;\n",
        "        font-size: 20pt;\n",
        "        font-style: italic;\n",
        "        line-height: 100%;\n",
        "        color:#447adb;\n",
        "        margin-bottom: 1.5em;\n",
        "        margin-top: 0.5em;\n",
        "        display: block;\n",
        "        white-space: nowrap;\n",
        "    } \n",
        "    h3 {\n",
        "        font-family: \"Open sans\",verdana,arial,sans-serif;\n",
        "    }\n",
        "    .text_cell_render h3 {\n",
        "        font-weight: 300;\n",
        "        font-size: 18pt;\n",
        "        line-height: 100%;\n",
        "        color:#447adb;\n",
        "        margin-bottom: 0.5em;\n",
        "        margin-top: 2em;\n",
        "        display: block;\n",
        "        white-space: nowrap;\n",
        "    }\n",
        "    h4 {\n",
        "        font-family: \"Open sans\",verdana,arial,sans-serif;\n",
        "    }\n",
        "    .text_cell_render h4 {\n",
        "        font-weight: 300;\n",
        "        font-size: 16pt;\n",
        "        color:#447adb;\n",
        "        margin-bottom: 0.5em;\n",
        "        margin-top: 0.5em;\n",
        "        display: block;\n",
        "        white-space: nowrap;\n",
        "    }\n",
        "    h5 {\n",
        "        font-family: \"Open sans\",verdana,arial,sans-serif;\n",
        "    }\n",
        "    .text_cell_render h5 {\n",
        "        font-weight: 300;\n",
        "        font-style: normal;\n",
        "        color: #1d3b84;\n",
        "        font-size: 16pt;\n",
        "        margin-bottom: 0em;\n",
        "        margin-top: 1.5em;\n",
        "        display: block;\n",
        "        white-space: nowrap;\n",
        "    }\n",
        "    div.text_cell_render{\n",
        "        font-family: \"Open sans\",verdana,arial,sans-serif;\n",
        "        line-height: 135%;\n",
        "        font-size: 125%;\n",
        "        width:750px;\n",
        "        margin-left:auto;\n",
        "        margin-right:auto;\n",
        "        text-align:justify;\n",
        "        text-justify:inter-word;\n",
        "    }\n",
        "    div.output_subarea.output_text.output_pyout {\n",
        "        overflow-x: auto;\n",
        "        overflow-y: scroll;\n",
        "        max-height: 300px;\n",
        "    }\n",
        "    div.output_subarea.output_stream.output_stdout.output_text {\n",
        "        overflow-x: auto;\n",
        "        overflow-y: scroll;\n",
        "        max-height: 300px;\n",
        "    }\n",
        "    div.output_subarea.output_html.rendered_html {\n",
        "        overflow-x: scroll;\n",
        "        max-width: 100%;\n",
        "      /*  overflow-y: scroll; */\n",
        "      /*  max-height: 300px;   */\n",
        "    }\n",
        "    code{\n",
        "      font-size: 78%;\n",
        "    }\n",
        "    .rendered_html code{\n",
        "    background-color: transparent;\n",
        "    }\n",
        "    ul{\n",
        "        /* color:#447adb; */  \n",
        "        margin: 2em;\n",
        "    }\n",
        "    ul li{\n",
        "        padding-left: 0.5em; \n",
        "        margin-bottom: 0.5em; \n",
        "        margin-top: 0.5em; \n",
        "    }\n",
        "    ul li li{\n",
        "        padding-left: 0.2em; \n",
        "        margin-bottom: 0.2em; \n",
        "        margin-top: 0.2em; \n",
        "    }\n",
        "    ol{\n",
        "        /* color:#447adb; */  \n",
        "        margin: 2em;\n",
        "    }\n",
        "    ol li{\n",
        "        padding-left: 0.5em; \n",
        "        margin-bottom: 0.5em; \n",
        "        margin-top: 0.5em; \n",
        "    }\n",
        "    /*.prompt{\n",
        "        display: None;\n",
        "    } */\n",
        "    ul li{\n",
        "        padding-left: 0.5em; \n",
        "        margin-bottom: 0.5em; \n",
        "        margin-top: 0.2em; \n",
        "    }\n",
        "    a:link{\n",
        "       font-weight: bold;\n",
        "       color:#447adb;\n",
        "    }\n",
        "    a:visited{\n",
        "       font-weight: bold;\n",
        "       color: #1d3b84;\n",
        "    }\n",
        "    a:hover{\n",
        "       font-weight: bold;\n",
        "       color: #1d3b84;\n",
        "    }\n",
        "    a:focus{\n",
        "       font-weight: bold;\n",
        "       color:#447adb;\n",
        "    }\n",
        "    a:active{\n",
        "       font-weight: bold;\n",
        "       color:#447adb;\n",
        "    }\n",
        "    .rendered_html :link {\n",
        "       text-decoration: none; \n",
        "    }\n",
        "    .rendered_html :hover {\n",
        "       text-decoration: none; \n",
        "    }\n",
        "    .rendered_html :visited {\n",
        "      text-decoration: none;\n",
        "    }\n",
        "    .rendered_html :focus {\n",
        "      text-decoration: none;\n",
        "    }\n",
        "    .rendered_html :active {\n",
        "      text-decoration: none;\n",
        "    }\n",
        "    .warning{\n",
        "        color: rgb( 240, 20, 20 )\n",
        "    } \n",
        "    hr {\n",
        "      color: #f3f3f3;\n",
        "      background-color: #f3f3f3;\n",
        "      height: 1px;\n",
        "    }\n",
        "    blockquote{\n",
        "      display:block;\n",
        "      background: #f3f3f3;\n",
        "      font-family: \"Open sans\",verdana,arial,sans-serif;\n",
        "      width:610px;\n",
        "      padding: 15px 15px 15px 15px;\n",
        "      text-align:justify;\n",
        "      text-justify:inter-word;\n",
        "      }\n",
        "      blockquote p {\n",
        "        margin-bottom: 0;\n",
        "        line-height: 125%;\n",
        "        font-size: 100%;\n",
        "      }\n",
        "   /* element.style {\n",
        "    } */  \n",
        "</style>\n",
        "<script>\n",
        "    MathJax.Hub.Config({\n",
        "                        TeX: {\n",
        "                           extensions: [\"AMSmath.js\"]\n",
        "                           },\n",
        "                tex2jax: {\n",
        "                    inlineMath: [ [\"$\",\"$\"], [\"\\\\(\",\"\\\\)\"] ],\n",
        "                    displayMath: [ [\"$$\",\"$$\"], [\"\\\\[\",\"\\\\]\"] ]\n",
        "                },\n",
        "                displayAlign: \"center\", // Change this to \"center\" to center equations.\n",
        "                \"HTML-CSS\": {\n",
        "                    styles: {\".MathJax_Display\": {\"margin\": 4}}\n",
        "                }\n",
        "        });\n",
        "</script>\n"
       ],
       "metadata": {},
       "output_type": "display_data",
       "text": [
        "<IPython.core.display.HTML at 0x7f22d1b5aa10>"
       ]
      }
     ],
     "prompt_number": 9
    }
   ],
   "metadata": {}
  }
 ]
}