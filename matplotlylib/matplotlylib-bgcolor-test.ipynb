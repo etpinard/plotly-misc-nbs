{
 "metadata": {
  "name": "",
  "signature": "sha256:a82f8109dd39fefb4d706d6f13609fcb42533d659c85c3e5c3eed7741f1fa0ce"
 },
 "nbformat": 3,
 "nbformat_minor": 0,
 "worksheets": [
  {
   "cells": [
    {
     "cell_type": "code",
     "collapsed": false,
     "input": [
      "import matplotlib.pyplot as plt\n",
      "%matplotlib inline"
     ],
     "language": "python",
     "metadata": {},
     "outputs": [],
     "prompt_number": 2
    },
    {
     "cell_type": "code",
     "collapsed": false,
     "input": [
      "fig = plt.figure()\n",
      "\n",
      "fig.patch.set_facecolor('blue')\n",
      "fig.patch.set_alpha(0.7)\n",
      "\n",
      "ax = fig.add_subplot(111)\n",
      "\n",
      "ax.plot(range(10))\n",
      "\n",
      "ax.patch.set_facecolor('red')\n",
      "ax.patch.set_alpha(0.5)"
     ],
     "language": "python",
     "metadata": {},
     "outputs": [
      {
       "metadata": {},
       "output_type": "display_data",
       "png": "[encoded data removed]",
       "text": [
        "<matplotlib.figure.Figure at 0x7fb30c6d7490>"
       ]
      }
     ],
     "prompt_number": 7
    },
    {
     "cell_type": "code",
     "collapsed": false,
     "input": [
      "import plotly.plotly as py\n",
      "import plotly.tools as tls\n",
      "\n",
      "\n",
      "print tls.mpl_to_plotly(fig)"
     ],
     "language": "python",
     "metadata": {},
     "outputs": [
      {
       "output_type": "stream",
       "stream": "stdout",
       "text": [
        "{'layout': {'autosize': False, 'yaxis1': {'tickfont': {'size': 10.0}, 'domain': [0.0, 1.0], 'anchor': 'x1', 'ticks': 'inside', 'showgrid': False, 'range': [0.0, 9.0], 'mirror': 'ticks', 'zeroline': False, 'showline': True, 'nticks': 10, 'type': 'linear', 'side': 'left'}, 'showlegend': False, 'xaxis1': {'tickfont': {'size': 10.0}, 'domain': [0.0, 1.0], 'anchor': 'y1', 'ticks': 'inside', 'showgrid': False, 'range': [0.0, 9.0], 'mirror': 'ticks', 'zeroline': False, 'showline': True, 'nticks': 10, 'type': 'linear', 'side': 'bottom'}, 'height': 320, 'width': 480, 'hovermode': 'closest', 'margin': {'b': 40, 'r': 47, 'pad': 0, 't': 31, 'l': 60}}, 'data': [{'name': '_line0', 'yaxis': 'y1', 'y': [0.0, 1.0, 2.0, 3.0, 4.0, 5.0, 6.0, 7.0, 8.0, 9.0], 'mode': 'lines', 'xaxis': 'x1', 'x': [0.0, 1.0, 2.0, 3.0, 4.0, 5.0, 6.0, 7.0, 8.0, 9.0], 'line': {'dash': 'solid', 'width': 1.0, 'opacity': 1, 'color': '#0000FF'}, 'type': 'scatter'}]}\n"
       ]
      }
     ],
     "prompt_number": 8
    },
    {
     "cell_type": "code",
     "collapsed": false,
     "input": [
      "py.iplot_mpl(fig,filename='matplotlylib-bgcolor-test')"
     ],
     "language": "python",
     "metadata": {},
     "outputs": [
      {
       "html": [
        "<iframe id=\"igraph\" scrolling=\"no\" style=\"border:none;\"seamless=\"seamless\" src=\"https://plot.ly/~etpinard/296\" height=\"525\" width=\"100%\"></iframe>"
       ],
       "metadata": {},
       "output_type": "display_data",
       "text": [
        "<IPython.core.display.HTML at 0x7fb30bf59b10>"
       ]
      }
     ],
     "prompt_number": 9
    },
    {
     "cell_type": "code",
     "collapsed": false,
     "input": [
      "import matplotlib.pyplot as plt\n",
      "\n",
      "#fig = plt.figure()\n",
      "# --> some matplotlib functions <--\n",
      "\n",
      "# Convert matplotlib figure to plotly figure object\n",
      "fig_plotly = tls.mpl_to_plotly(fig)\n",
      "\n",
      "# Add 'plot_bgcolor' to layout\n",
      "#fig_plotly['layout'].update(plot_bgcolor='#EFECEA')\n",
      "fig_plotly['layout'].update(plot_bgcolor='navajowhite')\n",
      "\n",
      "\n",
      "# Send updated figure object to plotly\n",
      "py.iplot(fig_plotly,filename='matplotlylib-bgcolor-test1')"
     ],
     "language": "python",
     "metadata": {},
     "outputs": [
      {
       "html": [
        "<iframe id=\"igraph\" scrolling=\"no\" style=\"border:none;\"seamless=\"seamless\" src=\"https://plot.ly/~etpinard/297\" height=\"525\" width=\"100%\"></iframe>"
       ],
       "metadata": {},
       "output_type": "display_data",
       "text": [
        "<IPython.core.display.HTML at 0x7fb30bf6add0>"
       ]
      }
     ],
     "prompt_number": 16
    },
    {
     "cell_type": "code",
     "collapsed": false,
     "input": [],
     "language": "python",
     "metadata": {},
     "outputs": []
    },
    {
     "cell_type": "code",
     "collapsed": false,
     "input": [],
     "language": "python",
     "metadata": {},
     "outputs": []
    }
   ],
   "metadata": {}
  }
 ]
}