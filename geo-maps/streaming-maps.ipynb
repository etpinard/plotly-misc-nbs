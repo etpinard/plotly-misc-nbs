{
 "cells": [
  {
   "cell_type": "code",
   "execution_count": 1,
   "metadata": {
    "collapsed": false
   },
   "outputs": [],
   "source": [
    "import plotly.plotly as py\n",
    "import plotly.graph_objs as go\n",
    "import pandas as pd\n",
    "import time\n",
    "\n",
    "stream_id = \"kqo6saq4it\""
   ]
  },
  {
   "cell_type": "code",
   "execution_count": 2,
   "metadata": {
    "collapsed": true
   },
   "outputs": [],
   "source": [
    "df = pd.read_csv('https://raw.githubusercontent.com/plotly/datasets/master/2014_us_cities.csv') "
   ]
  },
  {
   "cell_type": "code",
   "execution_count": 3,
   "metadata": {
    "collapsed": false
   },
   "outputs": [],
   "source": [
    "data = go.Scattergeo(\n",
    "    mode='markers',\n",
    "    lon=df['lon'],\n",
    "    lat=df['lat'],\n",
    "    marker=dict( \n",
    "        size=[], \n",
    "        sizeref=3e4,\n",
    "        color='#d3d3d3'\n",
    "    ),\n",
    "    stream=dict(token=stream_id)\n",
    ")\n",
    "\n",
    "layout = go.Layout(\n",
    "    title='2014 US city population',\n",
    "    geo=dict(\n",
    "        scope='usa',\n",
    "        showlakes=True\n",
    "    )\n",
    ")\n",
    "\n",
    "fig = dict(data=[data], layout=layout)"
   ]
  },
  {
   "cell_type": "code",
   "execution_count": 4,
   "metadata": {
    "collapsed": false
   },
   "outputs": [
    {
     "data": {
      "text/plain": [
       "'https://plot.ly/~etpinard/7339'"
      ]
     },
     "execution_count": 4,
     "metadata": {},
     "output_type": "execute_result"
    }
   ],
   "source": [
    "py.plot(fig, filename='usa-pop-stream', auto_open=False)"
   ]
  },
  {
   "cell_type": "code",
   "execution_count": 5,
   "metadata": {
    "collapsed": true
   },
   "outputs": [],
   "source": [
    "s = py.Stream(stream_id)\n",
    "\n",
    "s.open()"
   ]
  },
  {
   "cell_type": "code",
   "execution_count": null,
   "metadata": {
    "collapsed": false
   },
   "outputs": [],
   "source": [
    "pop = df['pop']\n",
    "\n",
    "N = len(pop)\n",
    "i = 0\n",
    "\n",
    "time.sleep(5)\n",
    "\n",
    "while i<N:\n",
    "\n",
    "    s.write(dict(type='scattergeo', marker=dict(size=pop[i])))\n",
    "    i += 1\n",
    "\n",
    "    time.sleep(0.08)  # (!) plot a point every 80 ms, for smoother plotting\n",
    "\n",
    "s.close()"
   ]
  },
  {
   "cell_type": "code",
   "execution_count": null,
   "metadata": {
    "collapsed": true
   },
   "outputs": [],
   "source": []
  }
 ],
 "metadata": {
  "kernelspec": {
   "display_name": "Python 3",
   "language": "python",
   "name": "python3"
  },
  "language_info": {
   "codemirror_mode": {
    "name": "ipython",
    "version": 3
   },
   "file_extension": ".py",
   "mimetype": "text/x-python",
   "name": "python",
   "nbconvert_exporter": "python",
   "pygments_lexer": "ipython3",
   "version": "3.4.3+"
  }
 },
 "nbformat": 4,
 "nbformat_minor": 0
}
