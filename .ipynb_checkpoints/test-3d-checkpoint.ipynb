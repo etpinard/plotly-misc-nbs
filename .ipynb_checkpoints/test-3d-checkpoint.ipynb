{
 "metadata": {
  "name": "",
  "signature": "sha256:8e89eb5304fc8636dbd072cb21a370c083c750b12047f62bed667c361307ce2f"
 },
 "nbformat": 3,
 "nbformat_minor": 0,
 "worksheets": [
  {
   "cells": [
    {
     "cell_type": "heading",
     "level": 1,
     "metadata": {},
     "source": [
      "3D plots"
     ]
    },
    {
     "cell_type": "heading",
     "level": 2,
     "metadata": {},
     "source": [
      "with Plotly"
     ]
    },
    {
     "cell_type": "markdown",
     "metadata": {},
     "source": [
      "First check which Plotly version is installed on your machine:"
     ]
    },
    {
     "cell_type": "code",
     "collapsed": false,
     "input": [
      "import plotly\n",
      "\n",
      "plotly.__version__"
     ],
     "language": "python",
     "metadata": {},
     "outputs": [
      {
       "metadata": {},
       "output_type": "pyout",
       "prompt_number": 1,
       "text": [
        "'1.0.19'"
       ]
      }
     ],
     "prompt_number": 1
    },
    {
     "cell_type": "markdown",
     "metadata": {},
     "source": [
      "If not version 1.0.17 or up, please upgrade using pip:\n",
      "\n",
      "    $ pip install plotly --upgrade\n",
      "    \n",
      "or\n",
      "\n",
      "    $ sudo pip install plotly --upgrade"
     ]
    },
    {
     "cell_type": "markdown",
     "metadata": {},
     "source": [
      "Now, import the `plotly` and `tools` module and sign in using your credentials file: "
     ]
    },
    {
     "cell_type": "code",
     "collapsed": false,
     "input": [
      "import plotly.plotly as py  # (New syntax!) tools to communicate with Plotly's server\n",
      "import plotly.tools as tls  # (NEW!) useful Python/Plotly tools \n",
      "\n",
      "my_creds = tls.get_credentials_file()                  # read credentials\n",
      "py.sign_in(my_creds['username'], my_creds['api_key'])  # (New syntax!) Plotly sign in"
     ],
     "language": "python",
     "metadata": {},
     "outputs": [],
     "prompt_number": 2
    },
    {
     "cell_type": "markdown",
     "metadata": {},
     "source": [
      "> Graph objects for 3d plots have yet to be inserted in the latest version of the Plotly package; hence, we will use standard Python dictionaries and list to create our figure in this notebook. \n",
      "\n",
      "The following example is just snippet of things to come."
     ]
    },
    {
     "cell_type": "heading",
     "level": 3,
     "metadata": {},
     "source": [
      "1. A 3D Gaussian surface"
     ]
    },
    {
     "cell_type": "markdown",
     "metadata": {},
     "source": [
      "Let's start by making a simple 3D Gaussian surface (the below function was inspired by this <a href=\"http://stackoverflow.com/questions/7687679/how-to-generate-2d-gaussian-with-python#answer-14525830\" target=\"_blank\">stackoverflow answer</a>, thanks)."
     ]
    },
    {
     "cell_type": "code",
     "collapsed": false,
     "input": [
      "import numpy as np\n",
      " \n",
      "def makeGaussian(A, L, fwhm = 3, center=None):\n",
      "    \"\"\" Make a square gaussian kernel.\n",
      " \n",
      "    A is the amplitude of the curve\n",
      "    L is the length of a side of the square\n",
      "    fwhm is full-width-half-maximum, which\n",
      "    can be thought of as an effective radius.\n",
      "    \"\"\"\n",
      " \n",
      "    x = np.arange(0, L, 0.1, float)\n",
      "    y = x[:,np.newaxis]\n",
      "    \n",
      "    if center is None:\n",
      "        x0 = y0 = L // 2\n",
      "    else:\n",
      "        x0 = center[0]\n",
      "        y0 = center[1]\n",
      "    \n",
      "    return A*np.exp(-4*np.log(2) * ((x-x0)**2 + (y-y0)**2) / fwhm**2)"
     ],
     "language": "python",
     "metadata": {},
     "outputs": [],
     "prompt_number": 3
    },
    {
     "cell_type": "code",
     "collapsed": false,
     "input": [
      "A = 10  # choose a maximum amplitude\n",
      "L = 8   # choose length of square domain\n",
      "\n",
      "# Get coordinate arrays\n",
      "z = makeGaussian(A,L)"
     ],
     "language": "python",
     "metadata": {},
     "outputs": [],
     "prompt_number": 4
    },
    {
     "cell_type": "code",
     "collapsed": false,
     "input": [
      "# Print shape of z\n",
      "z.shape "
     ],
     "language": "python",
     "metadata": {},
     "outputs": [
      {
       "metadata": {},
       "output_type": "pyout",
       "prompt_number": 5,
       "text": [
        "(80, 80)"
       ]
      }
     ],
     "prompt_number": 5
    },
    {
     "cell_type": "markdown",
     "metadata": {},
     "source": [
      "Then, build a trace dictionary containing the surface plot type:"
     ]
    },
    {
     "cell_type": "code",
     "collapsed": false,
     "input": [
      "my_surface = dict(z=z,            # z coords, a 2D array\n",
      "                  type='surface', # N.B. 'surface' plot type\n",
      "                  )"
     ],
     "language": "python",
     "metadata": {},
     "outputs": [],
     "prompt_number": 6
    },
    {
     "cell_type": "markdown",
     "metadata": {},
     "source": [
      "Make a correponding figure dictionary:"
     ]
    },
    {
     "cell_type": "code",
     "collapsed": false,
     "input": [
      "my_fig = dict(data=[my_surface])  # N.B. value link to 'data' must be a list\n",
      "\n",
      "my_fig  # print figure dictionary below"
     ],
     "language": "python",
     "metadata": {},
     "outputs": [
      {
       "metadata": {},
       "output_type": "pyout",
       "prompt_number": 7,
       "text": [
        "{'data': [{'type': 'surface',\n",
        "   'z': array([[ 0.00052322,  0.00066739,  0.00084606, ...,  0.00106596,\n",
        "            0.00084606,  0.00066739],\n",
        "          [ 0.00066739,  0.00085128,  0.00107918, ...,  0.00135968,\n",
        "            0.00107918,  0.00085128],\n",
        "          [ 0.00084606,  0.00107918,  0.00136808, ...,  0.00172368,\n",
        "            0.00136808,  0.00107918],\n",
        "          ..., \n",
        "          [ 0.00106596,  0.00135968,  0.00172368, ...,  0.0021717 ,\n",
        "            0.00172368,  0.00135968],\n",
        "          [ 0.00084606,  0.00107918,  0.00136808, ...,  0.00172368,\n",
        "            0.00136808,  0.00107918],\n",
        "          [ 0.00066739,  0.00085128,  0.00107918, ...,  0.00135968,\n",
        "            0.00107918,  0.00085128]])}]}"
       ]
      }
     ],
     "prompt_number": 7
    },
    {
     "cell_type": "markdown",
     "metadata": {},
     "source": [
      "We are now ready to send the figure dictionary (or figure object) to Plotly. As graph objects for 3D plots are missing for the current release of the Plotly package, we must turn off the automatic key-value validation by adding the `validate=False` keyword argument in the `py.plot()` call. Otherwise, we would get an error and no plot.\n",
      "\n",
      "So,"
     ]
    },
    {
     "cell_type": "code",
     "collapsed": false,
     "input": [
      "py.plot(my_fig, validate=False, filename='test-3d')"
     ],
     "language": "python",
     "metadata": {},
     "outputs": [
      {
       "metadata": {},
       "output_type": "pyout",
       "prompt_number": 8,
       "text": [
        "u'https://plot.ly/~etpinard/234'"
       ]
      }
     ],
     "prompt_number": 8
    },
    {
     "cell_type": "markdown",
     "metadata": {},
     "source": [
      "Where the above is the unique URL corresponding to our Plotly plot.\n",
      "\n",
      "Or, inside an IPython notebook, use:"
     ]
    },
    {
     "cell_type": "code",
     "collapsed": false,
     "input": [
      "py.iplot(my_fig, validate=False, filename='test-3d')"
     ],
     "language": "python",
     "metadata": {},
     "outputs": [
      {
       "html": [
        "<iframe id=\"igraph\" scrolling=\"no\" style=\"border:none;\"seamless=\"seamless\" src=\"https://plot.ly/~etpinard/234\" height=\"525\" width=\"100%\"></iframe>"
       ],
       "metadata": {},
       "output_type": "display_data",
       "text": [
        "<IPython.core.display.HTML at 0x7fedf1b5df50>"
       ]
      }
     ],
     "prompt_number": 9
    },
    {
     "cell_type": "markdown",
     "metadata": {},
     "source": [
      "*And there you go.* An interactive 3D plot from Plotly."
     ]
    },
    {
     "cell_type": "heading",
     "level": 3,
     "metadata": {},
     "source": [
      "2. 3D random scatter"
     ]
    },
    {
     "cell_type": "markdown",
     "metadata": {},
     "source": [
      "Next, let's make a 3D scatter plot of random numbers"
     ]
    },
    {
     "cell_type": "code",
     "collapsed": false,
     "input": [
      "my_scatter3d = dict(x=np.random.rand(50),  # x coords \n",
      "                    y=np.random.rand(50),  # y coords \n",
      "                    z=np.random.rand(50),  # z coords \n",
      "                    type='scatter3d',      # N.B. 'scatter3d' plot type\n",
      "                    )"
     ],
     "language": "python",
     "metadata": {},
     "outputs": [],
     "prompt_number": 10
    },
    {
     "cell_type": "code",
     "collapsed": false,
     "input": [
      "my_fig = dict(data=[my_scatter3d])  # N.B. value link to 'data' must be a list\n",
      "\n",
      "my_fig"
     ],
     "language": "python",
     "metadata": {},
     "outputs": [
      {
       "metadata": {},
       "output_type": "pyout",
       "prompt_number": 11,
       "text": [
        "{'data': [{'type': 'scatter3d',\n",
        "   'x': array([ 0.90891063,  0.66495489,  0.42536839,  0.73446836,  0.92028244,\n",
        "           0.15901418,  0.95075856,  0.08652361,  0.60609082,  0.62593319,\n",
        "           0.67771766,  0.72482683,  0.7431216 ,  0.06357979,  0.56048281,\n",
        "           0.23627947,  0.66447963,  0.51306179,  0.70917052,  0.77437643,\n",
        "           0.5170396 ,  0.62786638,  0.43246615,  0.80702958,  0.74298939,\n",
        "           0.94450533,  0.73586829,  0.17058953,  0.30408492,  0.36281235,\n",
        "           0.26037782,  0.53388127,  0.401091  ,  0.54285035,  0.12482553,\n",
        "           0.76104236,  0.67894581,  0.80438958,  0.4528201 ,  0.02626623,\n",
        "           0.55937506,  0.25304773,  0.57409613,  0.28472371,  0.22327665,\n",
        "           0.74942565,  0.45285706,  0.14486434,  0.42879803,  0.21545253]),\n",
        "   'y': array([ 0.16491877,  0.42499136,  0.40704121,  0.91350253,  0.59336859,\n",
        "           0.01719267,  0.16700364,  0.64304314,  0.55497295,  0.28612511,\n",
        "           0.78403632,  0.72630749,  0.26845661,  0.27790411,  0.32381544,\n",
        "           0.44838693,  0.68614402,  0.13128439,  0.84270861,  0.8992895 ,\n",
        "           0.65559962,  0.36223201,  0.54981769,  0.7489496 ,  0.56760058,\n",
        "           0.25887289,  0.03351865,  0.64961158,  0.97513919,  0.79645385,\n",
        "           0.02564121,  0.99391304,  0.52128273,  0.3237757 ,  0.220231  ,\n",
        "           0.49120419,  0.10130706,  0.62622458,  0.25782746,  0.68324434,\n",
        "           0.90646088,  0.58050968,  0.19334138,  0.93992663,  0.77481758,\n",
        "           0.9418977 ,  0.72775942,  0.2439782 ,  0.07899829,  0.13749408]),\n",
        "   'z': array([ 0.64323269,  0.80533082,  0.07076433,  0.16011959,  0.87599579,\n",
        "           0.26219927,  0.12650942,  0.64844385,  0.4876765 ,  0.07399142,\n",
        "           0.86502568,  0.1456915 ,  0.41047598,  0.03456356,  0.91468817,\n",
        "           0.80083334,  0.77151516,  0.62834246,  0.37431752,  0.94174073,\n",
        "           0.53531856,  0.46071303,  0.98216146,  0.36411092,  0.89080965,\n",
        "           0.91281308,  0.71035728,  0.22081817,  0.54085976,  0.94140168,\n",
        "           0.30783964,  0.12436135,  0.52390685,  0.96123641,  0.65408168,\n",
        "           0.71531631,  0.75431791,  0.19176365,  0.66286671,  0.53331073,\n",
        "           0.92744481,  0.67545827,  0.03196769,  0.89444475,  0.66895663,\n",
        "           0.38314529,  0.03310145,  0.11261851,  0.02207369,  0.50573115])}]}"
       ]
      }
     ],
     "prompt_number": 11
    },
    {
     "cell_type": "code",
     "collapsed": false,
     "input": [
      "py.plot(my_fig, validate=False, filename='test-3d-scatter')"
     ],
     "language": "python",
     "metadata": {},
     "outputs": [
      {
       "metadata": {},
       "output_type": "pyout",
       "prompt_number": 12,
       "text": [
        "u'https://plot.ly/~etpinard/263'"
       ]
      }
     ],
     "prompt_number": 12
    },
    {
     "cell_type": "code",
     "collapsed": false,
     "input": [
      "py.iplot(my_fig, validate=False, filename='test-3d-scatter')"
     ],
     "language": "python",
     "metadata": {},
     "outputs": [
      {
       "html": [
        "<iframe id=\"igraph\" scrolling=\"no\" style=\"border:none;\"seamless=\"seamless\" src=\"https://plot.ly/~etpinard/263\" height=\"525\" width=\"100%\"></iframe>"
       ],
       "metadata": {},
       "output_type": "display_data",
       "text": [
        "<IPython.core.display.HTML at 0x7fee0c13eb90>"
       ]
      }
     ],
     "prompt_number": 13
    },
    {
     "cell_type": "markdown",
     "metadata": {},
     "source": [
      "<div style=\"float:right; \\\">\n",
      "    <img src=\"http://i.imgur.com/4vwuxdJ.png\" \n",
      " align=right style=\"float:right; margin-left: 5px; margin-top: -10px\" />\n",
      "</div>\n",
      "\n",
      "<h4 style=\"padding-top:60px;\">Got Questions or Feedback? </h4>\n",
      "\n",
      "About <a href=\"https://plot.ly\" target=\"_blank\">Plotly</a>\n",
      "\n",
      "* email: feedback@plot.ly \n",
      "* tweet: \n",
      "<a href=\"https://twitter.com/plotlygraphs\" target=\"_blank\">@plotlygraphs</a>\n",
      "\n",
      "<h4 style=\"margin-top:50px;\">Notebook styling ideas</h4>\n",
      "\n",
      "Big thanks to\n",
      "\n",
      "* <a href=\"http://nbviewer.ipython.org/github/CamDavidsonPilon/Probabilistic-Programming-and-Bayesian-Methods-for-Hackers/blob/master/Prologue/Prologue.ipynb\" target=\"_blank\">Cam Davidson-Pilon</a>\n",
      "* <a href=\"http://lorenabarba.com/blog/announcing-aeropython/#.U1ULXdX1LJ4.google_plusone_share\" target=\"_blank\">Lorena A. Barba</a>\n",
      "\n",
      "<br>"
     ]
    },
    {
     "cell_type": "code",
     "collapsed": false,
     "input": [
      "# CSS styling within IPython notebook\n",
      "from IPython.core.display import HTML\n",
      "def css_styling():\n",
      "    styles = open(\"../../python-user-guide/custom.css\", \"r\").read()\n",
      "    return HTML(styles)\n",
      "css_styling()"
     ],
     "language": "python",
     "metadata": {},
     "outputs": [
      {
       "html": [
        "<style>\n",
        "    /*body {\n",
        "        background-color: #F5F5F5;\n",
        "    }*/\n",
        "    div.cell{\n",
        "        width: 850px;\n",
        "        margin-left: 10% !important;\n",
        "        margin-right: auto;\n",
        "    }\n",
        "    h1 {\n",
        "        font-family: \"Open sans\",verdana,arial,sans-serif;\n",
        "    }\n",
        "    .text_cell_render h1 {\n",
        "        font-weight: 200;\n",
        "        font-size: 40pt;\n",
        "        line-height: 100%;\n",
        "        color:#447adb;\n",
        "        margin-bottom: 0em;\n",
        "        margin-top: 0em;\n",
        "        display: block;\n",
        "        white-space: nowrap;\n",
        "    } \n",
        "    h2 {\n",
        "        font-family: \"Open sans\",verdana,arial,sans-serif;\n",
        "        text-indent:1em;\n",
        "    }\n",
        "    .text_cell_render h2 {\n",
        "        font-weight: 200;\n",
        "        font-size: 20pt;\n",
        "        font-style: italic;\n",
        "        line-height: 100%;\n",
        "        color:#447adb;\n",
        "        margin-bottom: 1.5em;\n",
        "        margin-top: 0.5em;\n",
        "        display: block;\n",
        "        white-space: nowrap;\n",
        "    } \n",
        "    h3 {\n",
        "        font-family: \"Open sans\",verdana,arial,sans-serif;\n",
        "    }\n",
        "    .text_cell_render h3 {\n",
        "        font-weight: 300;\n",
        "        font-size: 18pt;\n",
        "        line-height: 100%;\n",
        "        color:#447adb;\n",
        "        margin-bottom: 0.5em;\n",
        "        margin-top: 2em;\n",
        "        display: block;\n",
        "        white-space: nowrap;\n",
        "    }\n",
        "    h4 {\n",
        "        font-family: \"Open sans\",verdana,arial,sans-serif;\n",
        "    }\n",
        "    .text_cell_render h4 {\n",
        "        font-weight: 300;\n",
        "        font-size: 16pt;\n",
        "        color:#447adb;\n",
        "        margin-bottom: 0.5em;\n",
        "        margin-top: 0.5em;\n",
        "        display: block;\n",
        "        white-space: nowrap;\n",
        "    }\n",
        "    h5 {\n",
        "        font-family: \"Open sans\",verdana,arial,sans-serif;\n",
        "    }\n",
        "    .text_cell_render h5 {\n",
        "        font-weight: 300;\n",
        "        font-style: normal;\n",
        "        color: #1d3b84;\n",
        "        font-size: 16pt;\n",
        "        margin-bottom: 0em;\n",
        "        margin-top: 1.5em;\n",
        "        display: block;\n",
        "        white-space: nowrap;\n",
        "    }\n",
        "    div.text_cell_render{\n",
        "        font-family: \"Open sans\",verdana,arial,sans-serif;\n",
        "        line-height: 135%;\n",
        "        font-size: 125%;\n",
        "        width:750px;\n",
        "        margin-left:auto;\n",
        "        margin-right:auto;\n",
        "        text-align:justify;\n",
        "        text-justify:inter-word;\n",
        "    }\n",
        "    div.output_subarea.output_text.output_pyout {\n",
        "        overflow-x: auto;\n",
        "        overflow-y: scroll;\n",
        "        max-height: 300px;\n",
        "    }\n",
        "    div.output_subarea.output_stream.output_stdout.output_text {\n",
        "        overflow-x: auto;\n",
        "        overflow-y: scroll;\n",
        "        max-height: 300px;\n",
        "    }\n",
        "    code{\n",
        "      font-size: 78%;\n",
        "    }\n",
        "    .rendered_html code{\n",
        "    background-color: transparent;\n",
        "    }\n",
        "    ul{\n",
        "        /* color:#447adb; */  // colors text too\n",
        "        margin: 2em;\n",
        "    }\n",
        "    ul li{\n",
        "        padding-left: 0.5em; \n",
        "        margin-bottom: 0.5em; \n",
        "        margin-top: 0.5em; \n",
        "    }\n",
        "    ul li li{\n",
        "        padding-left: 0.2em; \n",
        "        margin-bottom: 0.2em; \n",
        "        margin-top: 0.2em; \n",
        "    }\n",
        "    ol{\n",
        "        /* color:#447adb; */  // colors text too\n",
        "        margin: 2em;\n",
        "    }\n",
        "    ol li{\n",
        "        padding-left: 0.5em; \n",
        "        margin-bottom: 0.5em; \n",
        "        margin-top: 0.5em; \n",
        "    }\n",
        "    /*.prompt{\n",
        "        display: None;\n",
        "    } */\n",
        "    ul li{\n",
        "        padding-left: 0.5em; \n",
        "        margin-bottom: 0.5em; \n",
        "        margin-top: 0.2em; \n",
        "    }\n",
        "    a:link{\n",
        "       font-weight: bold;\n",
        "       color:#447adb;\n",
        "    }\n",
        "    a:visited{\n",
        "       font-weight: bold;\n",
        "       color: #1d3b84;\n",
        "    }\n",
        "    a:hover{\n",
        "       font-weight: bold;\n",
        "       color: #1d3b84;\n",
        "    }\n",
        "    a:focus{\n",
        "       font-weight: bold;\n",
        "       color:#447adb;\n",
        "    }\n",
        "    a:active{\n",
        "       font-weight: bold;\n",
        "       color:#447adb;\n",
        "    }\n",
        "    .rendered_html :link {\n",
        "       text-decoration: none; \n",
        "    }\n",
        "    .rendered_html :hover {\n",
        "       text-decoration: none; \n",
        "    }\n",
        "    .rendered_html :visited {\n",
        "      text-decoration: none;\n",
        "    }\n",
        "    .rendered_html :focus {\n",
        "      text-decoration: none;\n",
        "    }\n",
        "    .rendered_html :active {\n",
        "      text-decoration: none;\n",
        "    }\n",
        "    .warning{\n",
        "        color: rgb( 240, 20, 20 )\n",
        "    } \n",
        "    hr {\n",
        "      color: #f3f3f3;\n",
        "      background-color: #f3f3f3;\n",
        "      height: 1px;\n",
        "    }\n",
        "    blockquote{\n",
        "      display:block;\n",
        "      background: #f3f3f3;\n",
        "      font-family: \"Open sans\",verdana,arial,sans-serif;\n",
        "      width:610px;\n",
        "      padding: 15px 15px 15px 15px;\n",
        "      text-align:justify;\n",
        "      text-justify:inter-word;\n",
        "      }\n",
        "      blockquote p {\n",
        "        margin-bottom: 0;\n",
        "        line-height: 125%;\n",
        "        font-size: 100%;\n",
        "      }\n",
        "   /* element.style {\n",
        "    } */  \n",
        "</style>\n",
        "<script>\n",
        "    MathJax.Hub.Config({\n",
        "                        TeX: {\n",
        "                           extensions: [\"AMSmath.js\"]\n",
        "                           },\n",
        "                tex2jax: {\n",
        "                    inlineMath: [ [\"$\",\"$\"], [\"\\\\(\",\"\\\\)\"] ],\n",
        "                    displayMath: [ [\"$$\",\"$$\"], [\"\\\\[\",\"\\\\]\"] ]\n",
        "                },\n",
        "                displayAlign: \"center\", // Change this to \"center\" to center equations.\n",
        "                \"HTML-CSS\": {\n",
        "                    styles: {\".MathJax_Display\": {\"margin\": 4}}\n",
        "                }\n",
        "        });\n",
        "</script>\n"
       ],
       "metadata": {},
       "output_type": "pyout",
       "prompt_number": 14,
       "text": [
        "<IPython.core.display.HTML at 0x7fedf0fc06d0>"
       ]
      }
     ],
     "prompt_number": 14
    },
    {
     "cell_type": "code",
     "collapsed": false,
     "input": [],
     "language": "python",
     "metadata": {},
     "outputs": [],
     "prompt_number": 14
    }
   ],
   "metadata": {}
  }
 ]
}