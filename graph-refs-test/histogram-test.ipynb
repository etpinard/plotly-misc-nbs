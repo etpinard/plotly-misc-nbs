{
 "metadata": {
  "name": "",
  "signature": "sha256:32431f8355f8ba1420fc61ef0fe92c2f1cff2fd79359dfaefc3667e1aa467471"
 },
 "nbformat": 3,
 "nbformat_minor": 0,
 "worksheets": [
  {
   "cells": [
    {
     "cell_type": "heading",
     "level": 1,
     "metadata": {},
     "source": [
      "Plotly Python API verison 1.0 tests"
     ]
    },
    {
     "cell_type": "markdown",
     "metadata": {},
     "source": [
      "Set up the Python API:"
     ]
    },
    {
     "cell_type": "code",
     "collapsed": false,
     "input": [
      "import plotly.plotly as py  # (New syntax!) tools to communicate with Plotly's server\n",
      "import plotly.tools as tls  # (NEW!) useful Python/Plotly tools \n",
      "\n",
      "# (NEW!) objects to piece together plots\n",
      "from plotly.graph_objs import Data, Layout, Figure\n",
      "\n",
      "import numpy as np  # numpy (for math functions and arrays, here)\n",
      "\n",
      "my_creds = tls.get_credentials_file()                  # read credentials\n",
      "py.sign_in(my_creds['username'], my_creds['api_key'])  # (New syntax!) Plotly sign in\n",
      "\n",
      "# Check Plolty version (if not 1.0, please upgrade)\n",
      "py.__version__"
     ],
     "language": "python",
     "metadata": {},
     "outputs": [
      {
       "metadata": {},
       "output_type": "pyout",
       "prompt_number": 2,
       "text": [
        "'1.0.0'"
       ]
      }
     ],
     "prompt_number": 2
    },
    {
     "cell_type": "heading",
     "level": 2,
     "metadata": {},
     "source": [
      "CORRECTION: Opacity works in Bar Charts as a data-level key"
     ]
    },
    {
     "cell_type": "markdown",
     "metadata": {},
     "source": [
      "Code adapted from the User Guide's section 4 (Histograms and Box plots). See in nbviewer [here](http://nbviewer.ipython.org/github/etpinard/plotly-python-doc/tree/1.0/s4_histograms/s4_histograms.ipynb)."
     ]
    },
    {
     "cell_type": "code",
     "collapsed": false,
     "input": [
      "# Make data\n",
      "midterm = np.random.rand(60)*100\n",
      "final = np.random.rand(65)*100"
     ],
     "language": "python",
     "metadata": {},
     "outputs": [],
     "prompt_number": 3
    },
    {
     "cell_type": "code",
     "collapsed": false,
     "input": [
      "# (*) Graph objects required for the following plot\n",
      "from plotly.graph_objs import Bar, Histogramx, Marker, Font, XAxis, YAxis, Legend\n",
      "\n",
      "#help(Histogramx)"
     ],
     "language": "python",
     "metadata": {},
     "outputs": [],
     "prompt_number": 4
    },
    {
     "cell_type": "code",
     "collapsed": false,
     "input": [
      "# Trace-generating function (return and Bar object)\n",
      "def make_trace(x_in,y_in,name_in,col_in):\n",
      "    y_in_cnt = len(y_in[~np.isnan(y_in)])     # find number of non-NaNs grades\n",
      "    my_text = \" (\"+str(y_in_cnt)+\" grades)\"   # add to legend and hover text\n",
      "    return Bar(x=x_in,                 # \n",
      "               y=y_in,     # default value\n",
      "               name=name_in+my_text,   #\n",
      "               opacity=0.5,    # **** opacity value (at the data level) ****\n",
      "               marker= Marker(color=col_in)    # bar color             \n",
      "               )\n",
      "\n",
      "# Define colors for the midterm and final histograms\n",
      "col_midterm = 'rgb(72,120,207.1)'\n",
      "col_final = 'rgb(106,204,101)'\n",
      "\n",
      "# Make data object\n",
      "my_data = Data([make_trace(range(len(midterm)),midterm,'Midterm',col_midterm),\n",
      "                make_trace(range(len(final)),final,'Final',col_final)])\n",
      "\n",
      "# Make layout object\n",
      "my_layout = Layout(barmode='overlay',         # N.B. overlay barmode\n",
      "                   title='API-v1-test<br>\\\n",
      "                          Opacity work with bar charts<br>\\\n",
      "                          but at the data level',\n",
      "                  font= Font(family='Georgia, serif',     # set global font family\n",
      "                             color='#635F5D'),            #   and color\n",
      "                   plot_bgcolor='#EFECEA',                # set plot color to grey\n",
      "                   xaxis= XAxis(title='Grade [%]'),\n",
      "                   yaxis= YAxis(title='Count'),\n",
      "                   legend= Legend(x=0, y=100)   # legend at upper left corner\n",
      "                  ) \n",
      "\n",
      "# Set axis option to both axes \n",
      "my_axes = {'zeroline': False,       # remove thick zero line\n",
      "           'gridcolor': '#FFFFFF',  # white grid lines\n",
      "           'ticks': 'outside',      # draw ticks outside axes \n",
      "           'ticklen': 8,            # tick length\n",
      "           'tickwidth': 1.5}        #   and width\n",
      "           \n",
      "my_layout['xaxis'].update(my_axes)\n",
      "my_layout['yaxis'].update(my_axes)\n",
      "\n",
      "# Make Figure object, send to Plotly and show in notebook\n",
      "fig = Figure(data=my_data, layout=my_layout)\n",
      "py.iplot(fig, filename='api-v1-test-bar-opacity')"
     ],
     "language": "python",
     "metadata": {},
     "outputs": [
      {
       "html": [
        "<iframe id=\"igraph\" scrolling=\"no\" style=\"border:none;\"seamless=\"seamless\" src=\"https://plot.ly/~etpinard/155\" height=\"525\" width=\"100%\"></iframe>"
       ],
       "metadata": {},
       "output_type": "pyout",
       "prompt_number": 8,
       "text": [
        "<IPython.core.display.HTML at 0x35b1cd0>"
       ]
      }
     ],
     "prompt_number": 8
    },
    {
     "cell_type": "heading",
     "level": 2,
     "metadata": {},
     "source": [
      "Opacity does NOT work in histograms (even at the data-level)"
     ]
    },
    {
     "cell_type": "markdown",
     "metadata": {},
     "source": [
      "Opacity is a valid key in the Marker graph objects. \n",
      "\n",
      "Below, it is set inside the make_trace() function, but does not affect the generated Plotly plot:"
     ]
    },
    {
     "cell_type": "code",
     "collapsed": false,
     "input": [
      "# Trace-generating function (return and Histogramx object)\n",
      "def make_trace(x_in,name_in,col_in):\n",
      "    x_in_cnt = len(x_in[~np.isnan(x_in)])     # find number of non-NaNs grades\n",
      "    my_text = \" (\"+str(x_in_cnt)+\" grades)\"   # add to legend and hover text\n",
      "    return Histogramx(x=x_in,                 # \n",
      "                      histnorm='count',       # default value\n",
      "                      name=name_in+my_text,   #\n",
      "               #       opacity=0.75,           # **** opacity value (an invalid key here)\n",
      "                      marker= Marker(color=col_in,    # bar color\n",
      "                                     opacity=0.5    # **** opacity value ****\n",
      "                                     )   \n",
      "                     )\n",
      "\n",
      "\n",
      "# Make data object\n",
      "my_data = Data([make_trace(midterm,'Midterm',col_midterm),\n",
      "                make_trace(final,'Final',col_final)])\n",
      "\n",
      "# Update title\n",
      "my_layout.update({'title': 'API-v1-test<br><b>Opacity does not work in histograms</b>'})\n",
      "                           \n",
      "# Make Figure object, send to Plotly and show in notebook\n",
      "fig = Figure(data=my_data, layout=my_layout)\n",
      "py.iplot(fig, filename='api-v1-test_histogram-opacity')"
     ],
     "language": "python",
     "metadata": {},
     "outputs": [
      {
       "html": [
        "<iframe id=\"igraph\" scrolling=\"no\" style=\"border:none;\"seamless=\"seamless\" src=\"https://plot.ly/~etpinard/154\" height=\"525\" width=\"100%\"></iframe>"
       ],
       "metadata": {},
       "output_type": "pyout",
       "prompt_number": 10,
       "text": [
        "<IPython.core.display.HTML at 0x359f750>"
       ]
      }
     ],
     "prompt_number": 10
    },
    {
     "cell_type": "markdown",
     "metadata": {},
     "source": [
      "**Opacity is not a valid key in Histogramx at the data level**:"
     ]
    },
    {
     "cell_type": "code",
     "collapsed": false,
     "input": [
      "#tmp_data = Histogramx(x=[1,2,3],opacity=0.6)"
     ],
     "language": "python",
     "metadata": {},
     "outputs": [
      {
       "ename": "PlotlyInvalidKeyError",
       "evalue": "Invalid key, 'opacity', for class, '<class 'plotly.graph_objs.Histogramx'>'\n\nThat key is valid only in these objects:\n\n\tTrace(opacity='..')\n\tScatter(opacity='number: x in [0, 1]')\n\tBar(opacity='number: x in [0, 1]')\n\tAnnotation(opacity='number: x in [0, 1]')\n\tErrorY(opacity='number: x in [0, 1]')\n\tLine(opacity='..')\n\tMarker(opacity='..')\n",
       "output_type": "pyerr",
       "traceback": [
        "\u001b[1;31m---------------------------------------------------------------------------\u001b[0m\n\u001b[1;31mPlotlyInvalidKeyError\u001b[0m                     Traceback (most recent call last)",
        "\u001b[1;32m<ipython-input-31-502bcce75015>\u001b[0m in \u001b[0;36m<module>\u001b[1;34m()\u001b[0m\n\u001b[1;32m----> 1\u001b[1;33m \u001b[0mtmp_data\u001b[0m \u001b[1;33m=\u001b[0m \u001b[0mHistogramx\u001b[0m\u001b[1;33m(\u001b[0m\u001b[0mx\u001b[0m\u001b[1;33m=\u001b[0m\u001b[1;33m[\u001b[0m\u001b[1;36m1\u001b[0m\u001b[1;33m,\u001b[0m\u001b[1;36m2\u001b[0m\u001b[1;33m,\u001b[0m\u001b[1;36m3\u001b[0m\u001b[1;33m]\u001b[0m\u001b[1;33m,\u001b[0m\u001b[0mopacity\u001b[0m\u001b[1;33m=\u001b[0m\u001b[1;36m0.6\u001b[0m\u001b[1;33m)\u001b[0m\u001b[1;33m\u001b[0m\u001b[0m\n\u001b[0m",
        "\u001b[1;32m/home/etienne/.virtualenvs/plotly-api1.0/lib/python2.7/site-packages/plotly/graph_objs.pyc\u001b[0m in \u001b[0;36m__init__\u001b[1;34m(self, *args, **kwargs)\u001b[0m\n\u001b[0;32m    741\u001b[0m     \"\"\"\n\u001b[0;32m    742\u001b[0m     \u001b[1;32mdef\u001b[0m \u001b[0m__init__\u001b[0m\u001b[1;33m(\u001b[0m\u001b[0mself\u001b[0m\u001b[1;33m,\u001b[0m \u001b[1;33m*\u001b[0m\u001b[0margs\u001b[0m\u001b[1;33m,\u001b[0m \u001b[1;33m**\u001b[0m\u001b[0mkwargs\u001b[0m\u001b[1;33m)\u001b[0m\u001b[1;33m:\u001b[0m\u001b[1;33m\u001b[0m\u001b[0m\n\u001b[1;32m--> 743\u001b[1;33m         \u001b[0msuper\u001b[0m\u001b[1;33m(\u001b[0m\u001b[0m_PlotlyTrace\u001b[0m\u001b[1;33m,\u001b[0m \u001b[0mself\u001b[0m\u001b[1;33m)\u001b[0m\u001b[1;33m.\u001b[0m\u001b[0m__init__\u001b[0m\u001b[1;33m(\u001b[0m\u001b[1;33m*\u001b[0m\u001b[0margs\u001b[0m\u001b[1;33m,\u001b[0m \u001b[1;33m**\u001b[0m\u001b[0mkwargs\u001b[0m\u001b[1;33m)\u001b[0m\u001b[1;33m\u001b[0m\u001b[0m\n\u001b[0m\u001b[0;32m    744\u001b[0m         \u001b[1;32mif\u001b[0m \u001b[0mself\u001b[0m\u001b[1;33m.\u001b[0m\u001b[0m__class__\u001b[0m\u001b[1;33m.\u001b[0m\u001b[0m__name__\u001b[0m \u001b[1;33m==\u001b[0m \u001b[1;34m'_PlotlyTrace'\u001b[0m\u001b[1;33m:\u001b[0m\u001b[1;33m\u001b[0m\u001b[0m\n\u001b[0;32m    745\u001b[0m             _warnings.warn(\"\\nThe _PlotlyTrace class is a base class of \"\n",
        "\u001b[1;32m/home/etienne/.virtualenvs/plotly-api1.0/lib/python2.7/site-packages/plotly/graph_objs.pyc\u001b[0m in \u001b[0;36m__init__\u001b[1;34m(self, *args, **kwargs)\u001b[0m\n\u001b[0;32m    400\u001b[0m             \u001b[1;32mif\u001b[0m \u001b[1;33m(\u001b[0m\u001b[0mclass_name\u001b[0m \u001b[1;33m!=\u001b[0m \u001b[1;34m'_PlotlyTrace'\u001b[0m\u001b[1;33m)\u001b[0m \u001b[1;32mand\u001b[0m \u001b[1;33m(\u001b[0m\u001b[0mclass_name\u001b[0m \u001b[1;33m!=\u001b[0m \u001b[1;34m'Trace'\u001b[0m\u001b[1;33m)\u001b[0m\u001b[1;33m:\u001b[0m\u001b[1;33m\u001b[0m\u001b[0m\n\u001b[0;32m    401\u001b[0m                 \u001b[0mself\u001b[0m\u001b[1;33m[\u001b[0m\u001b[1;34m'type'\u001b[0m\u001b[1;33m]\u001b[0m \u001b[1;33m=\u001b[0m \u001b[0m_NAME_TO_KEY\u001b[0m\u001b[1;33m[\u001b[0m\u001b[0mclass_name\u001b[0m\u001b[1;33m]\u001b[0m\u001b[1;33m\u001b[0m\u001b[0m\n\u001b[1;32m--> 402\u001b[1;33m         \u001b[0mself\u001b[0m\u001b[1;33m.\u001b[0m\u001b[0mvalidate\u001b[0m\u001b[1;33m(\u001b[0m\u001b[1;33m)\u001b[0m\u001b[1;33m\u001b[0m\u001b[0m\n\u001b[0m\u001b[0;32m    403\u001b[0m         \u001b[1;32mif\u001b[0m \u001b[0mself\u001b[0m\u001b[1;33m.\u001b[0m\u001b[0m__class__\u001b[0m\u001b[1;33m.\u001b[0m\u001b[0m__name__\u001b[0m \u001b[1;33m==\u001b[0m \u001b[1;34m'_PlotlyDict'\u001b[0m\u001b[1;33m:\u001b[0m\u001b[1;33m\u001b[0m\u001b[0m\n\u001b[0;32m    404\u001b[0m             _warnings.warn(\"\\nThe _PlotlyDict class is a base class of \"\n",
        "\u001b[1;32m/home/etienne/.virtualenvs/plotly-api1.0/lib/python2.7/site-packages/plotly/graph_objs.pyc\u001b[0m in \u001b[0;36mvalidate\u001b[1;34m(self)\u001b[0m\n\u001b[0;32m    580\u001b[0m                     \u001b[1;32melse\u001b[0m\u001b[1;33m:\u001b[0m\u001b[1;33m\u001b[0m\u001b[0m\n\u001b[0;32m    581\u001b[0m                         \u001b[0mmsg\u001b[0m \u001b[1;33m+=\u001b[0m \u001b[1;34m\"Couldn't find uses for key: {}\\n\\n\"\u001b[0m\u001b[1;33m.\u001b[0m\u001b[0mformat\u001b[0m\u001b[1;33m(\u001b[0m\u001b[0mkey\u001b[0m\u001b[1;33m)\u001b[0m\u001b[1;33m\u001b[0m\u001b[0m\n\u001b[1;32m--> 582\u001b[1;33m                     \u001b[1;32mraise\u001b[0m \u001b[0m_exceptions\u001b[0m\u001b[1;33m.\u001b[0m\u001b[0mPlotlyInvalidKeyError\u001b[0m\u001b[1;33m(\u001b[0m\u001b[0mmsg\u001b[0m\u001b[1;33m)\u001b[0m\u001b[1;33m\u001b[0m\u001b[0m\n\u001b[0m\u001b[0;32m    583\u001b[0m \u001b[1;33m\u001b[0m\u001b[0m\n\u001b[0;32m    584\u001b[0m     \u001b[1;32mdef\u001b[0m \u001b[0mforce_clean\u001b[0m\u001b[1;33m(\u001b[0m\u001b[0mself\u001b[0m\u001b[1;33m)\u001b[0m\u001b[1;33m:\u001b[0m\u001b[1;33m\u001b[0m\u001b[0m\n",
        "\u001b[1;31mPlotlyInvalidKeyError\u001b[0m: Invalid key, 'opacity', for class, '<class 'plotly.graph_objs.Histogramx'>'\n\nThat key is valid only in these objects:\n\n\tTrace(opacity='..')\n\tScatter(opacity='number: x in [0, 1]')\n\tBar(opacity='number: x in [0, 1]')\n\tAnnotation(opacity='number: x in [0, 1]')\n\tErrorY(opacity='number: x in [0, 1]')\n\tLine(opacity='..')\n\tMarker(opacity='..')\n"
       ]
      }
     ],
     "prompt_number": 31
    },
    {
     "cell_type": "code",
     "collapsed": false,
     "input": [],
     "language": "python",
     "metadata": {},
     "outputs": [],
     "prompt_number": 7
    },
    {
     "cell_type": "heading",
     "level": 2,
     "metadata": {},
     "source": [
      "Graph Object nested updates"
     ]
    },
    {
     "cell_type": "markdown",
     "metadata": {},
     "source": [
      ".sfdsfsa"
     ]
    },
    {
     "cell_type": "code",
     "collapsed": false,
     "input": [],
     "language": "python",
     "metadata": {},
     "outputs": []
    }
   ],
   "metadata": {}
  }
 ]
}