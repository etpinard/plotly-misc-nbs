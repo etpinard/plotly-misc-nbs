{
 "cells": [
  {
   "cell_type": "code",
   "execution_count": 1,
   "metadata": {
    "collapsed": true
   },
   "outputs": [],
   "source": [
    "import plotly.plotly as py\n",
    "import numpy as np"
   ]
  },
  {
   "cell_type": "code",
   "execution_count": 2,
   "metadata": {
    "collapsed": true
   },
   "outputs": [],
   "source": [
    "def F(t, R=1):\n",
    "    return R*np.cos(t), R*np.sin(t)"
   ]
  },
  {
   "cell_type": "code",
   "execution_count": 3,
   "metadata": {
    "collapsed": false
   },
   "outputs": [],
   "source": [
    "t = np.linspace(0, 2*np.pi, 100)\n",
    "x, y = F(t)"
   ]
  },
  {
   "cell_type": "code",
   "execution_count": 4,
   "metadata": {
    "collapsed": false
   },
   "outputs": [
    {
     "data": {
      "text/html": [
       "<iframe id=\"igraph\" scrolling=\"no\" style=\"border:none;\"seamless=\"seamless\" src=\"https://plot.ly/~etpinard/3796.embed\" height=\"525\" width=\"100%\"></iframe>"
      ],
      "text/plain": [
       "<plotly.tools.PlotlyDisplay object>"
      ]
     },
     "execution_count": 4,
     "metadata": {},
     "output_type": "execute_result"
    }
   ],
   "source": [
    "trace = dict(\n",
    "    x=x,\n",
    "    y=y,\n",
    "    text=t\n",
    ")\n",
    "\n",
    "layout = dict(\n",
    "    autosize=False,\n",
    "    width=500,\n",
    "    height=500,\n",
    "    hovermode='closest'\n",
    ")\n",
    "\n",
    "fig = dict(data=[trace], layout=layout)\n",
    "\n",
    "py.iplot(fig, filename='parametric-curve')"
   ]
  },
  {
   "cell_type": "code",
   "execution_count": 5,
   "metadata": {
    "collapsed": false
   },
   "outputs": [],
   "source": [
    "def condition(xi, yi):\n",
    "    return xi * yi >= 0\n",
    "\n",
    "def separate_traces_by_condition(condition, x, y):\n",
    "    data = []\n",
    "    state = condition(x[0], y[0])\n",
    "    trace = dict(x=[x[0]], y=[y[0]])\n",
    "    \n",
    "    for xi, yi in zip(x, y)[1:]:\n",
    "        state_at_i = condition(xi, yi)\n",
    "        if state is state_at_i:\n",
    "            trace['x'].append(xi)\n",
    "            trace['y'].append(yi)\n",
    "        else:\n",
    "            data.append(trace)\n",
    "            trace = dict(x=[], y=[])\n",
    "            state = state_at_i\n",
    "\n",
    "    data.append(trace)\n",
    "    return data\n",
    "           \n",
    "t = np.linspace(0, 2*np.pi, 1000)\n",
    "x, y = F(t)\n",
    "data = separate_traces_by_condition(condition, x, y)"
   ]
  },
  {
   "cell_type": "code",
   "execution_count": 6,
   "metadata": {
    "collapsed": false
   },
   "outputs": [
    {
     "data": {
      "text/html": [
       "<iframe id=\"igraph\" scrolling=\"no\" style=\"border:none;\"seamless=\"seamless\" src=\"https://plot.ly/~etpinard/3797.embed\" height=\"525\" width=\"100%\"></iframe>"
      ],
      "text/plain": [
       "<plotly.tools.PlotlyDisplay object>"
      ]
     },
     "execution_count": 6,
     "metadata": {},
     "output_type": "execute_result"
    }
   ],
   "source": [
    "layout = dict(\n",
    "    autosize=False,\n",
    "    width=500,\n",
    "    height=500,\n",
    "    hovermode='closest'\n",
    ")\n",
    "\n",
    "fig = dict(data=data, layout=layout)\n",
    "\n",
    "py.iplot(fig, filename='parametric-curve-2')"
   ]
  },
  {
   "cell_type": "code",
   "execution_count": 7,
   "metadata": {
    "collapsed": true
   },
   "outputs": [],
   "source": [
    "t = np.linspace(0, 2*np.pi, 500)\n",
    "x, y = F(t)"
   ]
  },
  {
   "cell_type": "code",
   "execution_count": 8,
   "metadata": {
    "collapsed": false
   },
   "outputs": [
    {
     "data": {
      "text/html": [
       "<iframe id=\"igraph\" scrolling=\"no\" style=\"border:none;\"seamless=\"seamless\" src=\"https://plot.ly/~etpinard/3798.embed\" height=\"525\" width=\"100%\"></iframe>"
      ],
      "text/plain": [
       "<plotly.tools.PlotlyDisplay object>"
      ]
     },
     "execution_count": 8,
     "metadata": {},
     "output_type": "execute_result"
    }
   ],
   "source": [
    "trace = dict(\n",
    "    mode='markers',\n",
    "    x=x,\n",
    "    y=y,\n",
    "    marker=dict(\n",
    "        color=t,\n",
    "        showscale=True\n",
    "            \n",
    "    )\n",
    ")\n",
    "\n",
    "layout = dict(\n",
    "    autosize=False,\n",
    "    width=500,\n",
    "    height=500,\n",
    "    hovermode='closest'\n",
    ")\n",
    "\n",
    "fig = dict(data=[trace], layout=layout)\n",
    "\n",
    "py.iplot(fig, validate=False, filename='parametric-curve-3')"
   ]
  },
  {
   "cell_type": "code",
   "execution_count": null,
   "metadata": {
    "collapsed": true
   },
   "outputs": [],
   "source": []
  }
 ],
 "metadata": {
  "kernelspec": {
   "display_name": "Python 2",
   "language": "python",
   "name": "python2"
  },
  "language_info": {
   "codemirror_mode": {
    "name": "ipython",
    "version": 2
   },
   "file_extension": ".py",
   "mimetype": "text/x-python",
   "name": "python",
   "nbconvert_exporter": "python",
   "pygments_lexer": "ipython2",
   "version": "2.7.6"
  }
 },
 "nbformat": 4,
 "nbformat_minor": 0
}
