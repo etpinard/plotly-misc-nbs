{
 "metadata": {
  "name": "",
  "signature": "sha256:c4c3ce40c7b1284982d7dbce4fb358f8c8028eb3371d309235282a22c0ab0b84"
 },
 "nbformat": 3,
 "nbformat_minor": 0,
 "worksheets": [
  {
   "cells": [
    {
     "cell_type": "heading",
     "level": 1,
     "metadata": {},
     "source": [
      "Plotting on shared axes"
     ]
    },
    {
     "cell_type": "heading",
     "level": 2,
     "metadata": {},
     "source": [
      "in real-time with Plotly's Streaming API"
     ]
    },
    {
     "cell_type": "markdown",
     "metadata": {},
     "source": [
      "From your last email:\n",
      "\n",
      "* You: \"Also, I hope it's cool to ask.\"\n",
      "* Plotly: Of course."
     ]
    },
    {
     "cell_type": "markdown",
     "metadata": {},
     "source": [
      "* You: \"We are plotting multiple curves on a shared x axis.  For example y1 = sin(x)  y2 = sin(2x). These represent spectra in our experiments, each one being a different time point.  I thought it would be cool to stream these curves so one could see the development of the system in real time. We've followed the streaming examples, and wondered if it was possible to make such a plot.  In a sense, we are only streaming one plot; [...]\"\n",
      "\n",
      "* Plotly: Yes, it is possible to make such a plot."
     ]
    },
    {
     "cell_type": "markdown",
     "metadata": {},
     "source": [
      "* You: \"[...]  Each curve is added at the next time point, so it's unclear if this should require 1 streaming token for the whole plot, or 1 token for each curve (even though the curves are static once plotted).\" \n",
      "\n",
      "* Plotly: Yes, you do need **two unique stream tokens** to make this plot. Because: \n",
      "\n",
      "> The `'yaxis'` key, which determines which y-axis the y coordinates of a given trace will reference in the figure, must be set before the start of your data stream."
     ]
    },
    {
     "cell_type": "markdown",
     "metadata": {},
     "source": [
      "* You: \"Are there any examples like this lurking around somewhere that you're aware of?\"\n",
      "\n",
      "* Plotly: We made one, just for you, right here in this notebook."
     ]
    },
    {
     "cell_type": "markdown",
     "metadata": {},
     "source": [
      "<hr>\n",
      "<br>\n",
      "\n",
      "First import a few modules:"
     ]
    },
    {
     "cell_type": "code",
     "collapsed": false,
     "input": [
      "import plotly.plotly as py\n",
      "import plotly.tools as tls"
     ],
     "language": "python",
     "metadata": {},
     "outputs": [],
     "prompt_number": 1
    },
    {
     "cell_type": "code",
     "collapsed": false,
     "input": [
      "from plotly.graph_objs import Figure, Data, Layout\n",
      "from plotly.graph_objs import Scatter\n",
      "from plotly.graph_objs import YAxis\n",
      "from plotly.graph_objs import Stream  # aka Stream id object"
     ],
     "language": "python",
     "metadata": {},
     "outputs": [],
     "prompt_number": 2
    },
    {
     "cell_type": "code",
     "collapsed": false,
     "input": [
      "import numpy as np\n",
      "import time\n",
      "import datetime"
     ],
     "language": "python",
     "metadata": {},
     "outputs": [],
     "prompt_number": 3
    },
    {
     "cell_type": "markdown",
     "metadata": {},
     "source": [
      "Next, retrieve a stream id from your credentials file and make instance of Stream id object:"
     ]
    },
    {
     "cell_type": "code",
     "collapsed": false,
     "input": [
      "# Get stream ids in credentials file\n",
      "my_stream_ids = tls.get_credentials_file()['stream_ids']"
     ],
     "language": "python",
     "metadata": {},
     "outputs": [],
     "prompt_number": 4
    },
    {
     "cell_type": "markdown",
     "metadata": {},
     "source": [
      "You can check to content of your credentials file inside IPython/Python with:\n",
      "\n",
      "    >>> tls.show_credentials_file()\n",
      "    \n",
      "Instructions on how to get your stream tokens from <a href=\"https://plot.ly\" target=\"_blank\">plot.ly</a> and write them into your credentials file can be found <a href=\"http://nbviewer.ipython.org/github/plotly/python-user-guide/blob/master/s7_streaming/s7_streaming.ipynb#Get-your-stream-tokens\" target=\"_blank\">here</a>."
     ]
    },
    {
     "cell_type": "markdown",
     "metadata": {},
     "source": [
      "Make two instances of the stream id object, each with a unique stream token:"
     ]
    },
    {
     "cell_type": "code",
     "collapsed": false,
     "input": [
      "# Make a first stream id object \n",
      "my_stream_id1 = my_stream_ids[0]         # get a stream token from list\n",
      "my_stream1 = Stream(token=my_stream_id1, # N.B. link stream id to 'token' key\n",
      "                    maxpoints=30)        # N.B. keep maximum of 30 pts on plot\n",
      "\n",
      "# Make a second stream id object\n",
      "my_stream_id2 = my_stream_ids[1]         # get different stream token from list\n",
      "my_stream2 = Stream(token=my_stream_id2, \n",
      "                    maxpoints=30)"
     ],
     "language": "python",
     "metadata": {},
     "outputs": [],
     "prompt_number": 5
    },
    {
     "cell_type": "markdown",
     "metadata": {},
     "source": [
      "Before starting to stream data, we must first initialize the figure object:"
     ]
    },
    {
     "cell_type": "code",
     "collapsed": false,
     "input": [
      "# Scatter object for sin(x) line\n",
      "my_scatter1 = Scatter(x=[],\n",
      "                      y=[],\n",
      "                      mode='lines+markers',\n",
      "                      name='$y_1 = \\sin(x)$',  # label for legend\n",
      "                      yaxis='y1',         # N.B. link data to y-axis 1\n",
      "                      stream=my_stream1)  # N.B. embed stream id, 1 per trace\n",
      "\n",
      "# Scatter object for sin(2x) line\n",
      "my_scatter2 = Scatter(x=[],\n",
      "                      y=[],\n",
      "                      mode='lines+markers',\n",
      "                      name='$y_2 = \\sin(2x)$',  \n",
      "                      yaxis='y2',         # N.B. link data to y-axis 2\n",
      "                      stream=my_stream2)  # N.B. embed stream id, 1 per trace\n",
      "\n",
      "# Package them into data object\n",
      "my_data = Data([my_scatter1, my_scatter2])"
     ],
     "language": "python",
     "metadata": {},
     "outputs": [],
     "prompt_number": 6
    },
    {
     "cell_type": "code",
     "collapsed": false,
     "input": [
      "# Layout object\n",
      "my_layout = Layout(title='Plotting on shared axes in Real-Time',  # plot's title\n",
      "                   yaxis1= YAxis(domain=[0.0, 0.475], # bottom yaxis domain\n",
      "                                 range=[-1.3,1.3]),       #  and range\n",
      "                   yaxis2= YAxis(domain=[0.525, 1.0], # top yaxis domain\n",
      "                                 range=[-1.3,1.3])       #   and range\n",
      "                  )"
     ],
     "language": "python",
     "metadata": {},
     "outputs": [],
     "prompt_number": 7
    },
    {
     "cell_type": "code",
     "collapsed": false,
     "input": [
      "# Make instance of figure object\n",
      "my_fig = Figure(data=my_data, layout=my_layout)\n",
      "\n",
      "# Initialize streaming plot, show result in notebook\n",
      "py.iplot(my_fig, filename='stream-shared-axis')"
     ],
     "language": "python",
     "metadata": {},
     "outputs": [
      {
       "html": [
        "<iframe id=\"igraph\" scrolling=\"no\" style=\"border:none;\"seamless=\"seamless\" src=\"https://plot.ly/~etpinard/277\" height=\"525\" width=\"100%\"></iframe>"
       ],
       "metadata": {},
       "output_type": "display_data",
       "text": [
        "<IPython.core.display.HTML at 0x7fe745437710>"
       ]
      }
     ],
     "prompt_number": 8
    },
    {
     "cell_type": "markdown",
     "metadata": {},
     "source": [
      "Next, open both streams via the stream link object:"
     ]
    },
    {
     "cell_type": "code",
     "collapsed": false,
     "input": [
      "# Make a first instance of the Stream link object, \n",
      "#  with same stream id as the first Stream id object and open the stream\n",
      "s1 = py.Stream(my_stream_id1)\n",
      "s1.open()\n",
      "\n",
      "# Make a second instance of the Stream link object, \n",
      "#  with same stream id as the second Stream id object and open the stream\n",
      "s2 = py.Stream(my_stream_id2)\n",
      "s2.open()"
     ],
     "language": "python",
     "metadata": {},
     "outputs": [],
     "prompt_number": 9
    },
    {
     "cell_type": "markdown",
     "metadata": {},
     "source": [
      "And stream some data:"
     ]
    },
    {
     "cell_type": "code",
     "collapsed": false,
     "input": [
      "N = 300  # number of sample times\n",
      "i = 0    # init. counter\n",
      "\n",
      "x_start = datetime.datetime.now()  # get time pre-stream\n",
      "\n",
      "while i<N:\n",
      "    \n",
      "    x = datetime.datetime.now()        # get current time\n",
      "    dx = (x - x_start).total_seconds() # delta with pre-stream time\n",
      "    x_str = x.strftime('%H:%M:%S.%f')  # current time as a string\n",
      "    \n",
      "    s1_data = dict(x=x_str, y=np.sin(dx))    # data for stream 1\n",
      "    s2_data = dict(x=x_str, y=np.sin(2*dx))  # data for stream 2\n",
      "\n",
      "    s1.write(s1_data) # send data to stream 1\n",
      "    s2.write(s2_data) # send data to stream 2\n",
      "    \n",
      "    time.sleep(0.08)  # N.B. plot a point every 80 ms, for smoother plotting\n",
      "    \n",
      "    i += 1  # inc. contour\n",
      "    \n",
      "# Close both streams when done\n",
      "s1.close()\n",
      "s2.close()"
     ],
     "language": "python",
     "metadata": {},
     "outputs": [],
     "prompt_number": 10
    },
    {
     "cell_type": "markdown",
     "metadata": {},
     "source": [
      "Points are plotted in real-time. \n",
      "\n",
      "See the results right inside this notebook above in cell `In [8]`."
     ]
    },
    {
     "cell_type": "markdown",
     "metadata": {},
     "source": [
      "<br>\n",
      "<hr>"
     ]
    },
    {
     "cell_type": "markdown",
     "metadata": {},
     "source": [
      "<div style=\"float:right; \\\">\n",
      "    <img src=\"http://i.imgur.com/4vwuxdJ.png\" \n",
      " align=right style=\"float:right; margin-left: 5px; margin-top: -10px\" />\n",
      "</div>\n",
      "\n",
      "<h4 style=\"margin-top:80px;\">Got Questions or Feedback? </h4>\n",
      "\n",
      "About <a href=\"https://plot.ly\" target=\"_blank\">Plotly</a>\n",
      "\n",
      "* email: feedback@plot.ly \n",
      "* tweet: \n",
      "<a href=\"https://twitter.com/plotlygraphs\" target=\"_blank\">@plotlygraphs</a>\n",
      "\n",
      "<h4 style=\"margin-top:30px;\">Notebook styling ideas</h4>\n",
      "\n",
      "Big thanks to\n",
      "\n",
      "* <a href=\"http://nbviewer.ipython.org/github/CamDavidsonPilon/Probabilistic-Programming-and-Bayesian-Methods-for-Hackers/blob/master/Prologue/Prologue.ipynb\" target=\"_blank\">Cam Davidson-Pilon</a>\n",
      "* <a href=\"http://lorenabarba.com/blog/announcing-aeropython/#.U1ULXdX1LJ4.google_plusone_share\" target=\"_blank\">Lorena A. Barba</a>\n",
      "\n",
      "<br>"
     ]
    },
    {
     "cell_type": "code",
     "collapsed": false,
     "input": [
      "# CSS styling within IPython notebook\n",
      "from IPython.core.display import HTML\n",
      "import urllib2\n",
      "def css_styling():\n",
      "    url = 'https://raw.githubusercontent.com/plotly/python-user-guide/master/custom.css'\n",
      "    styles = urllib2.urlopen(url).read()\n",
      "    return HTML(styles)\n",
      "\n",
      "css_styling()"
     ],
     "language": "python",
     "metadata": {},
     "outputs": [
      {
       "html": [
        "<style>\n",
        "    /*body {\n",
        "        background-color: #F5F5F5;\n",
        "    }*/\n",
        "    div.cell{\n",
        "        width: 850px;\n",
        "        margin-left: 10% !important;\n",
        "        margin-right: auto;\n",
        "    }\n",
        "    h1 {\n",
        "        font-family: \"Open sans\",verdana,arial,sans-serif;\n",
        "    }\n",
        "    .text_cell_render h1 {\n",
        "        font-weight: 200;\n",
        "        font-size: 40pt;\n",
        "        line-height: 100%;\n",
        "        color:#447adb;\n",
        "        margin-bottom: 0em;\n",
        "        margin-top: 0em;\n",
        "        display: block;\n",
        "        white-space: nowrap;\n",
        "    } \n",
        "    h2 {\n",
        "        font-family: \"Open sans\",verdana,arial,sans-serif;\n",
        "        text-indent:1em;\n",
        "    }\n",
        "    .text_cell_render h2 {\n",
        "        font-weight: 200;\n",
        "        font-size: 20pt;\n",
        "        font-style: italic;\n",
        "        line-height: 100%;\n",
        "        color:#447adb;\n",
        "        margin-bottom: 1.5em;\n",
        "        margin-top: 0.5em;\n",
        "        display: block;\n",
        "        white-space: nowrap;\n",
        "    } \n",
        "    h3 {\n",
        "        font-family: \"Open sans\",verdana,arial,sans-serif;\n",
        "    }\n",
        "    .text_cell_render h3 {\n",
        "        font-weight: 300;\n",
        "        font-size: 18pt;\n",
        "        line-height: 100%;\n",
        "        color:#447adb;\n",
        "        margin-bottom: 0.5em;\n",
        "        margin-top: 2em;\n",
        "        display: block;\n",
        "        white-space: nowrap;\n",
        "    }\n",
        "    h4 {\n",
        "        font-family: \"Open sans\",verdana,arial,sans-serif;\n",
        "    }\n",
        "    .text_cell_render h4 {\n",
        "        font-weight: 300;\n",
        "        font-size: 16pt;\n",
        "        color:#447adb;\n",
        "        margin-bottom: 0.5em;\n",
        "        margin-top: 0.5em;\n",
        "        display: block;\n",
        "        white-space: nowrap;\n",
        "    }\n",
        "    h5 {\n",
        "        font-family: \"Open sans\",verdana,arial,sans-serif;\n",
        "    }\n",
        "    .text_cell_render h5 {\n",
        "        font-weight: 300;\n",
        "        font-style: normal;\n",
        "        color: #1d3b84;\n",
        "        font-size: 16pt;\n",
        "        margin-bottom: 0em;\n",
        "        margin-top: 1.5em;\n",
        "        display: block;\n",
        "        white-space: nowrap;\n",
        "    }\n",
        "    div.text_cell_render{\n",
        "        font-family: \"Open sans\",verdana,arial,sans-serif;\n",
        "        line-height: 135%;\n",
        "        font-size: 125%;\n",
        "        width:750px;\n",
        "        margin-left:auto;\n",
        "        margin-right:auto;\n",
        "        text-align:justify;\n",
        "        text-justify:inter-word;\n",
        "    }\n",
        "    div.output_subarea.output_text.output_pyout {\n",
        "        overflow-x: auto;\n",
        "        overflow-y: scroll;\n",
        "        max-height: 300px;\n",
        "    }\n",
        "    div.output_subarea.output_stream.output_stdout.output_text {\n",
        "        overflow-x: auto;\n",
        "        overflow-y: scroll;\n",
        "        max-height: 300px;\n",
        "    }\n",
        "    code{\n",
        "      font-size: 78%;\n",
        "    }\n",
        "    .rendered_html code{\n",
        "    background-color: transparent;\n",
        "    }\n",
        "    ul{\n",
        "        /* color:#447adb; */  // colors text too\n",
        "        margin: 2em;\n",
        "    }\n",
        "    ul li{\n",
        "        padding-left: 0.5em; \n",
        "        margin-bottom: 0.5em; \n",
        "        margin-top: 0.5em; \n",
        "    }\n",
        "    ul li li{\n",
        "        padding-left: 0.2em; \n",
        "        margin-bottom: 0.2em; \n",
        "        margin-top: 0.2em; \n",
        "    }\n",
        "    ol{\n",
        "        /* color:#447adb; */  // colors text too\n",
        "        margin: 2em;\n",
        "    }\n",
        "    ol li{\n",
        "        padding-left: 0.5em; \n",
        "        margin-bottom: 0.5em; \n",
        "        margin-top: 0.5em; \n",
        "    }\n",
        "    /*.prompt{\n",
        "        display: None;\n",
        "    } */\n",
        "    ul li{\n",
        "        padding-left: 0.5em; \n",
        "        margin-bottom: 0.5em; \n",
        "        margin-top: 0.2em; \n",
        "    }\n",
        "    a:link{\n",
        "       font-weight: bold;\n",
        "       color:#447adb;\n",
        "    }\n",
        "    a:visited{\n",
        "       font-weight: bold;\n",
        "       color: #1d3b84;\n",
        "    }\n",
        "    a:hover{\n",
        "       font-weight: bold;\n",
        "       color: #1d3b84;\n",
        "    }\n",
        "    a:focus{\n",
        "       font-weight: bold;\n",
        "       color:#447adb;\n",
        "    }\n",
        "    a:active{\n",
        "       font-weight: bold;\n",
        "       color:#447adb;\n",
        "    }\n",
        "    .rendered_html :link {\n",
        "       text-decoration: none; \n",
        "    }\n",
        "    .rendered_html :hover {\n",
        "       text-decoration: none; \n",
        "    }\n",
        "    .rendered_html :visited {\n",
        "      text-decoration: none;\n",
        "    }\n",
        "    .rendered_html :focus {\n",
        "      text-decoration: none;\n",
        "    }\n",
        "    .rendered_html :active {\n",
        "      text-decoration: none;\n",
        "    }\n",
        "    .warning{\n",
        "        color: rgb( 240, 20, 20 )\n",
        "    } \n",
        "    hr {\n",
        "      color: #f3f3f3;\n",
        "      background-color: #f3f3f3;\n",
        "      height: 1px;\n",
        "    }\n",
        "    blockquote{\n",
        "      display:block;\n",
        "      background: #f3f3f3;\n",
        "      font-family: \"Open sans\",verdana,arial,sans-serif;\n",
        "      width:610px;\n",
        "      padding: 15px 15px 15px 15px;\n",
        "      text-align:justify;\n",
        "      text-justify:inter-word;\n",
        "      }\n",
        "      blockquote p {\n",
        "        margin-bottom: 0;\n",
        "        line-height: 125%;\n",
        "        font-size: 100%;\n",
        "      }\n",
        "   /* element.style {\n",
        "    } */  \n",
        "</style>\n",
        "<script>\n",
        "    MathJax.Hub.Config({\n",
        "                        TeX: {\n",
        "                           extensions: [\"AMSmath.js\"]\n",
        "                           },\n",
        "                tex2jax: {\n",
        "                    inlineMath: [ [\"$\",\"$\"], [\"\\\\(\",\"\\\\)\"] ],\n",
        "                    displayMath: [ [\"$$\",\"$$\"], [\"\\\\[\",\"\\\\]\"] ]\n",
        "                },\n",
        "                displayAlign: \"center\", // Change this to \"center\" to center equations.\n",
        "                \"HTML-CSS\": {\n",
        "                    styles: {\".MathJax_Display\": {\"margin\": 4}}\n",
        "                }\n",
        "        });\n",
        "</script>\n"
       ],
       "metadata": {},
       "output_type": "pyout",
       "prompt_number": 11,
       "text": [
        "<IPython.core.display.HTML at 0x7fe72279aed0>"
       ]
      }
     ],
     "prompt_number": 11
    },
    {
     "cell_type": "code",
     "collapsed": false,
     "input": [],
     "language": "python",
     "metadata": {},
     "outputs": [],
     "prompt_number": 11
    }
   ],
   "metadata": {}
  }
 ]
}