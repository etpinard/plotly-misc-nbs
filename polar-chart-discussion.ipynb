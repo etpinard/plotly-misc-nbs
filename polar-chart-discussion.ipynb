{
 "metadata": {
  "name": "",
  "signature": "sha256:c1b99b815a6751377cdf74bf3bfea63e4d839a207e8ada6c7da008e2bdd1dba8"
 },
 "nbformat": 3,
 "nbformat_minor": 0,
 "worksheets": [
  {
   "cells": [
    {
     "cell_type": "heading",
     "level": 1,
     "metadata": {},
     "source": [
      "A discussion on <br>Plotly Polar Charts"
     ]
    },
    {
     "cell_type": "markdown",
     "metadata": {},
     "source": [
      "<br>"
     ]
    },
    {
     "cell_type": "markdown",
     "metadata": {},
     "source": [
      "Remarks on the backend API and suggestions for future developments"
     ]
    },
    {
     "cell_type": "markdown",
     "metadata": {},
     "source": [
      "<br>"
     ]
    },
    {
     "cell_type": "code",
     "collapsed": false,
     "input": [
      "import plotly.plotly as py\n",
      "from plotly.graph_objs import *\n",
      "\n",
      "import numpy as np\n",
      "from IPython import display"
     ],
     "language": "python",
     "metadata": {},
     "outputs": [],
     "prompt_number": 2
    },
    {
     "cell_type": "code",
     "collapsed": false,
     "input": [
      "def r2d(a):\n",
      "    return a*180/np.pi"
     ],
     "language": "python",
     "metadata": {},
     "outputs": [],
     "prompt_number": 3
    },
    {
     "cell_type": "markdown",
     "metadata": {},
     "source": [
      "<br>\n",
      "<br>"
     ]
    },
    {
     "cell_type": "heading",
     "level": 3,
     "metadata": {},
     "source": [
      "0. Polar traces should have their own trace type"
     ]
    },
    {
     "cell_type": "markdown",
     "metadata": {},
     "source": [
      "Although they have several features in common, cartesian scatter traces and polar scatter traces are different beasts. For example,\n",
      "\n",
      "- they use *mutually-exclusive* coordinate keys (`'x'`-`'y'` vs. `'r'`-`'t'`),\n",
      "- they are bound to different axis (`'xaxis'`-`'yaxis'` vs. `'angularaxis'`-`'radialaxis'`)\n",
      "- interactibility does not work the same (e.g. they use a different hover mode),\n",
      "\n",
      "So, I propose that \n",
      "\n",
      "- polar scatter trace should be renamed `'scatterpolar'`\n",
      "\n",
      "\n",
      "in a similar way to `'scatter3d'` for 3D scatter traces.\n",
      "\n",
      "Moreover, although currently available to user\n",
      "\n",
      "- I would discontinue `'bar'` traces in polar charts. \n",
      "\n",
      "Why would anyone want to plot something like:"
     ]
    },
    {
     "cell_type": "code",
     "collapsed": false,
     "input": [
      "py.iplot([{'r': [1,2,3],\n",
      "           't': [0,90,270], \n",
      "           'type': 'bar'}], \n",
      "         filename='polar bar circles')"
     ],
     "language": "python",
     "metadata": {},
     "outputs": [
      {
       "html": [
        "<iframe id=\"igraph\" scrolling=\"no\" style=\"border:none;\"seamless=\"seamless\" src=\"https://plot.ly/~etpinard/380\" height=\"525\" width=\"100%\"></iframe>"
       ],
       "metadata": {},
       "output_type": "display_data",
       "text": [
        "<IPython.core.display.HTML at 0x7f297001d410>"
       ]
      }
     ],
     "prompt_number": 4
    },
    {
     "cell_type": "markdown",
     "metadata": {},
     "source": [
      "And then\n",
      "\n",
      "- Rename the `'area'` trace type to `'barpolar'` \n",
      "\n",
      "More in [#7](#7.-Adding-a-third-coordinate-to-Polar-Area-Charts-?), [#8](#8.-Custom-fonts-and-sector-overlay-options), [#10.2](#10.2), [#10.3](#10.3), [#10.5](#10.5) and [#10.6](#10.6)  on why area traces are really an extension of bar traces to polar charts.\n",
      "\n",
      "* * *"
     ]
    },
    {
     "cell_type": "heading",
     "level": 3,
     "metadata": {},
     "source": [
      "1. Angular direction and line width"
     ]
    },
    {
     "cell_type": "code",
     "collapsed": false,
     "input": [
      "N = 1000\n",
      "circles = 5\n",
      "\n",
      "r = np.linspace(10, 0, N)\n",
      "t = np.linspace(0, r2d(2*np.pi*circles), N)\n",
      "\n",
      "py.iplot([{'r': r, 't': t}], filename='polar line circles')"
     ],
     "language": "python",
     "metadata": {},
     "outputs": [
      {
       "html": [
        "<iframe id=\"igraph\" scrolling=\"no\" style=\"border:none;\"seamless=\"seamless\" src=\"https://plot.ly/~etpinard/357\" height=\"525\" width=\"100%\"></iframe>"
       ],
       "metadata": {},
       "output_type": "display_data",
       "text": [
        "<IPython.core.display.HTML at 0x7f29578b2f50>"
       ]
      }
     ],
     "prompt_number": 5
    },
    {
     "cell_type": "code",
     "collapsed": false,
     "input": [
      "py.iplot({'data': [{'r': r, 't': t}],\n",
      "          'layout': {'direction': 'counterclockwise'}},\n",
      "          filename='polar line circles counterclockwise')"
     ],
     "language": "python",
     "metadata": {},
     "outputs": [
      {
       "html": [
        "<iframe id=\"igraph\" scrolling=\"no\" style=\"border:none;\"seamless=\"seamless\" src=\"https://plot.ly/~etpinard/358\" height=\"525\" width=\"100%\"></iframe>"
       ],
       "metadata": {},
       "output_type": "display_data",
       "text": [
        "<IPython.core.display.HTML at 0x7f2970d5e390>"
       ]
      }
     ],
     "prompt_number": 6
    },
    {
     "cell_type": "code",
     "collapsed": false,
     "input": [
      "py.iplot({'data': [{'x': r, 'y': t}]},\n",
      "          filename='polar line circles comp x-y')"
     ],
     "language": "python",
     "metadata": {},
     "outputs": [
      {
       "html": [
        "<iframe id=\"igraph\" scrolling=\"no\" style=\"border:none;\"seamless=\"seamless\" src=\"https://plot.ly/~etpinard/363\" height=\"525\" width=\"100%\"></iframe>"
       ],
       "metadata": {},
       "output_type": "display_data",
       "text": [
        "<IPython.core.display.HTML at 0x7f2970d5e590>"
       ]
      }
     ],
     "prompt_number": 7
    },
    {
     "cell_type": "markdown",
     "metadata": {},
     "source": [
      "Suggestions:\n",
      "\n",
      "- North should be 90, not 270 (i.e. `'direction'` should be set `'counterclockwise'` by default)\n",
      "\n",
      "- `'direction'` should be a key in `'angularaxis'` (not `'layout'`) to allow user (in the future) to have subplots with both directions on the same figure.\n",
      "\n",
      "- Use Plotly default line thickness (Polar chart lines are thinner)\n",
      "\n",
      "* * *"
     ]
    },
    {
     "cell_type": "heading",
     "level": 3,
     "metadata": {},
     "source": [
      "2. Marker size in scatter plots"
     ]
    },
    {
     "cell_type": "code",
     "collapsed": false,
     "input": [
      "N = 50\n",
      "circles = 5\n",
      "\n",
      "r = np.linspace(10, 0, N)\n",
      "t = np.linspace(0, r2d(2*np.pi*circles), N)\n",
      "\n",
      "py.iplot([{'r': r, \n",
      "           't': t,\n",
      "           'mode': 'markers',\n",
      "           'marker': {'size': 50}\n",
      "}], filename='polar marker circles')"
     ],
     "language": "python",
     "metadata": {},
     "outputs": [
      {
       "html": [
        "<iframe id=\"igraph\" scrolling=\"no\" style=\"border:none;\"seamless=\"seamless\" src=\"https://plot.ly/~etpinard/359\" height=\"525\" width=\"100%\"></iframe>"
       ],
       "metadata": {},
       "output_type": "display_data",
       "text": [
        "<IPython.core.display.HTML at 0x7f29578b2b90>"
       ]
      }
     ],
     "prompt_number": 8
    },
    {
     "cell_type": "code",
     "collapsed": false,
     "input": [
      "py.iplot([{'x': r, \n",
      "           'y': t,\n",
      "           'mode': 'markers',\n",
      "           'marker': {'size': 50}\n",
      "}], filename='polar marker circles - comp. x-y')"
     ],
     "language": "python",
     "metadata": {},
     "outputs": [
      {
       "html": [
        "<iframe id=\"igraph\" scrolling=\"no\" style=\"border:none;\"seamless=\"seamless\" src=\"https://plot.ly/~etpinard/360\" height=\"525\" width=\"100%\"></iframe>"
       ],
       "metadata": {},
       "output_type": "display_data",
       "text": [
        "<IPython.core.display.HTML at 0x7f295789fa10>"
       ]
      }
     ],
     "prompt_number": 9
    },
    {
     "cell_type": "markdown",
     "metadata": {},
     "source": [
      "Suggestions:\n",
      "\n",
      "- Polar chart marker sizes should correspond with Plotly's scatter marker size\n",
      "\n",
      "* * *"
     ]
    },
    {
     "cell_type": "heading",
     "level": 3,
     "metadata": {},
     "source": [
      "3. Line+Marker and label+hover text"
     ]
    },
    {
     "cell_type": "code",
     "collapsed": false,
     "input": [
      "N = 100\n",
      "circles = 5\n",
      "\n",
      "r = np.linspace(10, 0, N)\n",
      "r2 = np.linspace(0,10,N)\n",
      "t = np.linspace(0, r2d(2*np.pi*circles), N)\n",
      "text = [\"The angle is {:5.2f}\".format(tt) for tt in t]\n",
      "\n",
      "py.iplot([{'r': r, \n",
      "           't': t, \n",
      "           'text': text,             # does not work\n",
      "           'mode': 'lines+markers',              \n",
      "           'line': {'color':'black'},            # bug, should color line between pts\n",
      "           'marker':{'color':'red',              # bug, gets overwritten!\n",
      "                     'line':{'color': 'green'}   # bug, overwrites 'color':'red'\n",
      "                    }\n",
      "          },\n",
      "          {'r': r2,\n",
      "           't': t,\n",
      "           'text': text,            # does not work, should be supported\n",
      "           'mode': 'markers+text'   # does not work, should be supported\n",
      "          }], \n",
      "         filename='polar line+marker circles')"
     ],
     "language": "python",
     "metadata": {},
     "outputs": [
      {
       "html": [
        "<iframe id=\"igraph\" scrolling=\"no\" style=\"border:none;\"seamless=\"seamless\" src=\"https://plot.ly/~etpinard/361\" height=\"525\" width=\"100%\"></iframe>"
       ],
       "metadata": {},
       "output_type": "display_data",
       "text": [
        "<IPython.core.display.HTML at 0x7f29578b2a90>"
       ]
      }
     ],
     "prompt_number": 10
    },
    {
     "cell_type": "code",
     "collapsed": false,
     "input": [
      "py.iplot([{'x': r[::10],  # 1 out of 10 points\n",
      "           'y': t[::10],  \n",
      "           'text': text,           \n",
      "           'mode': 'lines+markers',\n",
      "           'line': {'color':'black'},            # colors line between pts\n",
      "           'marker':{'color':'red',              # color the marker pts\n",
      "                     'line':{'color': 'green'}}  # colors line around marker pts\n",
      "          },\n",
      "          {'x': r2[::10],\n",
      "           'y': t[::10],\n",
      "           'text': text,         \n",
      "           'mode': 'markers+text',     # coordintate in text by data pts\n",
      "           'textposition': 'top left'  # relative position of text w.r.t. data pts\n",
      "          }], \n",
      "         filename='polar line+marker circles comp x-y')"
     ],
     "language": "python",
     "metadata": {},
     "outputs": [
      {
       "html": [
        "<iframe id=\"igraph\" scrolling=\"no\" style=\"border:none;\"seamless=\"seamless\" src=\"https://plot.ly/~etpinard/364\" height=\"525\" width=\"100%\"></iframe>"
       ],
       "metadata": {},
       "output_type": "display_data",
       "text": [
        "<IPython.core.display.HTML at 0x7f29578b2fd0>"
       ]
      }
     ],
     "prompt_number": 11
    },
    {
     "cell_type": "markdown",
     "metadata": {},
     "source": [
      "Remarks:\n",
      "\n",
      "- `scatter.line.color` should color lines between data points whereas `scatter.marker.line.color` should color lines around marker points.\n",
      "\n",
      "<br>\n",
      "\n",
      "- By default all polar traces have `'name'` set to `line1`. Why not set it to `trace 0` (for the first trace) `trace 1` (for the second trace) etc. like other Plotly trace objects?\n",
      "\n",
      "- Unlike other Plotly trace objects, when multiple traces are present, the value linked to `'name'` does not appear on hover next to the text box.\n",
      "\n",
      "- Additional hover text (with the `'text'`) is not shown in Polar charts.\n",
      "\n",
      "- Scatter modes involving `'text'` are not supported in Polar Scatter charts. \n",
      "\n",
      "* * *"
     ]
    },
    {
     "cell_type": "heading",
     "level": 3,
     "metadata": {},
     "source": [
      "4. Custom grid lines and ticks"
     ]
    },
    {
     "cell_type": "code",
     "collapsed": false,
     "input": [
      "def c2r(x, y):\n",
      "    return (np.sqrt(x**2+y**2), (180*np.arctan2(y,x)/np.pi))\n",
      "\n",
      "def r2c(r, t):\n",
      "    return (r*np.cos(np.pi*t/180), r*np.sin(np.pi*t/180))"
     ],
     "language": "python",
     "metadata": {},
     "outputs": [],
     "prompt_number": 19
    },
    {
     "cell_type": "code",
     "collapsed": false,
     "input": [
      "N = 60\n",
      "x = 1.4*np.random.randn(N)\n",
      "y = 1.4*np.random.randn(N)\n",
      "\n",
      "n = 6\n",
      "r = 8\n",
      "\n",
      "#colors = ['rgb(102,194,165)','rgb(252,141,98)','rgb(141,160,203)','rgb(231,138,195)','rgb(166,216,84)','rgb(255,217,47)']\n",
      "colors = ['rgb(166,206,227)','rgb(31,120,180)','rgb(178,223,138)','rgb(51,160,44)','rgb(251,154,153)','rgb(227,26,28)']\n",
      "#colors = ['rgb(27,158,119)','rgb(217,95,2)','rgb(117,112,179)','rgb(231,41,138)','rgb(102,166,30)','rgb(230,171,2)']\n",
      "\n",
      "data = []\n",
      "i = 0\n",
      "for ti in range(0, 360, 360/n):\n",
      "    i+=1\n",
      "    xi = x+r2c(5, ti)[0]\n",
      "    yi = y+r2c(5, ti)[1]\n",
      "    \n",
      "    r = c2r(xi, yi)[0]\n",
      "    t = c2r(xi, yi)[1]\n",
      "\n",
      "    data.append({'r': r, \n",
      "                 't': t, \n",
      "                 'mode': 'markers', \n",
      "                 'type': 'scatter',            # bug, without it, this becomes a line plot\n",
      "                 'name': 'Trial {i}'.format(i=i),\n",
      "                 'marker': {\n",
      "                    'color': colors[i-1],\n",
      "                    'opacity': 0.7,\n",
      "                    'line': {'color':'white',  # colors line around marker pts\n",
      "                             'width': 3},      # \n",
      "                    'size': 20                 # size of the marker pts (much smaller\n",
      "                }})                            #  than in x-y graph below)\n",
      "    \n",
      "layout = {'plot_bgcolor': 'rgb(223, 223, 223)',\n",
      "          'title': 'Hobbs-Pearson Trials',\n",
      "          'font': {'size': 15},   # global font size (much smaller than in x-y graph below)\n",
      "          'angularaxis': {\n",
      "              'tickcolor': 'red', # bug, color both ticks and all grid line\n",
      "              'ticks': 'outside', # does not work, should place angular ticks outside axis\n",
      "              'ticklen': 8,       # does not work, should set tick length \n",
      "              'tickwidth': 3,        # does not work, should set tick width\n",
      "              'gridcolor': 'green',  # does not work, should color angular grid line  \n",
      "              'gridwidth': 3         # does not work, should set angular grid line width\n",
      "          },\n",
      "          'radialaxis': {\n",
      "            'tickcolor': 'blue',   # does not work, should color the radial axis' ticks\n",
      "            'ticks': 'inside',     # does not work, should place radial tick inside axis \n",
      "            'ticklen': 16,            # does not work\n",
      "            'tickwidth': 6,           # does not work \n",
      "            'gridcolor': 'orange',    # does not work\n",
      "            'gridwidth': 6            # does not work\n",
      "            \n",
      "          }\n",
      "        }\n",
      "\n",
      "py.iplot({'data': data, 'layout': layout}, validate=False, \n",
      "         filename='Hobbs-Pearson-trials')"
     ],
     "language": "python",
     "metadata": {},
     "outputs": [
      {
       "html": [
        "<iframe id=\"igraph\" scrolling=\"no\" style=\"border:none;\"seamless=\"seamless\" src=\"https://plot.ly/~etpinard/365\" height=\"525\" width=\"100%\"></iframe>"
       ],
       "metadata": {},
       "output_type": "display_data",
       "text": [
        "<IPython.core.display.HTML at 0x7f2956c63e10>"
       ]
      }
     ],
     "prompt_number": 20
    },
    {
     "cell_type": "code",
     "collapsed": false,
     "input": [
      "N = 60\n",
      "x = 1.4*np.random.randn(N)\n",
      "y = 1.4*np.random.randn(N)\n",
      "\n",
      "n = 6\n",
      "r = 8\n",
      "\n",
      "#colors = ['rgb(102,194,165)','rgb(252,141,98)','rgb(141,160,203)','rgb(231,138,195)','rgb(166,216,84)','rgb(255,217,47)']\n",
      "colors = ['rgb(166,206,227)','rgb(31,120,180)','rgb(178,223,138)','rgb(51,160,44)','rgb(251,154,153)','rgb(227,26,28)']\n",
      "#colors = ['rgb(27,158,119)','rgb(217,95,2)','rgb(117,112,179)','rgb(231,41,138)','rgb(102,166,30)','rgb(230,171,2)']\n",
      "\n",
      "data = []\n",
      "i = 0\n",
      "for ti in range(0, 360, 360/n):\n",
      "    i+=1\n",
      "    xi = x+r2c(5, ti)[0]\n",
      "    yi = y+r2c(5, ti)[1]\n",
      "    \n",
      "    r = c2r(xi, yi)[0]\n",
      "    t = c2r(xi, yi)[1]\n",
      "\n",
      "    data.append({'x': r, \n",
      "                 'y': t, \n",
      "                 'mode': 'markers', \n",
      "                 #'type': 'scatter',              # not required! \n",
      "                 'name': 'Trial {i}'.format(i=i),\n",
      "                 'marker': {\n",
      "                    'color': colors[i-1],\n",
      "                    'opacity': 0.7,\n",
      "                    'line': {'color':'white',\n",
      "                             'width': 3}, \n",
      "                    'size': 20\n",
      "                }})\n",
      "    \n",
      "layout = {'plot_bgcolor': 'rgb(223, 223, 223)',\n",
      "          'title': 'Hobbs-Pearson Trials',\n",
      "          'font': {'size': 15},\n",
      "          'xaxis': {\n",
      "              'tickcolor': 'red', # xaxis ticks are red,\n",
      "              'ticks': 'outside', #   placed outside the axis frame,\n",
      "              'ticklen': 8,       #   with a length of 8 pixels,\n",
      "              'tickwidth': 3,     #   and a width of 3 pixels.\n",
      "              'gridcolor': 'green',   # vertical grid lines are green,\n",
      "              'gridwidth': 3          #   and are 3 pixel wide\n",
      "          },\n",
      "          'yaxis': {\n",
      "              'tickcolor': 'blue',    # yaxis ticks are blue,\n",
      "              'ticks': 'inside',      #   placed inside the axis frame,\n",
      "              'ticklen': 16,          #   with a length of 16 pixels, \n",
      "              'tickwidth': 6,         #   and a width of 6 pixles,\n",
      "              'gridcolor': 'orange',    # horizontal grid line are orange,\n",
      "              'gridwidth': 6            # and are 6 pixel wide\n",
      "\n",
      "          }}\n",
      "\n",
      "py.iplot({'data': data, 'layout': layout}, validate=False, \n",
      "          filename='Hobbs-Pearson-trials comp x-y')"
     ],
     "language": "python",
     "metadata": {},
     "outputs": [
      {
       "html": [
        "<iframe id=\"igraph\" scrolling=\"no\" style=\"border:none;\"seamless=\"seamless\" src=\"https://plot.ly/~etpinard/366\" height=\"525\" width=\"100%\"></iframe>"
       ],
       "metadata": {},
       "output_type": "display_data",
       "text": [
        "<IPython.core.display.HTML at 0x7f2956c843d0>"
       ]
      }
     ],
     "prompt_number": 21
    },
    {
     "cell_type": "markdown",
     "metadata": {},
     "source": [
      "Suggestions\n",
      "\n",
      "- Grid lines should be drawn beneath the scatter points\n",
      "- We shouldn't need to specify `'type': 'scatter'` for this plot\n",
      "\n",
      "<br>\n",
      "\n",
      "- tick options (e.g. `tickcolor`) should be distinct from grid opitons (e.g. `gridcolor`).\n",
      "- We should be able to specify different options for angular and radial axes simultaneously (more in [#5](#5.-Add/Remove-grid-line,-axis-line-and-tick-labels)).\n",
      "\n",
      "\n",
      "* * *"
     ]
    },
    {
     "cell_type": "heading",
     "level": 3,
     "metadata": {},
     "source": [
      "5. Add/Remove grid line, axis line and tick labels"
     ]
    },
    {
     "cell_type": "code",
     "collapsed": false,
     "input": [
      "N = 50\n",
      "circles = 5\n",
      "\n",
      "r = np.linspace(10, 0, N)\n",
      "t = np.linspace(0, 2*np.pi*circles, N)\n",
      "\n",
      "py.iplot({'data':[{\n",
      "              'r': r, \n",
      "              't': t,\n",
      "              'mode': 'markers',\n",
      "           }],\n",
      "          'layout':{\n",
      "              'direction':'counterclockwise',   # 'counterclockwise' should be the default\n",
      "              'orientation':180,  # confusing name, maybe put in 'angularaxis' \n",
      "                                  #   maybe name it 'rotateangle' or 'plotangle' \n",
      "              'angularaxis': {\n",
      "                  'range': [0,2*np.pi],    # maybe have a 'type': 'radians' or 'degrees'?\n",
      "                  'domain':[0,0.5],        # not supported yet\n",
      "                  'showline':False,           # should be 'gridline' !\n",
      "                  'showticklabels':True,      #    \n",
      "                  'tickorientation':'vertical',  # maybe 'ticklabelorientation' instead\n",
      "                                                 # with value 'tangant', 'perpendicular'\n",
      "                  'ticksuffix':' rad',  # Nice! should be added to XAxis and YAxis\n",
      "                  'endpadding':0, # does not appear to work. \n",
      "                                  # Padding between tick and label is a good idea tough\n",
      "                  #'visible':True,  # same as 'showline':False + 'showticklabels':False\n",
      "              },\n",
      "              'radialaxis': {\n",
      "                  'range':[5,13],           # adjusting the radial range\n",
      "                  'domain': [0,0.5],        # not supported yet\n",
      "                  'orientation': 45,        # bug, does not match 'direction' & 'range'\n",
      "                  'showline': False,        # should be 'gridline' !\n",
      "                  'showticklabels': True,   # does not work\n",
      "                  'ticksuffix':' %',        # Nice!\n",
      "                  'endpadding': 0,          # does not appear to work.\n",
      "                  'visible': True           # should be 'showline' (+ 'showticklabels') !\n",
      "              } \n",
      "          }},\n",
      "          validate=False, filename='polar add/remove line/labels')"
     ],
     "language": "python",
     "metadata": {},
     "outputs": [
      {
       "html": [
        "<iframe id=\"igraph\" scrolling=\"no\" style=\"border:none;\"seamless=\"seamless\" src=\"https://plot.ly/~etpinard/369\" height=\"525\" width=\"100%\"></iframe>"
       ],
       "metadata": {},
       "output_type": "display_data",
       "text": [
        "<IPython.core.display.HTML at 0x7f2956c63ed0>"
       ]
      }
     ],
     "prompt_number": 22
    },
    {
     "cell_type": "markdown",
     "metadata": {},
     "source": [
      "Suggestions:\n",
      "\n",
      "- Maybe we should have a `'type'` key in `'angularaxis'` with values `'degrees'` and `'radians'`. `'type': 'radians'` would adjust the range to [0, 2\\*pi] and change the tick labels to &#960;/2 , &#960; , 3&#960;/2 and 2&#960;.\n",
      "\n",
      "\n",
      "- We should delimitate axis line options (`'showline'`, `'linecolor'`, `'linewidth'`) which correspond to the line bouding the axes (circular for `'angularaxis'`, along `'r'` for `'radialaxis'`) and grid line (`'showgrid'`, `'gridcolor'`, `'gridwidth'`) which should be the circular line in `'radialaxis'` and the lines along `'r'` in `'angularaxis'`. \n",
      "\n",
      "- `'tickorientation'` should perhaps be `'ticklabelorientation'` with value `'tangant'`, `'perpendicular'` or even `'tickangle'` (like in `'xaxis'` and `'yaxis'`) with value  in [-180,180].\n",
      "\n",
      "- Tick options should be idential as much as possible to `'xaxis'` and `'yaxis'` (`'autotick'`, `'ticks'`, `'showticklabels'`, `'tick0'`, `'dtick'`, `'ticklen'`, `'tickwidth'`, `'tickcolor'`, `'tickangle'`, `'tickfont'`).\n",
      "\n",
      "\n",
      "* * *"
     ]
    },
    {
     "cell_type": "heading",
     "level": 3,
     "metadata": {},
     "source": [
      "6. Closed loop charts with string coordinates"
     ]
    },
    {
     "cell_type": "markdown",
     "metadata": {},
     "source": [
      "Say we want to make these charts:"
     ]
    },
    {
     "cell_type": "code",
     "collapsed": false,
     "input": [
      "display.Image('http://www.nature.com/nrd/journal/v10/n10/images/nrd3552-f4.jpg')"
     ],
     "language": "python",
     "metadata": {},
     "outputs": [
      {
       "jpeg": "[encoded data removed]",
       "metadata": {},
       "output_type": "pyout",
       "prompt_number": 23,
       "text": [
        "<IPython.core.display.Image at 0x7f2956c63e90>"
       ]
      }
     ],
     "prompt_number": 23
    },
    {
     "cell_type": "code",
     "collapsed": false,
     "input": [
      "py.iplot({'data':[{\n",
      "          't': ['A', 'B', 'C', 'A'],  # does not complete the loop with string coords  \n",
      "          #'t': [0,150,270,0],        # works with number coords though\n",
      "          'r': [1, 2, 3, 1],        \n",
      "          #'r': ['A','B','C','A']     # string radial coordinates do not work\n",
      "        }],\n",
      "        }, filename='radar plot?')"
     ],
     "language": "python",
     "metadata": {},
     "outputs": [
      {
       "html": [
        "<iframe id=\"igraph\" scrolling=\"no\" style=\"border:none;\"seamless=\"seamless\" src=\"https://plot.ly/~etpinard/370\" height=\"525\" width=\"100%\"></iframe>"
       ],
       "metadata": {},
       "output_type": "display_data",
       "text": [
        "<IPython.core.display.HTML at 0x7f2956c77a50>"
       ]
      }
     ],
     "prompt_number": 24
    },
    {
     "cell_type": "markdown",
     "metadata": {},
     "source": [
      "Suggestions:\n",
      "\n",
      "- Closed loop should be supported for string coordinates\n"
     ]
    },
    {
     "cell_type": "markdown",
     "metadata": {},
     "source": [
      "Also"
     ]
    },
    {
     "cell_type": "code",
     "collapsed": false,
     "input": [
      "py.iplot([\n",
      "    {\n",
      "          't': ['A', 'B', 'C', 'D', 'E', 'F', 'G', 'H', 'I', 'J', 'L', 'M', 'N'],\n",
      "          'r': [1,   2,   3,   4,   5,   6,   7,    8,   9,  10,  11,  12,  13]\n",
      "    }], filename='categorical line plot')"
     ],
     "language": "python",
     "metadata": {},
     "outputs": [
      {
       "html": [
        "<iframe id=\"igraph\" scrolling=\"no\" style=\"border:none;\"seamless=\"seamless\" src=\"https://plot.ly/~etpinard/371\" height=\"525\" width=\"100%\"></iframe>"
       ],
       "metadata": {},
       "output_type": "display_data",
       "text": [
        "<IPython.core.display.HTML at 0x7f2956c68a10>"
       ]
      }
     ],
     "prompt_number": 25
    },
    {
     "cell_type": "markdown",
     "metadata": {},
     "source": [
      "- For categorical radial axes (e.g. the '`t'` array has strings), I think we should show up to 20 of the tick labels. i.e. for the chart above, I think A-N should all be visible. \n",
      "\n",
      "- We should also allow users to adjust the spacing in between ticks using `'dticks'` as in `'xaxis'` and `'yaxis'`.\n",
      "\n",
      "* * *"
     ]
    },
    {
     "cell_type": "heading",
     "level": 3,
     "metadata": {},
     "source": [
      "7. Adding a third coordinate to Polar Area Charts ?"
     ]
    },
    {
     "cell_type": "markdown",
     "metadata": {},
     "source": [
      "I'm thinking about describing `'t'` for area traces in graph reference as:\n",
      "\n",
      "The angular coordinates of the circle sectors in this polar area trace. There are as many circle sectors as coordinates linked to 't' and 'r'. Each circle sector is drawn about the \n",
      "coordinates linked to 't', where they spanned symmetrically in both the positive and negative angular directions. The angular extent of each sector is equal to the angular range (360 degree by default) divided by the number of sectors. Note that the sectors are drawn in order; coordinates at the end of the array may overlay the coordinates at the start.\n",
      "\n",
      "By default, the angular coordinates are in degrees (0 to 360) where the angles are measured clockwise about the right-hand side of the origin. To change this behavior, modify 'range' in AngularAxis or/and 'direction' in Layout. If 't' is linked to an array-like of strings, then the angular coordinates are [0, 360\\N, 2\\*360/N, ...] where N is the number of coordinates given labeled by the array-like of strings linked to 't'.\n",
      "\n",
      "\n",
      "Thoughts?\n",
      "\n",
      "An example:"
     ]
    },
    {
     "cell_type": "code",
     "collapsed": false,
     "input": [
      "py.iplot([{\n",
      "           'r': [1, 2, 3],       \n",
      "           't': [0, 180, 270],   # each sector is 120 deg wide,\n",
      "                                 #   the sector at 270 overlays the 2 others.\n",
      "           'type': 'area'   \n",
      "         }], \n",
      "         filename='categorical polar area')"
     ],
     "language": "python",
     "metadata": {},
     "outputs": [
      {
       "html": [
        "<iframe id=\"igraph\" scrolling=\"no\" style=\"border:none;\"seamless=\"seamless\" src=\"https://plot.ly/~etpinard/372\" height=\"525\" width=\"100%\"></iframe>"
       ],
       "metadata": {},
       "output_type": "display_data",
       "text": [
        "<IPython.core.display.HTML at 0x7f2956c51f90>"
       ]
      }
     ],
     "prompt_number": 26
    },
    {
     "cell_type": "markdown",
     "metadata": {},
     "source": [
      "Remarks:\n",
      "\n",
      "- Why not have a third coordinate in 'area' controlling the width (i.e. the angular span, perhaps to be named `'w'`) of each sector instead of strictly specifying them using the number of coordinates sent.\n",
      "\n",
      "For more inspiration, Matplotlib does support 3 coordinates in Polar Charts see [here](http://www.loria.fr/~rougier/teaching/matplotlib/#polar-axis).\n",
      "\n",
      "- We could have something like `layout.areagap` (similar to the current `layout.bargap`, --> [example](https://plot.ly/python/bar-charts) <--) to control the gap in between sectors."
     ]
    },
    {
     "cell_type": "heading",
     "level": 3,
     "metadata": {},
     "source": [
      "8. Custom fonts and sector overlay options"
     ]
    },
    {
     "cell_type": "code",
     "collapsed": false,
     "input": [
      "directions = ['North', 'N-E', 'East', 'S-E', 'South', 'S-W', 'West', 'N-W']\n",
      "colors = ['rgb(242,240,247)', 'rgb(203,201,226)', 'rgb(158,154,200)', 'rgb(106,81,163)']\n",
      "\n",
      "py.iplot({\n",
      "    'data': [\n",
      "    {\n",
      "        'r': [i*100. for i in [0.775,0.725,0.7,0.45, 0.225,0.425,0.4,0.625]],\n",
      "        't': directions,       # largest radii, must be plotted first!\n",
      "        'name': '11-14 m/s',\n",
      "        'type': 'area',\n",
      "        'marker': {\n",
      "            'color': colors[3]\n",
      "        }\n",
      "    },\n",
      "    {\n",
      "        'r': [i*100. for i in [ 0.575,0.5,0.45, 0.35, 0.2,0.225,0.375,0.55]],\n",
      "        't': directions,      # second largest radii\n",
      "        'name': '8-11 m/s',\n",
      "        'type': 'area',\n",
      "        'marker': {\n",
      "            'color': colors[2]\n",
      "        }\n",
      "    },\n",
      "    {\n",
      "        'r': [i*100. for i in [0.4, 0.3, 0.3, 0.35,  0.075, 0.075, 0.325, 0.4]],\n",
      "        't': directions,     # third largest radii\n",
      "        'name': '5-8 m/s',\n",
      "        'type': 'area',\n",
      "        'marker': {\n",
      "            'color': colors[1]\n",
      "        }\n",
      "    },\n",
      "    {\n",
      "        'r': [i*100. for i in [0.2, 0.075, 0.15, 0.225, 0.025, 0.025, 0.125, 0.225]],\n",
      "        't': directions,    # smallest radii\n",
      "        'name': '< 5 m/s',\n",
      "        'type': 'area',\n",
      "        'marker': {\n",
      "            'color': colors[0]\n",
      "        }\n",
      "    }\n",
      "    ],\n",
      "    'layout': {\n",
      "        'title': 'Wind Speed Distribution in Laurel, NE',\n",
      "        'font': {\n",
      "            'size': 10,                        \n",
      "            'family': 'Gravitas One, cursive'  # should set legend font also\n",
      "        },\n",
      "        'titlefont': {\n",
      "            'size': 30,  \n",
      "            'family': 'Raleway, sans-serif',       # does not work\n",
      "        },\n",
      "        'radialaxis': {\n",
      "            'title': 'does not work',\n",
      "            'titlefont': {\n",
      "                'size': 30,  \n",
      "                'family': 'Raleway, sans-serif',   # does not work\n",
      "            },\n",
      "            'tickfont': {\n",
      "                'size': 30,  \n",
      "                'family': 'Raleway, sans-serif',   # does not work\n",
      "            },\n",
      "        },\n",
      "        'angularaxis': {\n",
      "            'title': 'not supported, how would this work?',\n",
      "            'titlefont': {\n",
      "                'size': 30,  \n",
      "                'family': 'Raleway, sans-serif',   # does not work\n",
      "            },\n",
      "           'tickfont': {\n",
      "                'size': 30,  \n",
      "                'family': 'Raleway, sans-serif',   # does not work\n",
      "            },\n",
      "        },\n",
      "        'legend':{\n",
      "            'font': {\n",
      "                'size': 30,    \n",
      "                'family': 'Raleway, sans-serif',   # does not work\n",
      "            }\n",
      "        }\n",
      "    }}, validate=False, filename='polar')"
     ],
     "language": "python",
     "metadata": {},
     "outputs": [
      {
       "html": [
        "<iframe id=\"igraph\" scrolling=\"no\" style=\"border:none;\"seamless=\"seamless\" src=\"https://plot.ly/~etpinard/373\" height=\"525\" width=\"100%\"></iframe>"
       ],
       "metadata": {},
       "output_type": "display_data",
       "text": [
        "<IPython.core.display.HTML at 0x7f2956bfd950>"
       ]
      }
     ],
     "prompt_number": 27
    },
    {
     "cell_type": "markdown",
     "metadata": {},
     "source": [
      "Area plots like this one (with unique angular coordinates) works well, if you don't mind that every sectors have the same angular width.\n",
      "\n",
      "Wishlist:\n",
      "\n",
      "- `layout.titlefont` to only set the font of plot's title\n",
      "- titled radial axis, `radialaxis.title`\n",
      "- Maybe find a way to title the angular axis (`angularaxis.title`)\n",
      "- global font (`layout.font`) should update the legend font\n",
      "- configurable legend font (`layout.legend.font`)\n",
      "- configurable tick label font \n",
      " (`layout.radialaxis.tickfont` & `layout.angularaxis.tickfont`) \n",
      " \n",
      "<br>\n",
      " \n",
      "- User should have access to a `layout.areamode` key (similar to the current `layout.barmode`, --> [example](https://plot.ly/python/bar-charts) <--) with value `'overlay'` or `'stack'` or `'group'` (more on this in [#10.2](#10.2))"
     ]
    },
    {
     "cell_type": "heading",
     "level": 3,
     "metadata": {},
     "source": [
      "9. color in Marker should accept array to color individual pts/sectors"
     ]
    },
    {
     "cell_type": "markdown",
     "metadata": {},
     "source": [
      "In Plotly, `marker.color` can be an array: e.g. for bars --> [example](https://plot.ly/python/bar-charts/#Customizing-Individual-Bar-Colors) <--"
     ]
    },
    {
     "cell_type": "code",
     "collapsed": false,
     "input": [
      "py.iplot([\n",
      "    {\n",
      "         't': ['a', 'b', 'c'],\n",
      "         'r': [1, 2, 3],\n",
      "         'type': 'area',\n",
      "         'marker': {\n",
      "            'color': ['red', 'blue', 'green'],  # does not work (same for scatter trace)\n",
      "            'line': {  \n",
      "                'color':'red',   # nice!\n",
      "                'width':5        # nice!\n",
      "            }\n",
      "         }\n",
      "    }\n",
      "], filename='polar fill color array')"
     ],
     "language": "python",
     "metadata": {},
     "outputs": [
      {
       "html": [
        "<iframe id=\"igraph\" scrolling=\"no\" style=\"border:none;\"seamless=\"seamless\" src=\"https://plot.ly/~etpinard/376\" height=\"525\" width=\"100%\"></iframe>"
       ],
       "metadata": {},
       "output_type": "display_data",
       "text": [
        "<IPython.core.display.HTML at 0x7f2956c68050>"
       ]
      }
     ],
     "prompt_number": 28
    },
    {
     "cell_type": "markdown",
     "metadata": {},
     "source": [
      "Suggestions:\n",
      "\n",
      "- User should be able to color individual area sectors and scatter points using arrays linked to `'marker.color'`"
     ]
    },
    {
     "cell_type": "heading",
     "level": 3,
     "metadata": {},
     "source": [
      "10. How to make the following charts in Plotly?"
     ]
    },
    {
     "cell_type": "heading",
     "level": 5,
     "metadata": {},
     "source": [
      "10.1"
     ]
    },
    {
     "cell_type": "code",
     "collapsed": false,
     "input": [
      "display.Image(url='http://schwehr.org/blog/attachments/2005-10/polar_test2.png')"
     ],
     "language": "python",
     "metadata": {},
     "outputs": [
      {
       "html": [
        "<img src=\"http://schwehr.org/blog/attachments/2005-10/polar_test2.png\"/>"
       ],
       "metadata": {},
       "output_type": "pyout",
       "prompt_number": 29,
       "text": [
        "<IPython.core.display.Image at 0x7f2956c74990>"
       ]
      }
     ],
     "prompt_number": 29
    },
    {
     "cell_type": "markdown",
     "metadata": {},
     "source": [
      "We need:\n",
      "\n",
      "- support for `marker.colorscale` \n",
      "- support for arrays linked to `maker.size`\n",
      "\n",
      "in polar scatter traces."
     ]
    },
    {
     "cell_type": "heading",
     "level": 5,
     "metadata": {},
     "source": [
      "10.2"
     ]
    },
    {
     "cell_type": "code",
     "collapsed": false,
     "input": [
      "display.Image(url='http://blog.smartbear.com/wp-content/uploads/imports/favorite_pie_chart.jpg')"
     ],
     "language": "python",
     "metadata": {},
     "outputs": [
      {
       "html": [
        "<img src=\"http://blog.smartbear.com/wp-content/uploads/imports/favorite_pie_chart.jpg\"/>"
       ],
       "metadata": {},
       "output_type": "pyout",
       "prompt_number": 30,
       "text": [
        "<IPython.core.display.Image at 0x7f2956c749d0>"
       ]
      }
     ],
     "prompt_number": 30
    },
    {
     "cell_type": "markdown",
     "metadata": {},
     "source": [
      "We need:\n",
      "\n",
      "- a third coordinate in area traces controlling the width of the sectors. \n",
      "\n",
      "The corresponding JSON would look something like:\n",
      "\n",
      "```\n",
      "{\n",
      "'data':\n",
      "    [{\n",
      "        'type': 'area',\n",
      "        'w' : ['8,4%', '20.6%', 18.5%' ...]\n",
      "        'text'['Strawberry Rhubarb', 'Apple', 'Ohter', ... \n",
      "     }]\n",
      "'layout':\n",
      "    {}\n",
      "}\n",
      "   \n",
      "```\n",
      "\n",
      "**Or**\n",
      "```\n",
      "{\n",
      "'data':\n",
      "    [{\n",
      "        'type': 'area',\n",
      "        'w': ['8.4%']\n",
      "        'name': 'Strawberry Rhubarb'\n",
      "    },\n",
      "    {\n",
      "        'type': 'area',\n",
      "        'w': ['20.6%']\n",
      "        'name': 'Apple'\n",
      "    },\n",
      "    ...\n",
      "    ]\n",
      "'layout':\n",
      "    {\n",
      "        'areamode': group'\n",
      "    }    \n",
      "\n",
      "}\n",
      "```\n",
      "\n",
      "where `'r'` is filled in 1s and `'t'` is filled using some behind-the-scenes algorithm."
     ]
    },
    {
     "cell_type": "heading",
     "level": 5,
     "metadata": {},
     "source": [
      "10.3"
     ]
    },
    {
     "cell_type": "code",
     "collapsed": false,
     "input": [
      "display.Image(url='http://i.imgur.com/UQwxKEG.png')"
     ],
     "language": "python",
     "metadata": {},
     "outputs": [
      {
       "html": [
        "<img src=\"http://i.imgur.com/UQwxKEG.png\"/>"
       ],
       "metadata": {},
       "output_type": "pyout",
       "prompt_number": 31,
       "text": [
        "<IPython.core.display.Image at 0x7f2956c74710>"
       ]
      }
     ],
     "prompt_number": 31
    },
    {
     "cell_type": "markdown",
     "metadata": {},
     "source": [
      "Here each sector has the same angular width\n",
      "\n",
      "We need:\n",
      "\n",
      "- a `layout.areagap` key to add a constant angular gap between each sector\n",
      "- to draw each string angular coordinate (or use a `angularaxis.dtick` key)\n",
      "- a `layout.areamode` key to specify that each area trace are stacked on top of each other"
     ]
    },
    {
     "cell_type": "heading",
     "level": 5,
     "metadata": {},
     "source": [
      "10.4"
     ]
    },
    {
     "cell_type": "code",
     "collapsed": false,
     "input": [
      "display.Image(url='http://www.nature.com/nutd/journal/v4/n2/images/nutd20146f3.jpg')"
     ],
     "language": "python",
     "metadata": {},
     "outputs": [
      {
       "html": [
        "<img src=\"http://www.nature.com/nutd/journal/v4/n2/images/nutd20146f3.jpg\"/>"
       ],
       "metadata": {},
       "output_type": "pyout",
       "prompt_number": 32,
       "text": [
        "<IPython.core.display.Image at 0x7f297bc14710>"
       ]
      }
     ],
     "prompt_number": 32
    },
    {
     "cell_type": "markdown",
     "metadata": {},
     "source": [
      "We need:\n",
      "\n",
      "- to make scatter traces with strings linked to `'t'` be able to *link up* (see [#6](#6.-Closed-loop-charts-with-string-coordinates))"
     ]
    },
    {
     "cell_type": "heading",
     "level": 5,
     "metadata": {},
     "source": [
      "10.5"
     ]
    },
    {
     "cell_type": "code",
     "collapsed": false,
     "input": [
      "display.Image(url='http://cbio.ensmp.fr/~nvaroquaux/formations/scipy-lecture-notes/_images/plot_polar_ex_1.png')"
     ],
     "language": "python",
     "metadata": {},
     "outputs": [
      {
       "html": [
        "<img src=\"http://cbio.ensmp.fr/~nvaroquaux/formations/scipy-lecture-notes/_images/plot_polar_ex_1.png\"/>"
       ],
       "metadata": {},
       "output_type": "pyout",
       "prompt_number": 33,
       "text": [
        "<IPython.core.display.Image at 0x7f2956c74e90>"
       ]
      }
     ],
     "prompt_number": 33
    },
    {
     "cell_type": "markdown",
     "metadata": {},
     "source": [
      "We need:\n",
      "\n",
      "- to make the distinctinon between `angularaxis.linewidth` (the bounding line and the angular axis)  and `radialaxis.gridwidth` + `radialaxis.gridcolor` (the radial grid lines)\n",
      "\n",
      "- This would also requires a third coordinate (`'w'`) in area traces (as in [matplotlib](http://www.loria.fr/~rougier/teaching/matplotlib/#polar-axis)).\n",
      "\n",
      "In this case, one could set up 1 trace per sector color and order accordingly in `'data'`."
     ]
    },
    {
     "cell_type": "heading",
     "level": 5,
     "metadata": {},
     "source": [
      "10.6"
     ]
    },
    {
     "cell_type": "code",
     "collapsed": false,
     "input": [
      "display.Image('http://i.stack.imgur.com/eVTsq.jpg')"
     ],
     "language": "python",
     "metadata": {},
     "outputs": [
      {
       "jpeg": "[encoded data removed]",
       "metadata": {},
       "output_type": "pyout",
       "prompt_number": 34,
       "text": [
        "<IPython.core.display.Image at 0x7f2956c74ed0>"
       ]
      }
     ],
     "prompt_number": 34
    },
    {
     "cell_type": "markdown",
     "metadata": {},
     "source": [
      "A Plotly version of the above plots would be amazing!\n",
      "\n",
      "The main difficulty is to find a way to *tag* a *children* sector to its *parent* (e.g. Coffee is the parent of Tastes and Aromas).\n",
      "\n",
      "To make the user experience as intuitive as possible, I suggest that we include two new keys in area trace (that I should be named barpolar traces in my mind):\n",
      "\n",
      "- `'parent'`:  accepts either a `'name'` value set to a `'name'` key of a trace above in the trace ordering or an integer corresponding a trace number. This would *tag* a children sector to its *parent*.\n",
      "- `'relativew'` (for relative w): a boolean. If True the `'w'` coordinates in this trace are drawn relative to its parent trace. The default would `'relativew'`: False.\n",
      "\n",
      "Morever, we would need :\n",
      "\n",
      "- `layout.areamode` (or `layout.barmode`) to accept a `'parent-children'` or `'tree'` value \n",
      "\n",
      "So the above could be made using something like:\n",
      "\n",
      "```\n",
      "{'data':[\n",
      "    {\n",
      "        'w':1,\n",
      "        'name': 'Coffee',\n",
      "    },\n",
      "    {\n",
      "        'w': 0.6,// default could be\n",
      "                 // 1/(number of children \n",
      "                 //    from this parent at this level)\n",
      "        'name': 'Aromas',\n",
      "        'parent': 'Coffee'  // (or 1)\n",
      "         // 'relativew  (does not matter\n",
      "         //               as parent has width=360)\n",
      "    },\n",
      "    {\n",
      "        'w': 0.4,\n",
      "        'name': 'Tastes',\n",
      "        'parent': 'Coffee' // (or 1)\n",
      "        // 'relativew  (does not matter \n",
      "        //              as parent has width=360)\n",
      "    },\n",
      "    {\n",
      "        'w': 0.25,\n",
      "        'name': 'Sour',\n",
      "        'parent': 'Tastes', // (or 2)\n",
      "        'relativew': True\n",
      "    },\n",
      "    {\n",
      "        'w': 0.25,\n",
      "        'name': 'Sweet',\n",
      "        'parent': 'Tastes', // (or 2)\n",
      "        'relativew': True\n",
      "    },\n",
      "    {\n",
      "        'w': 0.25,\n",
      "        'name': 'Salt',\n",
      "        'parent': 'Tastes', // (or 2)\n",
      "        'relativew': True\n",
      "    },\n",
      "    {\n",
      "        'w': 0.25,\n",
      "        'name': 'Bitter',\n",
      "        'parent': 'Tastes', // (or 2)\n",
      "        'relativew': True\n",
      "    },\n",
      "    \n",
      "    // ....\n",
      "\n",
      "],\n",
      "'layout':{\n",
      "    'barmode': 'parent-children'\n",
      "    \n",
      "}\n",
      "}\n",
      "\n",
      "```\n",
      "\n",
      "In addition, we would have to find a way to label each bar automatically, possibly using a `'directannotation'` boolean key in `barpolar`. "
     ]
    },
    {
     "cell_type": "heading",
     "level": 3,
     "metadata": {},
     "source": [
      "11. Ideas for Polar subplots"
     ]
    },
    {
     "cell_type": "markdown",
     "metadata": {},
     "source": [
      "Polar subplots are not yet supported.\n",
      "\n",
      "An important issues arises:\n",
      "\n",
      "- How should the position of a polar subplot, its radial extend and angular extend be set?\n",
      "\n",
      "Suggestions, in `'radialaxis'`:\n",
      "\n",
      "-`'domain'`: accepts two numbers, the start and end points of radial axis in normalized coordinates. For example, [0.1, 0.5] would correspond to donut chart spanning half the paper size.\n",
      "\n",
      "`'positionorigin'`: accepts two numbers, the normalized x-y paper coordinates of the origin. [0.5, 0.5] would place the subplot in the center of the paper.\n",
      "\n",
      "In `'angularaxis'`:\n",
      "\n",
      "- `'span'` (not to be confused with domain): the start and end points of the angular axis in degrees (or radians depending on `'type'`). For example, [0,360] would correpsond to a full circle [90,270] a half circle."
     ]
    },
    {
     "cell_type": "markdown",
     "metadata": {},
     "source": [
      "Here are some examples of plots that users should be able to make in Plotly:"
     ]
    },
    {
     "cell_type": "code",
     "collapsed": false,
     "input": [
      "display.Image(url='http://www.nature.com/nmat/journal/v12/n5/images_article/nmat3557-f4.jpg')"
     ],
     "language": "python",
     "metadata": {},
     "outputs": [
      {
       "html": [
        "<img src=\"http://www.nature.com/nmat/journal/v12/n5/images_article/nmat3557-f4.jpg\"/>"
       ],
       "metadata": {},
       "output_type": "pyout",
       "prompt_number": 35,
       "text": [
        "<IPython.core.display.Image at 0x7f2956c74750>"
       ]
      }
     ],
     "prompt_number": 35
    },
    {
     "cell_type": "code",
     "collapsed": false,
     "input": [
      "display.Image(url='http://www.nature.com/nphoton/journal/v5/n12/images/nphoton.2011.254-f5.jpg')"
     ],
     "language": "python",
     "metadata": {},
     "outputs": [
      {
       "html": [
        "<img src=\"http://www.nature.com/nphoton/journal/v5/n12/images/nphoton.2011.254-f5.jpg\"/>"
       ],
       "metadata": {},
       "output_type": "pyout",
       "prompt_number": 36,
       "text": [
        "<IPython.core.display.Image at 0x7f2956c74410>"
       ]
      }
     ],
     "prompt_number": 36
    },
    {
     "cell_type": "code",
     "collapsed": false,
     "input": [
      "display.Image(url='http://www.nature.com/ng/journal/v43/n10/images_article/ng.906-F5.jpg')"
     ],
     "language": "python",
     "metadata": {},
     "outputs": [
      {
       "html": [
        "<img src=\"http://www.nature.com/ng/journal/v43/n10/images_article/ng.906-F5.jpg\"/>"
       ],
       "metadata": {},
       "output_type": "pyout",
       "prompt_number": 37,
       "text": [
        "<IPython.core.display.Image at 0x7f2970d43810>"
       ]
      }
     ],
     "prompt_number": 37
    },
    {
     "cell_type": "markdown",
     "metadata": {},
     "source": [
      "<br>\n",
      "<br>\n",
      "<hr>\n",
      "<br>"
     ]
    },
    {
     "cell_type": "code",
     "collapsed": false,
     "input": [
      "from IPython.display import display, HTML\n",
      "import urllib2\n",
      "url = 'https://raw.githubusercontent.com/plotly/python-user-guide/master/custom.css'\n",
      "display(HTML(urllib2.urlopen(url).read()))"
     ],
     "language": "python",
     "metadata": {},
     "outputs": [
      {
       "html": [
        "<style>\n",
        "    /*body {\n",
        "        background-color: #F5F5F5;\n",
        "    }*/\n",
        "    div.cell{\n",
        "        width: 850px;\n",
        "        margin-left: 10% !important;\n",
        "        margin-right: auto;\n",
        "    }\n",
        "    h1 {\n",
        "        font-family: \"Open sans\",verdana,arial,sans-serif;\n",
        "    }\n",
        "    .text_cell_render h1 {\n",
        "        font-weight: 200;\n",
        "        font-size: 40pt;\n",
        "        line-height: 100%;\n",
        "        color:#447adb;\n",
        "        margin-bottom: 0em;\n",
        "        margin-top: 0em;\n",
        "        display: block;\n",
        "        white-space: nowrap;\n",
        "    } \n",
        "    h2 {\n",
        "        font-family: \"Open sans\",verdana,arial,sans-serif;\n",
        "        text-indent:1em;\n",
        "    }\n",
        "    .text_cell_render h2 {\n",
        "        font-weight: 200;\n",
        "        font-size: 20pt;\n",
        "        font-style: italic;\n",
        "        line-height: 100%;\n",
        "        color:#447adb;\n",
        "        margin-bottom: 1.5em;\n",
        "        margin-top: 0.5em;\n",
        "        display: block;\n",
        "        white-space: nowrap;\n",
        "    } \n",
        "    h3 {\n",
        "        font-family: \"Open sans\",verdana,arial,sans-serif;\n",
        "    }\n",
        "    .text_cell_render h3 {\n",
        "        font-weight: 300;\n",
        "        font-size: 18pt;\n",
        "        line-height: 100%;\n",
        "        color:#447adb;\n",
        "        margin-bottom: 0.5em;\n",
        "        margin-top: 2em;\n",
        "        display: block;\n",
        "        white-space: nowrap;\n",
        "    }\n",
        "    h4 {\n",
        "        font-family: \"Open sans\",verdana,arial,sans-serif;\n",
        "    }\n",
        "    .text_cell_render h4 {\n",
        "        font-weight: 300;\n",
        "        font-size: 16pt;\n",
        "        color:#447adb;\n",
        "        margin-bottom: 0.5em;\n",
        "        margin-top: 0.5em;\n",
        "        display: block;\n",
        "        white-space: nowrap;\n",
        "    }\n",
        "    h5 {\n",
        "        font-family: \"Open sans\",verdana,arial,sans-serif;\n",
        "    }\n",
        "    .text_cell_render h5 {\n",
        "        font-weight: 300;\n",
        "        font-style: normal;\n",
        "        color: #1d3b84;\n",
        "        font-size: 16pt;\n",
        "        margin-bottom: 0em;\n",
        "        margin-top: 1.5em;\n",
        "        display: block;\n",
        "        white-space: nowrap;\n",
        "    }\n",
        "    div.text_cell_render{\n",
        "        font-family: \"Open sans\",verdana,arial,sans-serif;\n",
        "        line-height: 135%;\n",
        "        font-size: 125%;\n",
        "        width:750px;\n",
        "        margin-left:auto;\n",
        "        margin-right:auto;\n",
        "        text-align:justify;\n",
        "        text-justify:inter-word;\n",
        "    }\n",
        "    div.output_subarea.output_text.output_pyout {\n",
        "        overflow-x: auto;\n",
        "        overflow-y: scroll;\n",
        "        max-height: 300px;\n",
        "    }\n",
        "    div.output_subarea.output_stream.output_stdout.output_text {\n",
        "        overflow-x: auto;\n",
        "        overflow-y: scroll;\n",
        "        max-height: 300px;\n",
        "    }\n",
        "    div.output_subarea.output_html.rendered_html {\n",
        "        overflow-x: scroll;\n",
        "        max-width: 100%;\n",
        "      /*  overflow-y: scroll; */\n",
        "      /*  max-height: 300px;   */\n",
        "    }\n",
        "    code{\n",
        "      font-size: 78%;\n",
        "    }\n",
        "    .rendered_html code{\n",
        "    background-color: transparent;\n",
        "    }\n",
        "    ul{\n",
        "        /* color:#447adb; */  \n",
        "        margin: 2em;\n",
        "    }\n",
        "    ul li{\n",
        "        padding-left: 0.5em; \n",
        "        margin-bottom: 0.5em; \n",
        "        margin-top: 0.5em; \n",
        "    }\n",
        "    ul li li{\n",
        "        padding-left: 0.2em; \n",
        "        margin-bottom: 0.2em; \n",
        "        margin-top: 0.2em; \n",
        "    }\n",
        "    ol{\n",
        "        /* color:#447adb; */  \n",
        "        margin: 2em;\n",
        "    }\n",
        "    ol li{\n",
        "        padding-left: 0.5em; \n",
        "        margin-bottom: 0.5em; \n",
        "        margin-top: 0.5em; \n",
        "    }\n",
        "    /*.prompt{\n",
        "        display: None;\n",
        "    } */\n",
        "    ul li{\n",
        "        padding-left: 0.5em; \n",
        "        margin-bottom: 0.5em; \n",
        "        margin-top: 0.2em; \n",
        "    }\n",
        "    a:link{\n",
        "       font-weight: bold;\n",
        "       color:#447adb;\n",
        "    }\n",
        "    a:visited{\n",
        "       font-weight: bold;\n",
        "       color: #1d3b84;\n",
        "    }\n",
        "    a:hover{\n",
        "       font-weight: bold;\n",
        "       color: #1d3b84;\n",
        "    }\n",
        "    a:focus{\n",
        "       font-weight: bold;\n",
        "       color:#447adb;\n",
        "    }\n",
        "    a:active{\n",
        "       font-weight: bold;\n",
        "       color:#447adb;\n",
        "    }\n",
        "    .rendered_html :link {\n",
        "       text-decoration: none; \n",
        "    }\n",
        "    .rendered_html :hover {\n",
        "       text-decoration: none; \n",
        "    }\n",
        "    .rendered_html :visited {\n",
        "      text-decoration: none;\n",
        "    }\n",
        "    .rendered_html :focus {\n",
        "      text-decoration: none;\n",
        "    }\n",
        "    .rendered_html :active {\n",
        "      text-decoration: none;\n",
        "    }\n",
        "    .warning{\n",
        "        color: rgb( 240, 20, 20 )\n",
        "    } \n",
        "    hr {\n",
        "      color: #f3f3f3;\n",
        "      background-color: #f3f3f3;\n",
        "      height: 1px;\n",
        "    }\n",
        "    blockquote{\n",
        "      display:block;\n",
        "      background: #f3f3f3;\n",
        "      font-family: \"Open sans\",verdana,arial,sans-serif;\n",
        "      width:610px;\n",
        "      padding: 15px 15px 15px 15px;\n",
        "      text-align:justify;\n",
        "      text-justify:inter-word;\n",
        "      }\n",
        "      blockquote p {\n",
        "        margin-bottom: 0;\n",
        "        line-height: 125%;\n",
        "        font-size: 100%;\n",
        "      }\n",
        "   /* element.style {\n",
        "    } */  \n",
        "</style>\n",
        "<script>\n",
        "    MathJax.Hub.Config({\n",
        "                        TeX: {\n",
        "                           extensions: [\"AMSmath.js\"]\n",
        "                           },\n",
        "                tex2jax: {\n",
        "                    inlineMath: [ [\"$\",\"$\"], [\"\\\\(\",\"\\\\)\"] ],\n",
        "                    displayMath: [ [\"$$\",\"$$\"], [\"\\\\[\",\"\\\\]\"] ]\n",
        "                },\n",
        "                displayAlign: \"center\", // Change this to \"center\" to center equations.\n",
        "                \"HTML-CSS\": {\n",
        "                    styles: {\".MathJax_Display\": {\"margin\": 4}}\n",
        "                }\n",
        "        });\n",
        "</script>\n"
       ],
       "metadata": {},
       "output_type": "display_data",
       "text": [
        "<IPython.core.display.HTML at 0x7f2956c74b90>"
       ]
      }
     ],
     "prompt_number": 38
    },
    {
     "cell_type": "code",
     "collapsed": false,
     "input": [],
     "language": "python",
     "metadata": {},
     "outputs": []
    }
   ],
   "metadata": {}
  }
 ]
}