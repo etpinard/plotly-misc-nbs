{
 "metadata": {
  "name": ""
 },
 "nbformat": 3,
 "nbformat_minor": 0,
 "worksheets": [
  {
   "cells": [
    {
     "cell_type": "markdown",
     "metadata": {},
     "source": [
      "## Recreating Hans Rosling's Famous Animated Bubble Charts with Plotly Real-time Streaming Graphs\n",
      "Learn more about real-time streaming graphs with plotly here: [https://github.com/plotly/streaming-demos](https://github.com/plotly/streaming-demos)"
     ]
    },
    {
     "cell_type": "code",
     "collapsed": false,
     "input": [
      "import plotly\n",
      "import requests\n",
      "import time\n",
      "import json\n",
      "import math\n",
      "import pprint"
     ],
     "language": "python",
     "metadata": {},
     "outputs": [],
     "prompt_number": 1
    },
    {
     "cell_type": "code",
     "collapsed": false,
     "input": [
      "plotly.__version__"
     ],
     "language": "python",
     "metadata": {},
     "outputs": [
      {
       "metadata": {},
       "output_type": "pyout",
       "prompt_number": 5,
       "text": [
        "'0.5.13'"
       ]
      }
     ],
     "prompt_number": 5
    },
    {
     "cell_type": "code",
     "collapsed": false,
     "input": [
      "# Fill in the config.json file in this directory with your plotly username, \n",
      "# plotly API key, and your generated plotly streaming tokens\n",
      "# Sign up to plotly here: https://plot.ly/ssu\n",
      "# View your API key and streaming tokens here: https://plot.ly/settings\n",
      "\n",
      "#with open('./config.json') as config_file:\n",
      "#    plotly_user_config = json.load(config_file)\n",
      "\n",
      "username = \"etpinard\"\n",
      "api_key = \"a35m7g6el5\"\n",
      "stream_token = \"p17pxe0idb\""
     ],
     "language": "python",
     "metadata": {},
     "outputs": [],
     "prompt_number": 12
    },
    {
     "cell_type": "code",
     "collapsed": false,
     "input": [
      "# Initialize your plotly object\n",
      "p = plotly.plotly(username, api_key)\n",
      "p.ioff()"
     ],
     "language": "python",
     "metadata": {},
     "outputs": [],
     "prompt_number": 13
    },
    {
     "cell_type": "code",
     "collapsed": false,
     "input": [
      "# Embed the stream token in one of the traces of a plotly-data object - one token per trace\n",
      "axes = {\n",
      "    'showgrid': False,\n",
      "    'showline': False,\n",
      "    'ticks': '',\n",
      "    'zeroline': False,\n",
      "    'titlefont': {'size': 16, 'color': 'rgb(67,67,67)'},\n",
      "    'tickfont': {'size': 13, 'color': 'rgb(67,67,67)'}\n",
      "}\n",
      "xaxis = dict({'range': [0, 5e4], 'type': 'log', 'title': 'GDP per Capita'}.items() + axes.items())\n",
      "yaxis = dict({'range': [30, 83], 'title': 'Life Expectancy', 'exponentformat': 'power'}.items() + axes.items())\n",
      "\n",
      "r = p.plot([{\n",
      "            'x':[],\n",
      "            'y':[],\n",
      "            'text':[],\n",
      "            'mode': 'markers',\n",
      "            'marker': {\n",
      "                'sizemode': 'area',\n",
      "                'sizeref': 200000,#0.05,\n",
      "                'opacity': 0.55,\n",
      "                'line': {\n",
      "                    'width': 1,\n",
      "                    'color': 'white'\n",
      "                }\n",
      "            },\n",
      "            'showlegend': False,\n",
      "            'stream': {\n",
      "                'token': stream_token, 'maxpoints': 29\n",
      "            }},\n",
      "        ],\n",
      "    layout={\n",
      "        'xaxis': xaxis,\n",
      "        'yaxis': yaxis,\n",
      "        'titlefont':{'size': 32, 'color': 'rgb(67,67,67)'},\n",
      "        'legend': {\n",
      "            'bgcolor': 'rgba(255, 255, 255, 0)',\n",
      "            'bordercolor': 'rgba(255, 255, 255, 0)',\n",
      "            'fontcolor': 'rgb(67, 67, 67)',\n",
      "            'size': 13,\n",
      "            'x': 100,\n",
      "            'y': 0.95\n",
      "        }  \n",
      "    },\n",
      "    filename='Hans Rosling Streaming', fileopt='overwrite', width=1000, height=700)\n",
      "\n",
      "pprint.pprint(r)"
     ],
     "language": "python",
     "metadata": {},
     "outputs": [
      {
       "output_type": "stream",
       "stream": "stdout",
       "text": [
        "Uh oh, an error occured on the server. \n",
        "{u'error': u'Uh oh, an error occured on the server. ',\n",
        " u'filename': u'',\n",
        " u'message': u'',\n",
        " u'url': u'',\n",
        " u'warning': u''}\n"
       ]
      }
     ],
     "prompt_number": 14
    },
    {
     "cell_type": "code",
     "collapsed": false,
     "input": [
      "# Let's load up the Hans Rosling Gapminder Data\n",
      "# It's saved as a JSON file in a gist, you can check out the file here: https://gist.github.com/chriddyp/9167305\n",
      "def readjson(url):\n",
      "    import urllib2, StringIO, json\n",
      "    response = urllib2.urlopen(url).read()\n",
      "    data = json.loads(response)\n",
      "    return data\n",
      "\n",
      "data = readjson(\"https://gist.githubusercontent.com/chriddyp/9167305/raw/db58a28b2144121cbf694ab1b8f73b142b96a464/gapminder.json\")"
     ],
     "language": "python",
     "metadata": {},
     "outputs": [],
     "prompt_number": 15
    },
    {
     "cell_type": "code",
     "collapsed": false,
     "input": [
      "# Let's just take a quick look at the JSON file\n",
      "# The keys are country names:\n",
      "print data.keys()[0:10]"
     ],
     "language": "python",
     "metadata": {},
     "outputs": [
      {
       "output_type": "stream",
       "stream": "stdout",
       "text": [
        "[u'Canada', u'Brazil', u'Sao Tome and Principe', u'Guernsey', u'Turkmenistan', u'Saint Helena', u'Serbia and Montenegro', u'Ireland', u'Lithuania', u'Cambodia']\n"
       ]
      }
     ],
     "prompt_number": 16
    },
    {
     "cell_type": "code",
     "collapsed": false,
     "input": [
      "# And for each country, we have historical data about the GDP, Life Expectancy and Population. \n",
      "# Also, the continent/region that the country belongs to\n",
      "print data['Canada'].keys()"
     ],
     "language": "python",
     "metadata": {},
     "outputs": [
      {
       "output_type": "stream",
       "stream": "stdout",
       "text": [
        "[u'gdp', u'lifeExp', u'continent', u'pop', u'years']\n"
       ]
      }
     ],
     "prompt_number": 17
    },
    {
     "cell_type": "code",
     "collapsed": false,
     "input": [
      "# The data is just stored as arrays, here are some values:\n",
      "print data['Canada']['gdp'][0:10]"
     ],
     "language": "python",
     "metadata": {},
     "outputs": [
      {
       "output_type": "stream",
       "stream": "stdout",
       "text": [
        "[10581.265520182, 10932.4667838283, 11367.1611248765, 11586.6145455354, 11173.2594978109, 11901.5094889284, 12555.5494657206, 12489.9500550468, 12384.4101756439, 12590.8003302521]\n"
       ]
      }
     ],
     "prompt_number": 18
    },
    {
     "cell_type": "code",
     "collapsed": false,
     "input": [
      "# interpolate the raw data - insert 3 values between every year\n",
      "import numpy as np\n",
      "years = np.linspace(1950, 2007, (2007-1950)*1+1)\n",
      "for country in data:\n",
      "    if len(data[country]['years'])>0:\n",
      "        x = np.linspace(data[country]['years'][0], \n",
      "                        data[country]['years'][-1], \n",
      "                        (data[country]['years'][-1] - data[country]['years'][0])*12+1)\n",
      "        data[country]['gdp'] = np.interp(x, data[country]['years'], data[country]['gdp'])\n",
      "        data[country]['lifeExp'] = np.interp(x, data[country]['years'], data[country]['lifeExp'])\n",
      "        data[country]['pop'] = np.interp(x, data[country]['years'], data[country]['pop'])    \n",
      "        data[country]['years'] = x        "
     ],
     "language": "python",
     "metadata": {},
     "outputs": [],
     "prompt_number": 19
    },
    {
     "cell_type": "code",
     "collapsed": false,
     "input": [
      "# To stream data, initialize a plotly streaming object with a streaming token and write to it\n",
      "# In this case, we'll yield an object in the form:\n",
      "# {'x': [...], 'y': [...], 'text': [...], 'marker': {'size': [...], 'color': [...]}}\n",
      "# Where the 'x' data is each country's GDP\n",
      "#           'y' data is each country's Life Expectancy\n",
      "#           'text' data is each country's name\n",
      "#           'size' data is a scaled version of the country's population\n",
      "#           'color' data is color coded to the continents\n",
      "# Each data object will correspond to a specific year, and we'll \"yield\" a new object each year\n",
      "# This data object will stream to to our plotly graph, updating it in real-time!\n",
      "\n",
      "s = plotly.stream(stream_token)\n",
      "\n",
      "yearCnt = 0\n",
      "continent_colors = {'Asia': '#1b9e77', \n",
      "    'Middle East, North Africa, and Greater Arabia': '#d95f02', \n",
      "    'Europe': '#7570b3', \n",
      "    'North America': '#e7298a',\n",
      "    'Central America and the Caribbean': '#66a61e',\n",
      "    'South America': '#e6ab02',\n",
      "    'Sub-Saharan Africa': '#a6761d',\n",
      "    'Oceania': '#666666'}\n",
      "while True:\n",
      "    year = years[yearCnt%len(years)]\n",
      "    graph = {   'x': [],\n",
      "                'y': [],\n",
      "                'text': [],\n",
      "                'marker': {\n",
      "                    'size': [],\n",
      "                    'color': []\n",
      "                }\n",
      "            }\n",
      "\n",
      "    for country in data:\n",
      "        # find the index of the year\n",
      "        i = np.where(data[country]['years']==year)[0]\n",
      "        if len(i)>0:\n",
      "            graph['x'].extend(data[country]['gdp'][i])\n",
      "            graph['y'].extend(data[country]['lifeExp'][i])\n",
      "            graph['marker']['size'].extend(data[country]['pop'][i])\n",
      "            graph['text'].append(country)\n",
      "            graph['marker']['color'].append(continent_colors[data[country]['continent']])\n",
      "\n",
      "    if year%1 == 0:\n",
      "        graph['layout'] = {'title': str(int(year))}\n",
      "\n",
      "    s.write(graph)\n",
      "    time.sleep(0.75)\n",
      "    yearCnt+=1"
     ],
     "language": "python",
     "metadata": {},
     "outputs": [
      {
       "ename": "KeyboardInterrupt",
       "evalue": "",
       "output_type": "pyerr",
       "traceback": [
        "\u001b[1;31m---------------------------------------------------------------------------\u001b[0m\n\u001b[1;31mKeyboardInterrupt\u001b[0m                         Traceback (most recent call last)",
        "\u001b[1;32m<ipython-input-20-be53196cfd6b>\u001b[0m in \u001b[0;36m<module>\u001b[1;34m()\u001b[0m\n\u001b[0;32m     46\u001b[0m \u001b[1;33m\u001b[0m\u001b[0m\n\u001b[0;32m     47\u001b[0m     \u001b[0ms\u001b[0m\u001b[1;33m.\u001b[0m\u001b[0mwrite\u001b[0m\u001b[1;33m(\u001b[0m\u001b[0mgraph\u001b[0m\u001b[1;33m)\u001b[0m\u001b[1;33m\u001b[0m\u001b[0m\n\u001b[1;32m---> 48\u001b[1;33m     \u001b[0mtime\u001b[0m\u001b[1;33m.\u001b[0m\u001b[0msleep\u001b[0m\u001b[1;33m(\u001b[0m\u001b[1;36m0.75\u001b[0m\u001b[1;33m)\u001b[0m\u001b[1;33m\u001b[0m\u001b[0m\n\u001b[0m\u001b[0;32m     49\u001b[0m     \u001b[0myearCnt\u001b[0m\u001b[1;33m+=\u001b[0m\u001b[1;36m1\u001b[0m\u001b[1;33m\u001b[0m\u001b[0m\n",
        "\u001b[1;31mKeyboardInterrupt\u001b[0m: "
       ]
      }
     ],
     "prompt_number": 20
    },
    {
     "cell_type": "code",
     "collapsed": false,
     "input": [
      "# We can view the graph in the web browser, or embedded as an IFrame inside the notebook\n",
      "plotly.display(r['url'])"
     ],
     "language": "python",
     "metadata": {},
     "outputs": [
      {
       "html": [
        "<iframe height=\"750\" id=\"igraph\" scrolling=\"no\" seamless=\"seamless\" src=\"https://plot.ly/~streaming-demos/3/900/700\" width=\"950\"></iframe>"
       ],
       "metadata": {},
       "output_type": "pyout",
       "prompt_number": 11,
       "text": [
        "<IPython.core.display.HTML at 0x104b88fd0>"
       ]
      }
     ],
     "prompt_number": 11
    },
    {
     "cell_type": "markdown",
     "metadata": {},
     "source": [
      "## Give it a try yourself!\n",
      "#### More Streaming IPython Notebooks: [http://nbviewer.ipython.org/github/plotly/Streaming-Demos/tree/master/IPython%20examples/](http://nbviewer.ipython.org/github/plotly/Streaming-Demos/tree/master/IPython%20examples/)\n",
      "#### More about Plotly Streaming [https://github.com/plotly/Streaming-Demos](https://github.com/plotly/Streaming-Demos)\n",
      "\n",
      "### Get in touch!\n",
      "#### [http://twitter.com/plotlygraphs](@plotlygraphs)\n",
      "#### [https://facebook.com/plotly](https://facebook.com/plotly)\n",
      "#### <ben@plot.ly>"
     ]
    },
    {
     "cell_type": "code",
     "collapsed": false,
     "input": [],
     "language": "python",
     "metadata": {},
     "outputs": []
    }
   ],
   "metadata": {}
  }
 ]
}