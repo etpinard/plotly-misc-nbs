{
 "metadata": {
  "name": ""
 },
 "nbformat": 3,
 "nbformat_minor": 0,
 "worksheets": [
  {
   "cells": [
    {
     "cell_type": "markdown",
     "metadata": {},
     "source": [
      "## Streaming with Python's Low-Level Socket Library"
     ]
    },
    {
     "cell_type": "code",
     "collapsed": false,
     "input": [
      "import plotly\n",
      "import socket\n",
      "import json"
     ],
     "language": "python",
     "metadata": {},
     "outputs": [],
     "prompt_number": 1
    },
    {
     "cell_type": "code",
     "collapsed": false,
     "input": [
      "with open('./config_chris.json') as config_file:\n",
      "    plotly_user_config = json.load(config_file)\n",
      "\n",
      "username = plotly_user_config['plotly_username'] \n",
      "api_key = plotly_user_config['plotly_api_key']\n",
      "stream_token = plotly_user_config['plotly_streaming_tokens'][4]\n",
      "stream_server = 'http://stream.plot.ly'"
     ],
     "language": "python",
     "metadata": {},
     "outputs": [],
     "prompt_number": 2
    },
    {
     "cell_type": "code",
     "collapsed": false,
     "input": [
      "# Initialize your plotly object\n",
      "p = plotly.plotly(username, api_key)"
     ],
     "language": "python",
     "metadata": {},
     "outputs": [],
     "prompt_number": 3
    },
    {
     "cell_type": "code",
     "collapsed": false,
     "input": [
      "p.iplot([{'x': [], 'y': [], 'type': 'scatter',\n",
      "            'stream': {'token': stream_token, 'maxpoints': 100}\n",
      "          }], layout={}, \n",
      "        filename='Sockets Example', fileopt='overwrite')"
     ],
     "language": "python",
     "metadata": {},
     "outputs": [
      {
       "html": [
        "<iframe height=\"500\" id=\"igraph\" scrolling=\"no\" seamless=\"seamless\" src=\"https://plot.ly/~streaming-demos/15/600/450\" width=\"650\"></iframe>"
       ],
       "metadata": {},
       "output_type": "pyout",
       "prompt_number": 4,
       "text": [
        "<IPython.core.display.HTML at 0x102c55f10>"
       ]
      }
     ],
     "prompt_number": 4
    },
    {
     "cell_type": "code",
     "collapsed": false,
     "input": [
      "sock = socket.socket(socket.AF_INET, socket.SOCK_STREAM)\n",
      "sock.connect(('stream.plot.ly', 80))\n",
      "\n",
      "# \"Streaming\" is really just a HTTP chunked request\n",
      "# As per HTTP 1.1, each line must be broken with \\r\\n\n",
      "# The headers and the body are broken with \\r\\n\\r\\n\n",
      "# See here for reference: http://en.wikipedia.org/wiki/Chunked_transfer_encoding#Encoded_data\n",
      "# Plotly requires an additional header: plotly-streamtoken\n",
      "\n",
      "# Send the headers\n",
      "sock.send(\"POST / HTTP/1.1\\r\\n\")\n",
      "sock.send(\"Host: 127.0.0.1\\r\\n\")\n",
      "sock.send(\"User-Agent: Python\\r\\n\")\n",
      "sock.send(\"Transfer-Encoding: chunked\\r\\n\")\n",
      "sock.send(\"Connection: close\\r\\n\")\n",
      "sock.send(\"plotly-streamtoken: \"+stream_token)\n",
      "sock.send(\"\\r\\n\\r\\n\")\n",
      "\n",
      "# Now send the body of the message\n",
      "# Each \"chunk\" of data must be preceded with the length of the chunk, in hex\n",
      "s = json.dumps({'x': 1, 'y': 1})+'\\n' # Plotly formatted JSON data\n",
      "sock.send(format(len(s), 'x')+'\\r\\n') # Sending the length of the data in hex\n",
      "sock.send(s+'\\r\\n') # Sending the data\n",
      "\n",
      "# Now send the next chunk, with new data ...\n",
      "s = json.dumps({'x': 2, 'y': 2})+'\\n'\n",
      "sock.send(format(len(s), 'x')+'\\r\\n')\n",
      "sock.send(s+'\\r\\n')\n",
      "\n",
      "# And another ...\n",
      "s = json.dumps({'x': 3, 'y': 3})+'\\n'\n",
      "sock.send(format(len(s), 'x')+'\\r\\n')\n",
      "sock.send(s+'\\r\\n')\n",
      "\n",
      "# Chunked requests end with these lines\n",
      "sock.send(\"0\\r\\n\")\n",
      "sock.send(\"\\r\\n\")\n",
      "\n",
      "sock.close()"
     ],
     "language": "python",
     "metadata": {},
     "outputs": [],
     "prompt_number": 6
    }
   ],
   "metadata": {}
  }
 ]
}