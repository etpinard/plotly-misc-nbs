{
 "cells": [
  {
   "cell_type": "code",
   "execution_count": 1,
   "metadata": {
    "collapsed": true
   },
   "outputs": [],
   "source": [
    "import plotly.plotly as py  \n",
    "import plotly.tools as tls   \n",
    "from plotly.graph_objs import *\n",
    "\n",
    "import time\n",
    "import numpy as np"
   ]
  },
  {
   "cell_type": "code",
   "execution_count": 2,
   "metadata": {
    "collapsed": false
   },
   "outputs": [],
   "source": [
    "tokens = ['ubzkcj0zzv', 'eskvq6ncjg']"
   ]
  },
  {
   "cell_type": "code",
   "execution_count": 3,
   "metadata": {
    "collapsed": false
   },
   "outputs": [],
   "source": [
    "N = 10\n",
    "X = np.random.rand(N, N)\n",
    "Y = np.random.rand(N, N)\n",
    "\n",
    "# some data"
   ]
  },
  {
   "cell_type": "code",
   "execution_count": 4,
   "metadata": {
    "collapsed": false
   },
   "outputs": [
    {
     "data": {
      "text/html": [
       "<iframe id=\"igraph\" scrolling=\"no\" style=\"border:none;\"seamless=\"seamless\" src=\"https://plot.ly/~etpinard/2733.embed\" height=\"525\" width=\"100%\"></iframe>"
      ],
      "text/plain": [
       "<plotly.tools.PlotlyDisplay object>"
      ]
     },
     "execution_count": 4,
     "metadata": {},
     "output_type": "execute_result"
    }
   ],
   "source": [
    "trace1 = Scatter(\n",
    "    x=[],\n",
    "    y=[],\n",
    "    mode='markers',\n",
    "    marker=Marker(\n",
    "        color='blue',\n",
    "        opacity=1,\n",
    "        line=Line(width=0.0),\n",
    "        symbol='circle'\n",
    "    ),\n",
    "    stream=Stream(token=tokens[0]),\n",
    ")\n",
    "\n",
    "trace2 = Scatter(\n",
    "    x=[],\n",
    "    y=[],\n",
    "    mode='markers',\n",
    "    marker=Marker(\n",
    "        color='green',\n",
    "        size=15\n",
    "    ),\n",
    "    stream=Stream(token=tokens[1])\n",
    ")\n",
    "\n",
    "data = Data([trace1, trace2])\n",
    "layout = Layout(\n",
    "    title='Time Series',\n",
    "    yaxis=YAxis(range=[-0.1, 1.1])\n",
    ")\n",
    "fig = Figure(data=data, layout=layout)\n",
    "\n",
    "py.iplot(fig, filename='stream-delete-data')"
   ]
  },
  {
   "cell_type": "code",
   "execution_count": 5,
   "metadata": {
    "collapsed": true
   },
   "outputs": [],
   "source": [
    "s = py.Stream(tokens[0])\n",
    "z = py.Stream(tokens[1])\n",
    "\n",
    "s.open()\n",
    "z.open()"
   ]
  },
  {
   "cell_type": "code",
   "execution_count": 6,
   "metadata": {
    "collapsed": false
   },
   "outputs": [],
   "source": [
    "for i in range(N):\n",
    "\n",
    "    s.write(dict(x=range(N), y=X[i, :]))\n",
    "    z.write(dict(x=range(N), y=Y[i, :])) \n",
    "    \n",
    "    time.sleep(0.9)\n",
    "\n",
    "    s.write(dict(x=[], y=[]))\n",
    "\n",
    "    time.sleep(0.9)\n",
    "    \n",
    "s.close()\n",
    "z.close()"
   ]
  }
 ],
 "metadata": {
  "kernelspec": {
   "display_name": "Python 2",
   "language": "python",
   "name": "python2"
  },
  "language_info": {
   "codemirror_mode": {
    "name": "ipython",
    "version": 2
   },
   "file_extension": ".py",
   "mimetype": "text/x-python",
   "name": "python",
   "nbconvert_exporter": "python",
   "pygments_lexer": "ipython2",
   "version": "2.7.6"
  }
 },
 "nbformat": 4,
 "nbformat_minor": 0
}
