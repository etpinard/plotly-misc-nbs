{
 "metadata": {
  "name": "",
  "signature": "sha256:1abbb442939db8069e83b5e3c49d02b811f4e96b331e1976f4c766ccc20f8706"
 },
 "nbformat": 3,
 "nbformat_minor": 0,
 "worksheets": [
  {
   "cells": [
    {
     "cell_type": "code",
     "collapsed": false,
     "input": [
      "import plotly\n",
      "\n",
      "plotly.__version__"
     ],
     "language": "python",
     "metadata": {},
     "outputs": [
      {
       "metadata": {},
       "output_type": "pyout",
       "prompt_number": 1,
       "text": [
        "'1.2.3'"
       ]
      }
     ],
     "prompt_number": 1
    },
    {
     "cell_type": "code",
     "collapsed": false,
     "input": [
      "import plotly.plotly as py  \n",
      "import plotly.tools as tls  \n",
      "from plotly.graph_objs import *\n",
      "\n",
      "stream_ids = tls.get_credentials_file()['stream_ids']\n",
      "print stream_ids"
     ],
     "language": "python",
     "metadata": {},
     "outputs": [
      {
       "output_type": "stream",
       "stream": "stdout",
       "text": [
        "[u'p17pxe0idb', u'ilzladc8ro', u'o72o1p08y4', u'81dygs4lct']\n"
       ]
      }
     ],
     "prompt_number": 2
    },
    {
     "cell_type": "code",
     "collapsed": false,
     "input": [
      "import numpy as np\n",
      "import pandas as pd\n",
      "import urllib2        \n",
      "import time\n",
      "import datetime"
     ],
     "language": "python",
     "metadata": {},
     "outputs": [],
     "prompt_number": 3
    },
    {
     "cell_type": "code",
     "collapsed": false,
     "input": [
      "url_csv = 'http://donnees.ville.montreal.qc.ca/storage/f/\\\n",
      "2014-01-20T20%3A48%3A50.296Z/2013.csv'\n",
      "\n",
      "fichier_csv = urllib2.urlopen(url_csv)  #\n",
      "df = pd.read_csv(fichier_csv)           #"
     ],
     "language": "python",
     "metadata": {},
     "outputs": [],
     "prompt_number": 4
    },
    {
     "cell_type": "code",
     "collapsed": false,
     "input": [
      "df.head()"
     ],
     "language": "python",
     "metadata": {},
     "outputs": [
      {
       "html": [
        "<div style=\"max-height:1000px;max-width:1500px;overflow:auto;\">\n",
        "<table border=\"1\" class=\"dataframe\">\n",
        "  <thead>\n",
        "    <tr style=\"text-align: right;\">\n",
        "      <th></th>\n",
        "      <th>Date</th>\n",
        "      <th>Unnamed: 1</th>\n",
        "      <th>Berri1</th>\n",
        "      <th>CSC</th>\n",
        "      <th>Mais1</th>\n",
        "      <th>Mais2</th>\n",
        "      <th>Parc</th>\n",
        "      <th>PierDup</th>\n",
        "      <th>Rachel1</th>\n",
        "      <th>Totem_Laurier</th>\n",
        "    </tr>\n",
        "  </thead>\n",
        "  <tbody>\n",
        "    <tr>\n",
        "      <th>0</th>\n",
        "      <td> 01/01/2013</td>\n",
        "      <td> 00:00</td>\n",
        "      <td>  0</td>\n",
        "      <td> 0</td>\n",
        "      <td>  1</td>\n",
        "      <td> 0</td>\n",
        "      <td>  6</td>\n",
        "      <td> 0</td>\n",
        "      <td>   1</td>\n",
        "      <td> 0</td>\n",
        "    </tr>\n",
        "    <tr>\n",
        "      <th>1</th>\n",
        "      <td> 02/01/2013</td>\n",
        "      <td> 00:00</td>\n",
        "      <td> 69</td>\n",
        "      <td> 0</td>\n",
        "      <td> 13</td>\n",
        "      <td> 0</td>\n",
        "      <td> 18</td>\n",
        "      <td> 0</td>\n",
        "      <td>   2</td>\n",
        "      <td> 0</td>\n",
        "    </tr>\n",
        "    <tr>\n",
        "      <th>2</th>\n",
        "      <td> 03/01/2013</td>\n",
        "      <td> 00:00</td>\n",
        "      <td> 69</td>\n",
        "      <td> 2</td>\n",
        "      <td> 21</td>\n",
        "      <td> 6</td>\n",
        "      <td> 22</td>\n",
        "      <td> 1</td>\n",
        "      <td>   0</td>\n",
        "      <td> 0</td>\n",
        "    </tr>\n",
        "    <tr>\n",
        "      <th>3</th>\n",
        "      <td> 04/01/2013</td>\n",
        "      <td> 00:00</td>\n",
        "      <td> 80</td>\n",
        "      <td> 0</td>\n",
        "      <td> 22</td>\n",
        "      <td> 4</td>\n",
        "      <td> 16</td>\n",
        "      <td> 0</td>\n",
        "      <td> 125</td>\n",
        "      <td> 0</td>\n",
        "    </tr>\n",
        "    <tr>\n",
        "      <th>4</th>\n",
        "      <td> 05/01/2013</td>\n",
        "      <td> 00:00</td>\n",
        "      <td> 52</td>\n",
        "      <td> 4</td>\n",
        "      <td> 19</td>\n",
        "      <td> 3</td>\n",
        "      <td> 12</td>\n",
        "      <td> 0</td>\n",
        "      <td>  97</td>\n",
        "      <td> 0</td>\n",
        "    </tr>\n",
        "  </tbody>\n",
        "</table>\n",
        "<p>5 rows \u00d7 10 columns</p>\n",
        "</div>"
       ],
       "metadata": {},
       "output_type": "pyout",
       "prompt_number": 5,
       "text": [
        "         Date Unnamed: 1  Berri1  CSC  Mais1  Mais2  Parc  PierDup  Rachel1  \\\n",
        "0  01/01/2013      00:00       0    0      1      0     6        0        1   \n",
        "1  02/01/2013      00:00      69    0     13      0    18        0        2   \n",
        "2  03/01/2013      00:00      69    2     21      6    22        1        0   \n",
        "3  04/01/2013      00:00      80    0     22      4    16        0      125   \n",
        "4  05/01/2013      00:00      52    4     19      3    12        0       97   \n",
        "\n",
        "   Totem_Laurier  \n",
        "0              0  \n",
        "1              0  \n",
        "2              0  \n",
        "3              0  \n",
        "4              0  \n",
        "\n",
        "[5 rows x 10 columns]"
       ]
      }
     ],
     "prompt_number": 5
    },
    {
     "cell_type": "code",
     "collapsed": false,
     "input": [
      "# Sites' full names\n",
      "sites = ['Berri/<br>de Maisonneuve', \n",
      "         'C\u00f4te-Ste-Catherine<br>(parc Beaubien)',\n",
      "         'de Maisonneuve/<br>Berri',\n",
      "         'de Maisonneuve/<br>Peel',\n",
      "         'du Parc/<br>Duluth',\n",
      "         'Pierre-Dupuy<br>(Habitat 67)', \n",
      "         'Rachel/<br>Marquette', \n",
      "         'Laurier<br>(m\u00e9tro)']"
     ],
     "language": "python",
     "metadata": {},
     "outputs": [],
     "prompt_number": 6
    },
    {
     "cell_type": "code",
     "collapsed": false,
     "input": [
      "dates = df['Date'].tolist()\n",
      "\n",
      "dates_in_words = [\n",
      "    datetime.datetime.strptime(i,'%d/%m/%Y').strftime('%A, %B %d %Y') \n",
      "    for i in dates\n",
      "]\n",
      "\n",
      "dates_in_words"
     ],
     "language": "python",
     "metadata": {},
     "outputs": [
      {
       "metadata": {},
       "output_type": "pyout",
       "prompt_number": 7,
       "text": [
        "['Tuesday, January 01 2013',\n",
        " 'Wednesday, January 02 2013',\n",
        " 'Thursday, January 03 2013',\n",
        " 'Friday, January 04 2013',\n",
        " 'Saturday, January 05 2013',\n",
        " 'Sunday, January 06 2013',\n",
        " 'Monday, January 07 2013',\n",
        " 'Tuesday, January 08 2013',\n",
        " 'Wednesday, January 09 2013',\n",
        " 'Thursday, January 10 2013',\n",
        " 'Friday, January 11 2013',\n",
        " 'Saturday, January 12 2013',\n",
        " 'Sunday, January 13 2013',\n",
        " 'Monday, January 14 2013',\n",
        " 'Tuesday, January 15 2013',\n",
        " 'Wednesday, January 16 2013',\n",
        " 'Thursday, January 17 2013',\n",
        " 'Friday, January 18 2013',\n",
        " 'Saturday, January 19 2013',\n",
        " 'Sunday, January 20 2013',\n",
        " 'Monday, January 21 2013',\n",
        " 'Tuesday, January 22 2013',\n",
        " 'Wednesday, January 23 2013',\n",
        " 'Thursday, January 24 2013',\n",
        " 'Friday, January 25 2013',\n",
        " 'Saturday, January 26 2013',\n",
        " 'Sunday, January 27 2013',\n",
        " 'Monday, January 28 2013',\n",
        " 'Tuesday, January 29 2013',\n",
        " 'Wednesday, January 30 2013',\n",
        " 'Thursday, January 31 2013',\n",
        " 'Friday, February 01 2013',\n",
        " 'Saturday, February 02 2013',\n",
        " 'Sunday, February 03 2013',\n",
        " 'Monday, February 04 2013',\n",
        " 'Tuesday, February 05 2013',\n",
        " 'Wednesday, February 06 2013',\n",
        " 'Thursday, February 07 2013',\n",
        " 'Friday, February 08 2013',\n",
        " 'Saturday, February 09 2013',\n",
        " 'Sunday, February 10 2013',\n",
        " 'Monday, February 11 2013',\n",
        " 'Tuesday, February 12 2013',\n",
        " 'Wednesday, February 13 2013',\n",
        " 'Thursday, February 14 2013',\n",
        " 'Friday, February 15 2013',\n",
        " 'Saturday, February 16 2013',\n",
        " 'Sunday, February 17 2013',\n",
        " 'Monday, February 18 2013',\n",
        " 'Tuesday, February 19 2013',\n",
        " 'Wednesday, February 20 2013',\n",
        " 'Thursday, February 21 2013',\n",
        " 'Friday, February 22 2013',\n",
        " 'Saturday, February 23 2013',\n",
        " 'Sunday, February 24 2013',\n",
        " 'Monday, February 25 2013',\n",
        " 'Tuesday, February 26 2013',\n",
        " 'Wednesday, February 27 2013',\n",
        " 'Thursday, February 28 2013',\n",
        " 'Friday, March 01 2013',\n",
        " 'Saturday, March 02 2013',\n",
        " 'Sunday, March 03 2013',\n",
        " 'Monday, March 04 2013',\n",
        " 'Tuesday, March 05 2013',\n",
        " 'Wednesday, March 06 2013',\n",
        " 'Thursday, March 07 2013',\n",
        " 'Friday, March 08 2013',\n",
        " 'Saturday, March 09 2013',\n",
        " 'Sunday, March 10 2013',\n",
        " 'Monday, March 11 2013',\n",
        " 'Tuesday, March 12 2013',\n",
        " 'Wednesday, March 13 2013',\n",
        " 'Thursday, March 14 2013',\n",
        " 'Friday, March 15 2013',\n",
        " 'Saturday, March 16 2013',\n",
        " 'Sunday, March 17 2013',\n",
        " 'Monday, March 18 2013',\n",
        " 'Tuesday, March 19 2013',\n",
        " 'Wednesday, March 20 2013',\n",
        " 'Thursday, March 21 2013',\n",
        " 'Friday, March 22 2013',\n",
        " 'Saturday, March 23 2013',\n",
        " 'Sunday, March 24 2013',\n",
        " 'Monday, March 25 2013',\n",
        " 'Tuesday, March 26 2013',\n",
        " 'Wednesday, March 27 2013',\n",
        " 'Thursday, March 28 2013',\n",
        " 'Friday, March 29 2013',\n",
        " 'Saturday, March 30 2013',\n",
        " 'Sunday, March 31 2013',\n",
        " 'Monday, April 01 2013',\n",
        " 'Tuesday, April 02 2013',\n",
        " 'Wednesday, April 03 2013',\n",
        " 'Thursday, April 04 2013',\n",
        " 'Friday, April 05 2013',\n",
        " 'Saturday, April 06 2013',\n",
        " 'Sunday, April 07 2013',\n",
        " 'Monday, April 08 2013',\n",
        " 'Tuesday, April 09 2013',\n",
        " 'Wednesday, April 10 2013',\n",
        " 'Thursday, April 11 2013',\n",
        " 'Friday, April 12 2013',\n",
        " 'Saturday, April 13 2013',\n",
        " 'Sunday, April 14 2013',\n",
        " 'Monday, April 15 2013',\n",
        " 'Tuesday, April 16 2013',\n",
        " 'Wednesday, April 17 2013',\n",
        " 'Thursday, April 18 2013',\n",
        " 'Friday, April 19 2013',\n",
        " 'Saturday, April 20 2013',\n",
        " 'Sunday, April 21 2013',\n",
        " 'Monday, April 22 2013',\n",
        " 'Tuesday, April 23 2013',\n",
        " 'Wednesday, April 24 2013',\n",
        " 'Thursday, April 25 2013',\n",
        " 'Friday, April 26 2013',\n",
        " 'Saturday, April 27 2013',\n",
        " 'Sunday, April 28 2013',\n",
        " 'Monday, April 29 2013',\n",
        " 'Tuesday, April 30 2013',\n",
        " 'Wednesday, May 01 2013',\n",
        " 'Thursday, May 02 2013',\n",
        " 'Friday, May 03 2013',\n",
        " 'Saturday, May 04 2013',\n",
        " 'Sunday, May 05 2013',\n",
        " 'Monday, May 06 2013',\n",
        " 'Tuesday, May 07 2013',\n",
        " 'Wednesday, May 08 2013',\n",
        " 'Thursday, May 09 2013',\n",
        " 'Friday, May 10 2013',\n",
        " 'Saturday, May 11 2013',\n",
        " 'Sunday, May 12 2013',\n",
        " 'Monday, May 13 2013',\n",
        " 'Tuesday, May 14 2013',\n",
        " 'Wednesday, May 15 2013',\n",
        " 'Thursday, May 16 2013',\n",
        " 'Friday, May 17 2013',\n",
        " 'Saturday, May 18 2013',\n",
        " 'Sunday, May 19 2013',\n",
        " 'Monday, May 20 2013',\n",
        " 'Tuesday, May 21 2013',\n",
        " 'Wednesday, May 22 2013',\n",
        " 'Thursday, May 23 2013',\n",
        " 'Friday, May 24 2013',\n",
        " 'Saturday, May 25 2013',\n",
        " 'Sunday, May 26 2013',\n",
        " 'Monday, May 27 2013',\n",
        " 'Tuesday, May 28 2013',\n",
        " 'Wednesday, May 29 2013',\n",
        " 'Thursday, May 30 2013',\n",
        " 'Friday, May 31 2013',\n",
        " 'Saturday, June 01 2013',\n",
        " 'Sunday, June 02 2013',\n",
        " 'Monday, June 03 2013',\n",
        " 'Tuesday, June 04 2013',\n",
        " 'Wednesday, June 05 2013',\n",
        " 'Thursday, June 06 2013',\n",
        " 'Friday, June 07 2013',\n",
        " 'Saturday, June 08 2013',\n",
        " 'Sunday, June 09 2013',\n",
        " 'Monday, June 10 2013',\n",
        " 'Tuesday, June 11 2013',\n",
        " 'Wednesday, June 12 2013',\n",
        " 'Thursday, June 13 2013',\n",
        " 'Friday, June 14 2013',\n",
        " 'Saturday, June 15 2013',\n",
        " 'Sunday, June 16 2013',\n",
        " 'Monday, June 17 2013',\n",
        " 'Tuesday, June 18 2013',\n",
        " 'Wednesday, June 19 2013',\n",
        " 'Thursday, June 20 2013',\n",
        " 'Friday, June 21 2013',\n",
        " 'Saturday, June 22 2013',\n",
        " 'Sunday, June 23 2013',\n",
        " 'Monday, June 24 2013',\n",
        " 'Tuesday, June 25 2013',\n",
        " 'Wednesday, June 26 2013',\n",
        " 'Thursday, June 27 2013',\n",
        " 'Friday, June 28 2013',\n",
        " 'Saturday, June 29 2013',\n",
        " 'Sunday, June 30 2013',\n",
        " 'Monday, July 01 2013',\n",
        " 'Tuesday, July 02 2013',\n",
        " 'Wednesday, July 03 2013',\n",
        " 'Thursday, July 04 2013',\n",
        " 'Friday, July 05 2013',\n",
        " 'Saturday, July 06 2013',\n",
        " 'Sunday, July 07 2013',\n",
        " 'Monday, July 08 2013',\n",
        " 'Tuesday, July 09 2013',\n",
        " 'Wednesday, July 10 2013',\n",
        " 'Thursday, July 11 2013',\n",
        " 'Friday, July 12 2013',\n",
        " 'Saturday, July 13 2013',\n",
        " 'Sunday, July 14 2013',\n",
        " 'Monday, July 15 2013',\n",
        " 'Tuesday, July 16 2013',\n",
        " 'Wednesday, July 17 2013',\n",
        " 'Thursday, July 18 2013',\n",
        " 'Friday, July 19 2013',\n",
        " 'Saturday, July 20 2013',\n",
        " 'Sunday, July 21 2013',\n",
        " 'Monday, July 22 2013',\n",
        " 'Tuesday, July 23 2013',\n",
        " 'Wednesday, July 24 2013',\n",
        " 'Thursday, July 25 2013',\n",
        " 'Friday, July 26 2013',\n",
        " 'Saturday, July 27 2013',\n",
        " 'Sunday, July 28 2013',\n",
        " 'Monday, July 29 2013',\n",
        " 'Tuesday, July 30 2013',\n",
        " 'Wednesday, July 31 2013',\n",
        " 'Thursday, August 01 2013',\n",
        " 'Friday, August 02 2013',\n",
        " 'Saturday, August 03 2013',\n",
        " 'Sunday, August 04 2013',\n",
        " 'Monday, August 05 2013',\n",
        " 'Tuesday, August 06 2013',\n",
        " 'Wednesday, August 07 2013',\n",
        " 'Thursday, August 08 2013',\n",
        " 'Friday, August 09 2013',\n",
        " 'Saturday, August 10 2013',\n",
        " 'Sunday, August 11 2013',\n",
        " 'Monday, August 12 2013',\n",
        " 'Tuesday, August 13 2013',\n",
        " 'Wednesday, August 14 2013',\n",
        " 'Thursday, August 15 2013',\n",
        " 'Friday, August 16 2013',\n",
        " 'Saturday, August 17 2013',\n",
        " 'Sunday, August 18 2013',\n",
        " 'Monday, August 19 2013',\n",
        " 'Tuesday, August 20 2013',\n",
        " 'Wednesday, August 21 2013',\n",
        " 'Thursday, August 22 2013',\n",
        " 'Friday, August 23 2013',\n",
        " 'Saturday, August 24 2013',\n",
        " 'Sunday, August 25 2013',\n",
        " 'Monday, August 26 2013',\n",
        " 'Tuesday, August 27 2013',\n",
        " 'Wednesday, August 28 2013',\n",
        " 'Thursday, August 29 2013',\n",
        " 'Friday, August 30 2013',\n",
        " 'Saturday, August 31 2013',\n",
        " 'Sunday, September 01 2013',\n",
        " 'Monday, September 02 2013',\n",
        " 'Tuesday, September 03 2013',\n",
        " 'Wednesday, September 04 2013',\n",
        " 'Thursday, September 05 2013',\n",
        " 'Friday, September 06 2013',\n",
        " 'Saturday, September 07 2013',\n",
        " 'Sunday, September 08 2013',\n",
        " 'Monday, September 09 2013',\n",
        " 'Tuesday, September 10 2013',\n",
        " 'Wednesday, September 11 2013',\n",
        " 'Thursday, September 12 2013',\n",
        " 'Friday, September 13 2013',\n",
        " 'Saturday, September 14 2013',\n",
        " 'Sunday, September 15 2013',\n",
        " 'Monday, September 16 2013',\n",
        " 'Tuesday, September 17 2013',\n",
        " 'Wednesday, September 18 2013']"
       ]
      }
     ],
     "prompt_number": 7
    },
    {
     "cell_type": "code",
     "collapsed": false,
     "input": [
      "# Get values of every row of columns 2 and up\n",
      "Z = df.ix[:,2:].values\n",
      "\n",
      "# 153 sample days (rows) at 8 sites (columns)\n",
      "Z.shape"
     ],
     "language": "python",
     "metadata": {},
     "outputs": [
      {
       "metadata": {},
       "output_type": "pyout",
       "prompt_number": 8,
       "text": [
        "(261, 8)"
       ]
      }
     ],
     "prompt_number": 8
    },
    {
     "cell_type": "code",
     "collapsed": false,
     "input": [
      "Z.max()"
     ],
     "language": "python",
     "metadata": {},
     "outputs": [
      {
       "metadata": {},
       "output_type": "pyout",
       "prompt_number": 9,
       "text": [
        "8555"
       ]
      }
     ],
     "prompt_number": 9
    },
    {
     "cell_type": "code",
     "collapsed": false,
     "input": [
      "# Make a first stream id object \n",
      "stream_id = stream_ids[0]           # get a stream token from list\n",
      "stream = Stream(\n",
      "    token=stream_id,   # N.B. link stream id to 'token' key\n",
      "    maxpoints=3        # N.B. keep maximum of 30 pts on plot\n",
      ")"
     ],
     "language": "python",
     "metadata": {},
     "outputs": [],
     "prompt_number": 10
    },
    {
     "cell_type": "code",
     "collapsed": false,
     "input": [
      "z_init = np.zeros((1,len(sites)))\n",
      "\n",
      "# Scatter object for sin(x) line\n",
      "data = Data([\n",
      "    Heatmap(\n",
      "        z=z_init,\n",
      "        x=sites,\n",
      "        y=[0],\n",
      "        zauto=False,\n",
      "        zmin=0,\n",
      "        zmax=9000,\n",
      "        stream=stream,\n",
      "        colorbar=ColorBar(\n",
      "            len=2\n",
      "        )\n",
      "    )\n",
      "])"
     ],
     "language": "python",
     "metadata": {},
     "outputs": [],
     "prompt_number": 11
    },
    {
     "cell_type": "code",
     "collapsed": false,
     "input": [
      "layout = Layout(\n",
      "    title='Heatmap Stream test',\n",
      "    yaxis=YAxis(\n",
      "        ticks='',\n",
      "        showticklabels=False\n",
      "    ),\n",
      "    margin=Margin(\n",
      "        l=10,\n",
      "        b=100,\n",
      "        t=100\n",
      "    ),\n",
      "    autosize=False,\n",
      "    width=600,\n",
      "    height=300\n",
      ")"
     ],
     "language": "python",
     "metadata": {},
     "outputs": [],
     "prompt_number": 12
    },
    {
     "cell_type": "code",
     "collapsed": false,
     "input": [
      "figure = Figure(data=data, layout=layout)"
     ],
     "language": "python",
     "metadata": {},
     "outputs": [],
     "prompt_number": 13
    },
    {
     "cell_type": "code",
     "collapsed": false,
     "input": [
      "py.iplot(figure, filename='stream-heatmap-test')"
     ],
     "language": "python",
     "metadata": {},
     "outputs": [
      {
       "html": [
        "<iframe id=\"igraph\" scrolling=\"no\" style=\"border:none;\"seamless=\"seamless\" src=\"https://plot.ly/~etpinard/323\" height=\"525\" width=\"100%\"></iframe>"
       ],
       "metadata": {},
       "output_type": "display_data",
       "text": [
        "<IPython.core.display.HTML at 0x7f63f8d22310>"
       ]
      }
     ],
     "prompt_number": 14
    },
    {
     "cell_type": "code",
     "collapsed": false,
     "input": [
      "s = py.Stream(stream_id)\n",
      "s.open()\n",
      "\n",
      "time.sleep(2)\n",
      "\n",
      "for i,z in enumerate(Z):\n",
      "    \n",
      "    #s_data = dict(z=[z], type='heatmap')      # must include type='heatmap'\n",
      "    s_data = Heatmap(z=[z])\n",
      "    s_layout = dict(title=dates_in_words[i])\n",
      "    \n",
      "    print s_data\n",
      "    \n",
      "    #s.write(s_data, layout=s_layout, validate=False) \n",
      "    s.write(s_data, layout=s_layout) \n",
      "    \n",
      "    time.sleep(0.5)\n",
      "\n",
      "s.close()"
     ],
     "language": "python",
     "metadata": {},
     "outputs": [
      {
       "output_type": "stream",
       "stream": "stdout",
       "text": [
        "{'z': [array([0, 0, 1, 0, 6, 0, 1, 0])], 'type': 'heatmap'}\n",
        "{'z': [array([69,  0, 13,  0, 18,  0,  2,  0])], 'type': 'heatmap'}"
       ]
      },
      {
       "output_type": "stream",
       "stream": "stdout",
       "text": [
        "\n",
        "{'z': [array([69,  2, 21,  6, 22,  1,  0,  0])], 'type': 'heatmap'}"
       ]
      },
      {
       "output_type": "stream",
       "stream": "stdout",
       "text": [
        "\n",
        "{'z': [array([ 80,   0,  22,   4,  16,   0, 125,   0])], 'type': 'heatmap'}"
       ]
      },
      {
       "output_type": "stream",
       "stream": "stdout",
       "text": [
        "\n",
        "{'z': [array([52,  4, 19,  3, 12,  0, 97,  0])], 'type': 'heatmap'}"
       ]
      },
      {
       "output_type": "stream",
       "stream": "stdout",
       "text": [
        "\n",
        "{'z': [array([37,  0, 23, 46,  8,  0, 47,  0])], 'type': 'heatmap'}"
       ]
      },
      {
       "output_type": "stream",
       "stream": "stdout",
       "text": [
        "\n",
        "{'z': [array([159,   0,  81, 211,  60,   0, 200,   0])], 'type': 'heatmap'}"
       ]
      },
      {
       "output_type": "stream",
       "stream": "stdout",
       "text": [
        "\n",
        "{'z': [array([327,   0, 156, 393,  66,   0, 335,   0])], 'type': 'heatmap'}"
       ]
      },
      {
       "output_type": "stream",
       "stream": "stdout",
       "text": [
        "\n",
        "{'z': [array([332,   0, 155, 446,  84,   0, 366,   0])], 'type': 'heatmap'}"
       ]
      },
      {
       "output_type": "stream",
       "stream": "stdout",
       "text": [
        "\n",
        "{'z': [array([391,   0, 232, 516,  88,   0, 463,   0])], 'type': 'heatmap'}"
       ]
      },
      {
       "output_type": "stream",
       "stream": "stdout",
       "text": [
        "\n",
        "{'z': [array([423,   0, 199, 464, 132,   0, 407,   0])], 'type': 'heatmap'}"
       ]
      },
      {
       "output_type": "stream",
       "stream": "stdout",
       "text": [
        "\n",
        "{'z': [array([182,   0, 138, 229,  82,   0, 264,   0])], 'type': 'heatmap'}"
       ]
      },
      {
       "output_type": "stream",
       "stream": "stdout",
       "text": [
        "\n",
        "{'z': [array([111,   3,  74, 179,  89,   0, 215,   0])], 'type': 'heatmap'}"
       ]
      },
      {
       "output_type": "stream",
       "stream": "stdout",
       "text": [
        "\n",
        "{'z': [array([490,  58, 349, 752, 400,   0, 565,   0])], 'type': 'heatmap'}"
       ]
      },
      {
       "output_type": "stream",
       "stream": "stdout",
       "text": [
        "\n",
        "{'z': [array([581,  70, 365, 771, 383,   0, 658,   0])], 'type': 'heatmap'}"
       ]
      },
      {
       "output_type": "stream",
       "stream": "stdout",
       "text": [
        "\n",
        "{'z': [array([553,  78, 360, 778, 410,   0, 553,   0])], 'type': 'heatmap'}"
       ]
      },
      {
       "output_type": "stream",
       "stream": "stdout",
       "text": [
        "\n",
        "{'z': [array([326,  28, 187, 463, 206,   1, 423,   0])], 'type': 'heatmap'}"
       ]
      },
      {
       "output_type": "stream",
       "stream": "stdout",
       "text": [
        "\n",
        "{'z': [array([281,  12, 189, 366, 205,   0, 315,   0])], 'type': 'heatmap'}"
       ]
      },
      {
       "output_type": "stream",
       "stream": "stdout",
       "text": [
        "\n",
        "{'z': [array([ 49,   0,  26, 104,  24,   0,  91,   0])], 'type': 'heatmap'}"
       ]
      },
      {
       "output_type": "stream",
       "stream": "stdout",
       "text": [
        "\n",
        "{'z': [array([50,  0, 39, 57, 26,  6, 74,  0])], 'type': 'heatmap'}"
       ]
      },
      {
       "output_type": "stream",
       "stream": "stdout",
       "text": [
        "\n",
        "{'z': [array([143,   7,  77, 301, 127,   0, 235,   0])], 'type': 'heatmap'}"
       ]
      },
      {
       "output_type": "stream",
       "stream": "stdout",
       "text": [
        "\n",
        "{'z': [array([154,   4, 108, 307, 110,   0, 257,   0])], 'type': 'heatmap'}"
       ]
      },
      {
       "output_type": "stream",
       "stream": "stdout",
       "text": [
        "\n",
        "{'z': [array([111,   7,  67, 231,  71,   1, 163,   0])], 'type': 'heatmap'}"
       ]
      },
      {
       "output_type": "stream",
       "stream": "stdout",
       "text": [
        "\n",
        "{'z': [array([128,   5,  76, 246,  83,   1, 189,   0])], 'type': 'heatmap'}"
       ]
      },
      {
       "output_type": "stream",
       "stream": "stdout",
       "text": [
        "\n",
        "{'z': [array([139,   3,  81, 250,  87,   2, 217,   0])], 'type': 'heatmap'}"
       ]
      },
      {
       "output_type": "stream",
       "stream": "stdout",
       "text": [
        "\n",
        "{'z': [array([ 40,   0,  44, 108,  43,   0, 119,   0])], 'type': 'heatmap'}"
       ]
      },
      {
       "output_type": "stream",
       "stream": "stdout",
       "text": [
        "\n",
        "{'z': [array([ 48,   1,  50, 108,  50,   0,  90,   0])], 'type': 'heatmap'}"
       ]
      },
      {
       "output_type": "stream",
       "stream": "stdout",
       "text": [
        "\n",
        "{'z': [array([198,   6, 132, 339, 141,   4, 265,   0])], 'type': 'heatmap'}"
       ]
      },
      {
       "output_type": "stream",
       "stream": "stdout",
       "text": [
        "\n",
        "{'z': [array([218,   0, 135, 312, 111,   5, 294,   0])], 'type': 'heatmap'}"
       ]
      },
      {
       "output_type": "stream",
       "stream": "stdout",
       "text": [
        "\n",
        "{'z': [array([284,   3, 202, 403, 185,   4, 336,   0])], 'type': 'heatmap'}"
       ]
      },
      {
       "output_type": "stream",
       "stream": "stdout",
       "text": [
        "\n",
        "{'z': [array([237,  33, 152, 395, 135,   0, 295,   0])], 'type': 'heatmap'}"
       ]
      },
      {
       "output_type": "stream",
       "stream": "stdout",
       "text": [
        "\n",
        "{'z': [array([233,  24, 179, 325, 159,  11, 294,   0])], 'type': 'heatmap'}"
       ]
      },
      {
       "output_type": "stream",
       "stream": "stdout",
       "text": [
        "\n",
        "{'z': [array([ 82,  10,  51, 103,  55,   1, 155,   0])], 'type': 'heatmap'}"
       ]
      },
      {
       "output_type": "stream",
       "stream": "stdout",
       "text": [
        "\n",
        "{'z': [array([ 85,   4,  51,  91,  27,   9, 128,   0])], 'type': 'heatmap'}"
       ]
      },
      {
       "output_type": "stream",
       "stream": "stdout",
       "text": [
        "\n",
        "{'z': [array([234,   6, 137, 389, 163,   4, 325,   0])], 'type': 'heatmap'}"
       ]
      },
      {
       "output_type": "stream",
       "stream": "stdout",
       "text": [
        "\n",
        "{'z': [array([295,   8, 172, 407, 188,   5, 327,   0])], 'type': 'heatmap'}"
       ]
      },
      {
       "output_type": "stream",
       "stream": "stdout",
       "text": [
        "\n",
        "{'z': [array([325,   9, 196, 447, 244,  13, 379,   0])], 'type': 'heatmap'}"
       ]
      },
      {
       "output_type": "stream",
       "stream": "stdout",
       "text": [
        "\n",
        "{'z': [array([234,   7, 162, 403, 192,   3, 328,   0])], 'type': 'heatmap'}"
       ]
      },
      {
       "output_type": "stream",
       "stream": "stdout",
       "text": [
        "\n",
        "{'z': [array([148,   0,  71, 212,  43,   2, 138,   0])], 'type': 'heatmap'}"
       ]
      },
      {
       "output_type": "stream",
       "stream": "stdout",
       "text": [
        "\n",
        "{'z': [array([ 58,   0,  59,  81,  44,   0, 113,   0])], 'type': 'heatmap'}"
       ]
      },
      {
       "output_type": "stream",
       "stream": "stdout",
       "text": [
        "\n",
        "{'z': [array([ 82,   0,  61, 128,  45,   0, 146,   0])], 'type': 'heatmap'}"
       ]
      },
      {
       "output_type": "stream",
       "stream": "stdout",
       "text": [
        "\n",
        "{'z': [array([225,   2, 135, 341, 150,   3, 274,   0])], 'type': 'heatmap'}"
       ]
      },
      {
       "output_type": "stream",
       "stream": "stdout",
       "text": [
        "\n",
        "{'z': [array([342,   0, 181, 446, 188,   5, 392,   0])], 'type': 'heatmap'}"
       ]
      },
      {
       "output_type": "stream",
       "stream": "stdout",
       "text": [
        "\n",
        "{'z': [array([363,   0, 239, 540, 220,   7, 441,  94])], 'type': 'heatmap'}"
       ]
      },
      {
       "output_type": "stream",
       "stream": "stdout",
       "text": [
        "\n",
        "{'z': [array([440,   3, 290, 567, 234,  19, 472, 216])], 'type': 'heatmap'}"
       ]
      },
      {
       "output_type": "stream",
       "stream": "stdout",
       "text": [
        "\n",
        "{'z': [array([301,   0, 208, 480, 180,   7, 373, 137])], 'type': 'heatmap'}"
       ]
      },
      {
       "output_type": "stream",
       "stream": "stdout",
       "text": [
        "\n",
        "{'z': [array([156,   2, 120, 215, 106,  11, 252, 107])], 'type': 'heatmap'}"
       ]
      },
      {
       "output_type": "stream",
       "stream": "stdout",
       "text": [
        "\n",
        "{'z': [array([118,   0,  65, 152,  66,  10, 184,  82])], 'type': 'heatmap'}"
       ]
      },
      {
       "output_type": "stream",
       "stream": "stdout",
       "text": [
        "\n",
        "{'z': [array([265,   1, 177, 407, 205,   4, 359, 134])], 'type': 'heatmap'}"
       ]
      },
      {
       "output_type": "stream",
       "stream": "stdout",
       "text": [
        "\n",
        "{'z': [array([403,   3, 236, 451, 252,   7, 437, 204])], 'type': 'heatmap'}"
       ]
      },
      {
       "output_type": "stream",
       "stream": "stdout",
       "text": [
        "\n",
        "{'z': [array([162,   0,  73, 164,  82,   0, 174, 143])], 'type': 'heatmap'}"
       ]
      },
      {
       "output_type": "stream",
       "stream": "stdout",
       "text": [
        "\n",
        "{'z': [array([160,   0,  94, 224,  66,   4, 200, 144])], 'type': 'heatmap'}"
       ]
      },
      {
       "output_type": "stream",
       "stream": "stdout",
       "text": [
        "\n",
        "{'z': [array([259,   1, 162, 328, 135,   0, 330, 223])], 'type': 'heatmap'}"
       ]
      },
      {
       "output_type": "stream",
       "stream": "stdout",
       "text": [
        "\n",
        "{'z': [array([110,   0,  81, 103,  34,   3, 131,  99])], 'type': 'heatmap'}"
       ]
      },
      {
       "output_type": "stream",
       "stream": "stdout",
       "text": [
        "\n",
        "{'z': [array([ 75,   1,  85, 128,  53,   2, 144, 120])], 'type': 'heatmap'}"
       ]
      },
      {
       "output_type": "stream",
       "stream": "stdout",
       "text": [
        "\n",
        "{'z': [array([284,   0, 212, 455, 205,   1, 410, 391])], 'type': 'heatmap'}"
       ]
      },
      {
       "output_type": "stream",
       "stream": "stdout",
       "text": [
        "\n",
        "{'z': [array([411,   1, 290, 565, 262,   6, 522, 432])], 'type': 'heatmap'}"
       ]
      },
      {
       "output_type": "stream",
       "stream": "stdout",
       "text": [
        "\n",
        "{'z': [array([297,   2, 178, 405, 162,   4, 351, 340])], 'type': 'heatmap'}"
       ]
      },
      {
       "output_type": "stream",
       "stream": "stdout",
       "text": [
        "\n",
        "{'z': [array([205,   0, 138, 339, 126,   6, 283, 306])], 'type': 'heatmap'}"
       ]
      },
      {
       "output_type": "stream",
       "stream": "stdout",
       "text": [
        "\n",
        "{'z': [array([291,   1, 221, 442, 172,  12, 395, 351])], 'type': 'heatmap'}"
       ]
      },
      {
       "output_type": "stream",
       "stream": "stdout",
       "text": [
        "\n",
        "{'z': [array([169,   1, 111, 184,  79,  12, 238, 209])], 'type': 'heatmap'}"
       ]
      },
      {
       "output_type": "stream",
       "stream": "stdout",
       "text": [
        "\n",
        "{'z': [array([119,   0,  74, 101,  46,   1, 133,  87])], 'type': 'heatmap'}"
       ]
      },
      {
       "output_type": "stream",
       "stream": "stdout",
       "text": [
        "\n",
        "{'z': [array([252,   1, 149, 420, 135,   4, 357, 249])], 'type': 'heatmap'}"
       ]
      },
      {
       "output_type": "stream",
       "stream": "stdout",
       "text": [
        "\n",
        "{'z': [array([484,   2, 312, 577, 171,  11, 400, 229])], 'type': 'heatmap'}"
       ]
      },
      {
       "output_type": "stream",
       "stream": "stdout",
       "text": [
        "\n",
        "{'z': [array([475,   6, 290, 636, 222,  16, 539, 457])], 'type': 'heatmap'}"
       ]
      },
      {
       "output_type": "stream",
       "stream": "stdout",
       "text": [
        "\n",
        "{'z': [array([484,   7, 295, 572, 267,  16, 562, 454])], 'type': 'heatmap'}"
       ]
      },
      {
       "output_type": "stream",
       "stream": "stdout",
       "text": [
        "\n",
        "{'z': [array([536,  12, 387, 772, 300,  26, 621, 553])], 'type': 'heatmap'}"
       ]
      },
      {
       "output_type": "stream",
       "stream": "stdout",
       "text": [
        "\n",
        "{'z': [array([415,  24, 311, 569, 252,  98, 671, 543])], 'type': 'heatmap'}"
       ]
      },
      {
       "output_type": "stream",
       "stream": "stdout",
       "text": [
        "\n",
        "{'z': [array([345,  43, 204, 463, 234,  67, 550, 488])], 'type': 'heatmap'}"
       ]
      },
      {
       "output_type": "stream",
       "stream": "stdout",
       "text": [
        "\n",
        "{'z': [array([ 669,  227,  430, 1092,  622,   50,  883,  700])], 'type': 'heatmap'}"
       ]
      },
      {
       "output_type": "stream",
       "stream": "stdout",
       "text": [
        "\n",
        "{'z': [array([478, 153, 327, 663, 407,  20, 595, 649])], 'type': 'heatmap'}"
       ]
      },
      {
       "output_type": "stream",
       "stream": "stdout",
       "text": [
        "\n",
        "{'z': [array([ 831,  360,  547, 1197,  654,   46,  946,  696])], 'type': 'heatmap'}"
       ]
      },
      {
       "output_type": "stream",
       "stream": "stdout",
       "text": [
        "\n",
        "{'z': [array([523, 178, 320, 722, 422,  10, 647, 519])], 'type': 'heatmap'}"
       ]
      },
      {
       "output_type": "stream",
       "stream": "stdout",
       "text": [
        "\n",
        "{'z': [array([542, 196, 415, 714, 389,  15, 651, 607])], 'type': 'heatmap'}"
       ]
      },
      {
       "output_type": "stream",
       "stream": "stdout",
       "text": [
        "\n",
        "{'z': [array([243, 103, 175, 355, 212,  41, 420, 418])], 'type': 'heatmap'}"
       ]
      },
      {
       "output_type": "stream",
       "stream": "stdout",
       "text": [
        "\n",
        "{'z': [array([232, 114, 193, 440, 185,  28, 430, 398])], 'type': 'heatmap'}"
       ]
      },
      {
       "output_type": "stream",
       "stream": "stdout",
       "text": [
        "\n",
        "{'z': [array([511, 273, 366, 802, 491,  29, 703, 603])], 'type': 'heatmap'}"
       ]
      },
      {
       "output_type": "stream",
       "stream": "stdout",
       "text": [
        "\n",
        "{'z': [array([107,   5,  69, 163,  45,   5, 101, 228])], 'type': 'heatmap'}"
       ]
      },
      {
       "output_type": "stream",
       "stream": "stdout",
       "text": [
        "\n",
        "{'z': [array([217,   1, 128, 301,  77,   4, 235, 220])], 'type': 'heatmap'}"
       ]
      },
      {
       "output_type": "stream",
       "stream": "stdout",
       "text": [
        "\n",
        "{'z': [array([392,   0, 193, 476, 189,   6, 422, 344])], 'type': 'heatmap'}"
       ]
      },
      {
       "output_type": "stream",
       "stream": "stdout",
       "text": [
        "\n",
        "{'z': [array([398,   0, 256, 549, 235,  10, 451, 338])], 'type': 'heatmap'}"
       ]
      },
      {
       "output_type": "stream",
       "stream": "stdout",
       "text": [
        "\n",
        "{'z': [array([209,  30, 161, 361, 179,  24, 326, 320])], 'type': 'heatmap'}"
       ]
      },
      {
       "output_type": "stream",
       "stream": "stdout",
       "text": [
        "\n",
        "{'z': [array([299,  88, 219, 379, 174,  57, 402, 298])], 'type': 'heatmap'}"
       ]
      },
      {
       "output_type": "stream",
       "stream": "stdout",
       "text": [
        "\n",
        "{'z': [array([ 675,  326,  452, 1038,  548,   32,  747,  668])], 'type': 'heatmap'}"
       ]
      },
      {
       "output_type": "stream",
       "stream": "stdout",
       "text": [
        "\n",
        "{'z': [array([ 957,  479,  664, 1455,  748,   70, 1023,  758])], 'type': 'heatmap'}"
       ]
      },
      {
       "output_type": "stream",
       "stream": "stdout",
       "text": [
        "\n",
        "{'z': [array([ 856,  549,  626, 1309,  762,  105,  587,  700])], 'type': 'heatmap'}"
       ]
      },
      {
       "output_type": "stream",
       "stream": "stdout",
       "text": [
        "\n",
        "{'z': [array([1088,  590,  707, 1512,  906,  156,  786,  978])], 'type': 'heatmap'}"
       ]
      },
      {
       "output_type": "stream",
       "stream": "stdout",
       "text": [
        "\n",
        "{'z': [array([749, 377, 503, 963, 554, 153, 641, 757])], 'type': 'heatmap'}"
       ]
      },
      {
       "output_type": "stream",
       "stream": "stdout",
       "text": [
        "\n",
        "{'z': [array([ 822,  443,  509, 1101,  568,  449, 1264,  961])], 'type': 'heatmap'}"
       ]
      },
      {
       "output_type": "stream",
       "stream": "stdout",
       "text": [
        "\n",
        "{'z': [array([ 599,  380,  311,  693,  399,  321, 2730,  647])], 'type': 'heatmap'}"
       ]
      },
      {
       "output_type": "stream",
       "stream": "stdout",
       "text": [
        "\n",
        "{'z': [array([ 371,  245,  276,  608,  343,   66, 2315,  524])], 'type': 'heatmap'}"
       ]
      },
      {
       "output_type": "stream",
       "stream": "stdout",
       "text": [
        "\n",
        "{'z': [array([1055,  547,  669, 1316,  840,  105, 2835,  818])], 'type': 'heatmap'}"
       ]
      },
      {
       "output_type": "stream",
       "stream": "stdout",
       "text": [
        "\n",
        "{'z': [array([1030,  614,  719, 1470,  869,  119, 3085,  947])], 'type': 'heatmap'}"
       ]
      },
      {
       "output_type": "stream",
       "stream": "stdout",
       "text": [
        "\n",
        "{'z': [array([1466,  855, 1027, 2022, 1243,  261, 2492, 1147])], 'type': 'heatmap'}"
       ]
      },
      {
       "output_type": "stream",
       "stream": "stdout",
       "text": [
        "\n",
        "{'z': [array([1098,  543,  723, 1384,  761,  145, 2553,  995])], 'type': 'heatmap'}"
       ]
      },
      {
       "output_type": "stream",
       "stream": "stdout",
       "text": [
        "\n",
        "{'z': [array([ 771,  414,  506, 1015,  602,  335, 1263,  965])], 'type': 'heatmap'}"
       ]
      },
      {
       "output_type": "stream",
       "stream": "stdout",
       "text": [
        "\n",
        "{'z': [array([509, 375, 337, 749, 447, 158, 936, 701])], 'type': 'heatmap'}"
       ]
      },
      {
       "output_type": "stream",
       "stream": "stdout",
       "text": [
        "\n",
        "{'z': [array([1878, 1170, 1225, 2414, 1563,  568, 1412, 1356])], 'type': 'heatmap'}"
       ]
      },
      {
       "output_type": "stream",
       "stream": "stdout",
       "text": [
        "\n",
        "{'z': [array([1335,  783,  886, 1734, 1146,  213, 1435, 1160])], 'type': 'heatmap'}"
       ]
      },
      {
       "output_type": "stream",
       "stream": "stdout",
       "text": [
        "\n",
        "{'z': [array([1967, 1230, 1328, 2536, 1649,  452,  773, 1450])], 'type': 'heatmap'}"
       ]
      },
      {
       "output_type": "stream",
       "stream": "stdout",
       "text": [
        "\n",
        "{'z': [array([1814,  994, 1183, 2283, 1424,  323, 1178, 1286])], 'type': 'heatmap'}"
       ]
      },
      {
       "output_type": "stream",
       "stream": "stdout",
       "text": [
        "\n",
        "{'z': [array([ 420,  141,  270,  519,  227,   22, 1523,  447])], 'type': 'heatmap'}"
       ]
      },
      {
       "output_type": "stream",
       "stream": "stdout",
       "text": [
        "\n",
        "{'z': [array([ 265,   10,  172,  328,  176,   36, 1602,  435])], 'type': 'heatmap'}"
       ]
      },
      {
       "output_type": "stream",
       "stream": "stdout",
       "text": [
        "\n",
        "{'z': [array([ 889,  317,  495,  963,  588,  437, 1332,  818])], 'type': 'heatmap'}"
       ]
      },
      {
       "output_type": "stream",
       "stream": "stdout",
       "text": [
        "\n",
        "{'z': [array([2862, 1420, 1810, 3321, 2051,  830, 2359, 1819])], 'type': 'heatmap'}"
       ]
      },
      {
       "output_type": "stream",
       "stream": "stdout",
       "text": [
        "\n",
        "{'z': [array([1279,  647,  934, 1767, 1110,  159, 2696, 1129])], 'type': 'heatmap'}"
       ]
      },
      {
       "output_type": "stream",
       "stream": "stdout",
       "text": [
        "\n",
        "{'z': [array([3486, 1861, 2415, 4196, 2431, 1157, 2479, 2325])], 'type': 'heatmap'}"
       ]
      },
      {
       "output_type": "stream",
       "stream": "stdout",
       "text": [
        "\n",
        "{'z': [array([2251, 1123, 1653, 2959, 1726,  324, 2694, 1659])], 'type': 'heatmap'}"
       ]
      },
      {
       "output_type": "stream",
       "stream": "stdout",
       "text": [
        "\n",
        "{'z': [array([3109, 1521, 2170, 3809, 2144,  903, 2366, 2033])], 'type': 'heatmap'}"
       ]
      },
      {
       "output_type": "stream",
       "stream": "stdout",
       "text": [
        "\n",
        "{'z': [array([ 987,  504,  635, 1203,  689,  294, 1802, 1053])], 'type': 'heatmap'}"
       ]
      },
      {
       "output_type": "stream",
       "stream": "stdout",
       "text": [
        "\n",
        "{'z': [array([1847,  808, 1271, 1733, 1038,  818, 1776, 1246])], 'type': 'heatmap'}"
       ]
      },
      {
       "output_type": "stream",
       "stream": "stdout",
       "text": [
        "\n",
        "{'z': [array([3328, 1720, 2221, 4060, 2401, 1063, 1242, 2124])], 'type': 'heatmap'}"
       ]
      },
      {
       "output_type": "stream",
       "stream": "stdout",
       "text": [
        "\n",
        "{'z': [array([3722, 1953, 2442, 4346, 2569, 1186, 2339, 2486])], 'type': 'heatmap'}"
       ]
      },
      {
       "output_type": "stream",
       "stream": "stdout",
       "text": [
        "\n",
        "{'z': [array([3782, 2021, 2579, 4565, 2579, 1150, 3560, 2270])], 'type': 'heatmap'}"
       ]
      },
      {
       "output_type": "stream",
       "stream": "stdout",
       "text": [
        "\n",
        "{'z': [array([3002, 1610, 2182, 3914, 2319,  622, 3406, 2193])], 'type': 'heatmap'}"
       ]
      },
      {
       "output_type": "stream",
       "stream": "stdout",
       "text": [
        "\n",
        "{'z': [array([2865, 1406, 2125, 3657, 2197,  765, 3369, 2087])], 'type': 'heatmap'}"
       ]
      },
      {
       "output_type": "stream",
       "stream": "stdout",
       "text": [
        "\n",
        "{'z': [array([2840, 1155, 1812, 3151, 1511, 1663, 3944, 2331])], 'type': 'heatmap'}"
       ]
      },
      {
       "output_type": "stream",
       "stream": "stdout",
       "text": [
        "\n",
        "{'z': [array([3736, 1536, 1917, 3327, 2012, 3218, 4915, 2609])], 'type': 'heatmap'}"
       ]
      },
      {
       "output_type": "stream",
       "stream": "stdout",
       "text": [
        "\n",
        "{'z': [array([4149, 2039, 2742, 4951, 2843, 1416, 4473, 2734])], 'type': 'heatmap'}"
       ]
      },
      {
       "output_type": "stream",
       "stream": "stdout",
       "text": [
        "\n",
        "{'z': [array([4671, 2262, 3163, 5312, 3082, 1632, 4928, 2970])], 'type': 'heatmap'}"
       ]
      },
      {
       "output_type": "stream",
       "stream": "stdout",
       "text": [
        "\n",
        "{'z': [array([5803, 2946, 4121, 6797, 3672, 2819, 6338, 3565])], 'type': 'heatmap'}"
       ]
      },
      {
       "output_type": "stream",
       "stream": "stdout",
       "text": [
        "\n",
        "{'z': [array([5849, 2829, 4136, 7176, 3732, 1900, 5902, 3551])], 'type': 'heatmap'}"
       ]
      },
      {
       "output_type": "stream",
       "stream": "stdout",
       "text": [
        "\n",
        "{'z': [array([5769, 2520, 4156, 7000, 3508, 2135, 6533, 3724])], 'type': 'heatmap'}"
       ]
      },
      {
       "output_type": "stream",
       "stream": "stdout",
       "text": [
        "\n",
        "{'z': [array([4628, 1840, 2690, 4795, 2176, 3009, 5821, 3359])], 'type': 'heatmap'}"
       ]
      },
      {
       "output_type": "stream",
       "stream": "stdout",
       "text": [
        "\n",
        "{'z': [array([4652, 1967, 2341, 4724, 2370, 3386, 6170, 3265])], 'type': 'heatmap'}"
       ]
      },
      {
       "output_type": "stream",
       "stream": "stdout",
       "text": [
        "\n",
        "{'z': [array([5593, 3103, 3977, 6945, 3728, 2321, 6253, 3579])], 'type': 'heatmap'}"
       ]
      },
      {
       "output_type": "stream",
       "stream": "stdout",
       "text": [
        "\n",
        "{'z': [array([6323, 3268, 4538, 7608, 4012, 2651, 6642, 3806])], 'type': 'heatmap'}"
       ]
      },
      {
       "output_type": "stream",
       "stream": "stdout",
       "text": [
        "\n",
        "{'z': [array([6428, 3212, 4435, 7657, 4103, 2683, 6683, 1937])], 'type': 'heatmap'}"
       ]
      },
      {
       "output_type": "stream",
       "stream": "stdout",
       "text": [
        "\n",
        "{'z': [array([4467, 2158, 3313, 6136, 3084, 1113, 4687, 2960])], 'type': 'heatmap'}"
       ]
      },
      {
       "output_type": "stream",
       "stream": "stdout",
       "text": [
        "\n",
        "{'z': [array([4941, 2398, 3560, 6231, 3154, 1649, 5308, 3223])], 'type': 'heatmap'}"
       ]
      },
      {
       "output_type": "stream",
       "stream": "stdout",
       "text": [
        "\n",
        "{'z': [array([1406,  716, 1108, 2153,  953,  388, 2312, 1595])], 'type': 'heatmap'}"
       ]
      },
      {
       "output_type": "stream",
       "stream": "stdout",
       "text": [
        "\n",
        "{'z': [array([1744, 1020, 1110, 2162, 1004,  818, 2608, 1608])], 'type': 'heatmap'}"
       ]
      },
      {
       "output_type": "stream",
       "stream": "stdout",
       "text": [
        "\n",
        "{'z': [array([2678, 1397, 1879, 3305, 2130,  467, 2974, 2002])], 'type': 'heatmap'}"
       ]
      },
      {
       "output_type": "stream",
       "stream": "stdout",
       "text": [
        "\n",
        "{'z': [array([4757, 2419, 3437, 6018, 3200, 1598, 4946, 2836])], 'type': 'heatmap'}"
       ]
      },
      {
       "output_type": "stream",
       "stream": "stdout",
       "text": [
        "\n",
        "{'z': [array([3644, 1844, 2404, 4438, 2587,  808, 3962, 2311])], 'type': 'heatmap'}"
       ]
      },
      {
       "output_type": "stream",
       "stream": "stdout",
       "text": [
        "\n",
        "{'z': [array([4641, 2271, 3458, 5895, 3255, 1278, 4903, 2973])], 'type': 'heatmap'}"
       ]
      },
      {
       "output_type": "stream",
       "stream": "stdout",
       "text": [
        "\n",
        "{'z': [array([5089, 2331, 4009, 6008, 3135, 1862, 5518, 3147])], 'type': 'heatmap'}"
       ]
      },
      {
       "output_type": "stream",
       "stream": "stdout",
       "text": [
        "\n",
        "{'z': [array([4167, 1686, 2447, 4340, 2165, 3026, 5141, 3213])], 'type': 'heatmap'}"
       ]
      },
      {
       "output_type": "stream",
       "stream": "stdout",
       "text": [
        "\n",
        "{'z': [array([2771, 1133, 1581, 2910, 1384, 2032, 3309, 1884])], 'type': 'heatmap'}"
       ]
      },
      {
       "output_type": "stream",
       "stream": "stdout",
       "text": [
        "\n",
        "{'z': [array([2845, 1370, 1763, 3131, 1487, 2184, 3843, 2260])], 'type': 'heatmap'}"
       ]
      },
      {
       "output_type": "stream",
       "stream": "stdout",
       "text": [
        "\n",
        "{'z': [array([3177, 1577, 2268, 4075, 2123,  666, 3367, 2321])], 'type': 'heatmap'}"
       ]
      },
      {
       "output_type": "stream",
       "stream": "stdout",
       "text": [
        "\n",
        "{'z': [array([4662, 2224, 3292, 5812, 2965, 1362, 4555, 3083])], 'type': 'heatmap'}"
       ]
      },
      {
       "output_type": "stream",
       "stream": "stdout",
       "text": [
        "\n",
        "{'z': [array([3386, 1527, 2421, 4372, 2412,  566, 3337, 2360])], 'type': 'heatmap'}"
       ]
      },
      {
       "output_type": "stream",
       "stream": "stdout",
       "text": [
        "\n",
        "{'z': [array([2207,  941, 1603, 2980, 1513,  271, 2391, 1678])], 'type': 'heatmap'}"
       ]
      },
      {
       "output_type": "stream",
       "stream": "stdout",
       "text": [
        "\n",
        "{'z': [array([ 792,  327,  543, 1061,  561,  178, 1263,  919])], 'type': 'heatmap'}"
       ]
      },
      {
       "output_type": "stream",
       "stream": "stdout",
       "text": [
        "\n",
        "{'z': [array([ 843,  450,  689, 1280,  611,  362, 1654,  850])], 'type': 'heatmap'}"
       ]
      },
      {
       "output_type": "stream",
       "stream": "stdout",
       "text": [
        "\n",
        "{'z': [array([5970, 2734, 3988, 6787, 3813, 2554, 6057, 3435])], 'type': 'heatmap'}"
       ]
      },
      {
       "output_type": "stream",
       "stream": "stdout",
       "text": [
        "\n",
        "{'z': [array([6803, 3151, 4655, 7684, 4075, 3169, 6435, 3846])], 'type': 'heatmap'}"
       ]
      },
      {
       "output_type": "stream",
       "stream": "stdout",
       "text": [
        "\n",
        "{'z': [array([2908, 1372, 2061, 3573, 2036,  470, 3056, 2011])], 'type': 'heatmap'}"
       ]
      },
      {
       "output_type": "stream",
       "stream": "stdout",
       "text": [
        "\n",
        "{'z': [array([6748, 2936, 4663, 7552, 3758, 2626, 6751, 3852])], 'type': 'heatmap'}"
       ]
      },
      {
       "output_type": "stream",
       "stream": "stdout",
       "text": [
        "\n",
        "{'z': [array([6668, 2562, 4716, 7106, 3676, 2319, 8555, 3986])], 'type': 'heatmap'}"
       ]
      },
      {
       "output_type": "stream",
       "stream": "stdout",
       "text": [
        "\n",
        "{'z': [array([4150, 1532, 2513, 4256, 1805, 1735, 5737, 3172])], 'type': 'heatmap'}"
       ]
      },
      {
       "output_type": "stream",
       "stream": "stdout",
       "text": [
        "\n",
        "{'z': [array([3231, 1270, 2006, 3380, 1542,  997, 6417, 2497])], 'type': 'heatmap'}"
       ]
      },
      {
       "output_type": "stream",
       "stream": "stdout",
       "text": [
        "\n",
        "{'z': [array([4802, 2599, 3421, 6291, 3322,  992, 5333, 3253])], 'type': 'heatmap'}"
       ]
      },
      {
       "output_type": "stream",
       "stream": "stdout",
       "text": [
        "\n",
        "{'z': [array([5659, 2872, 4122, 6998, 3546, 1109, 5778, 3465])], 'type': 'heatmap'}"
       ]
      },
      {
       "output_type": "stream",
       "stream": "stdout",
       "text": [
        "\n",
        "{'z': [array([6224, 2810, 4358, 7431, 3850, 1299, 5980, 3797])], 'type': 'heatmap'}"
       ]
      },
      {
       "output_type": "stream",
       "stream": "stdout",
       "text": [
        "\n",
        "{'z': [array([3218, 1727, 2201, 4515, 2401,  452, 3688, 2410])], 'type': 'heatmap'}"
       ]
      },
      {
       "output_type": "stream",
       "stream": "stdout",
       "text": [
        "\n",
        "{'z': [array([2205,  958, 1526, 3204, 1691,  279, 2680, 1950])], 'type': 'heatmap'}"
       ]
      },
      {
       "output_type": "stream",
       "stream": "stdout",
       "text": [
        "\n",
        "{'z': [array([1333,  642,  975, 1991,  925,  310, 2320, 1469])], 'type': 'heatmap'}"
       ]
      },
      {
       "output_type": "stream",
       "stream": "stdout",
       "text": [
        "\n",
        "{'z': [array([3390, 1653, 1720, 4033, 1880, 1696, 5220, 2800])], 'type': 'heatmap'}"
       ]
      },
      {
       "output_type": "stream",
       "stream": "stdout",
       "text": [
        "\n",
        "{'z': [array([5653, 2833, 3484, 7091, 3715, 1386, 6284, 3689])], 'type': 'heatmap'}"
       ]
      },
      {
       "output_type": "stream",
       "stream": "stdout",
       "text": [
        "\n",
        "{'z': [array([1085,  560,  725, 1451,  887,  180, 1510, 1000])], 'type': 'heatmap'}"
       ]
      },
      {
       "output_type": "stream",
       "stream": "stdout",
       "text": [
        "\n",
        "{'z': [array([5428, 2480, 3457, 6622, 3499, 1593, 5897, 3376])], 'type': 'heatmap'}"
       ]
      },
      {
       "output_type": "stream",
       "stream": "stdout",
       "text": [
        "\n",
        "{'z': [array([6387, 2870, 4265, 7566, 4078, 2413, 6430, 3805])], 'type': 'heatmap'}"
       ]
      },
      {
       "output_type": "stream",
       "stream": "stdout",
       "text": [
        "\n",
        "{'z': [array([6160, 2553, 4190, 7117, 3646, 2104, 6434, 3846])], 'type': 'heatmap'}"
       ]
      },
      {
       "output_type": "stream",
       "stream": "stdout",
       "text": [
        "\n",
        "{'z': [array([5328, 1890, 3007, 4825, 2318, 3462, 6093, 3079])], 'type': 'heatmap'}"
       ]
      },
      {
       "output_type": "stream",
       "stream": "stdout",
       "text": [
        "\n",
        "{'z': [array([1230,  634,  755, 1529,  739,  679, 1875, 1018])], 'type': 'heatmap'}"
       ]
      },
      {
       "output_type": "stream",
       "stream": "stdout",
       "text": [
        "\n",
        "{'z': [array([4230, 2122, 3232, 5593, 2945, 1351, 4384, 2937])], 'type': 'heatmap'}"
       ]
      },
      {
       "output_type": "stream",
       "stream": "stdout",
       "text": [
        "\n",
        "{'z': [array([6405, 2816, 4140, 6878, 3758, 2717, 6181, 3715])], 'type': 'heatmap'}"
       ]
      },
      {
       "output_type": "stream",
       "stream": "stdout",
       "text": [
        "\n",
        "{'z': [array([6608, 3134, 4199, 7438, 4038, 2897, 6661, 4019])], 'type': 'heatmap'}"
       ]
      },
      {
       "output_type": "stream",
       "stream": "stdout",
       "text": [
        "\n",
        "{'z': [array([6525, 2993, 4452, 7488, 3950, 2409, 6490, 4034])], 'type': 'heatmap'}"
       ]
      },
      {
       "output_type": "stream",
       "stream": "stdout",
       "text": [
        "\n",
        "{'z': [array([6517, 2454, 4209, 6763, 3470, 2673, 6486, 3869])], 'type': 'heatmap'}"
       ]
      },
      {
       "output_type": "stream",
       "stream": "stdout",
       "text": [
        "\n",
        "{'z': [array([1350,  526, 1027, 1374,  620,  334, 1834, 1047])], 'type': 'heatmap'}"
       ]
      },
      {
       "output_type": "stream",
       "stream": "stdout",
       "text": [
        "\n",
        "{'z': [array([2870, 1096, 1453, 2978, 1439, 2375, 3846, 2098])], 'type': 'heatmap'}"
       ]
      },
      {
       "output_type": "stream",
       "stream": "stdout",
       "text": [
        "\n",
        "{'z': [array([3158, 1142, 1137, 2678, 1315, 3403, 4902, 2568])], 'type': 'heatmap'}"
       ]
      },
      {
       "output_type": "stream",
       "stream": "stdout",
       "text": [
        "\n",
        "{'z': [array([4319, 1995, 2694, 5552, 2941, 1322, 4868, 3101])], 'type': 'heatmap'}"
       ]
      },
      {
       "output_type": "stream",
       "stream": "stdout",
       "text": [
        "\n",
        "{'z': [array([4692, 2211, 2973, 5886, 3150, 1488, 5355, 3313])], 'type': 'heatmap'}"
       ]
      },
      {
       "output_type": "stream",
       "stream": "stdout",
       "text": [
        "\n",
        "{'z': [array([5158, 2459, 3121, 6685, 3268, 2089, 6074, 3587])], 'type': 'heatmap'}"
       ]
      },
      {
       "output_type": "stream",
       "stream": "stdout",
       "text": [
        "\n",
        "{'z': [array([1551,  618, 1321, 2192, 1031,  193, 1993, 1210])], 'type': 'heatmap'}"
       ]
      },
      {
       "output_type": "stream",
       "stream": "stdout",
       "text": [
        "\n",
        "{'z': [array([3049,  978, 2367, 3394, 1384, 1450, 3584, 2015])], 'type': 'heatmap'}"
       ]
      },
      {
       "output_type": "stream",
       "stream": "stdout",
       "text": [
        "\n",
        "{'z': [array([5068, 1426, 2906, 4399, 2102, 4286, 5441, 2719])], 'type': 'heatmap'}"
       ]
      },
      {
       "output_type": "stream",
       "stream": "stdout",
       "text": [
        "\n",
        "{'z': [array([4559, 1580, 2328, 3628, 1713, 3715, 4811, 2358])], 'type': 'heatmap'}"
       ]
      },
      {
       "output_type": "stream",
       "stream": "stdout",
       "text": [
        "\n",
        "{'z': [array([4895, 1978, 3589, 5855, 2994, 1048, 4895, 2858])], 'type': 'heatmap'}"
       ]
      },
      {
       "output_type": "stream",
       "stream": "stdout",
       "text": [
        "\n",
        "{'z': [array([6679, 2767, 4366, 7486, 3798, 2248, 6594, 3787])], 'type': 'heatmap'}"
       ]
      },
      {
       "output_type": "stream",
       "stream": "stdout",
       "text": [
        "\n",
        "{'z': [array([6151, 2496, 3974, 7423, 3588, 2113, 6466, 3843])], 'type': 'heatmap'}"
       ]
      },
      {
       "output_type": "stream",
       "stream": "stdout",
       "text": [
        "\n",
        "{'z': [array([5890, 2087, 3946, 6677, 3168, 2228, 6022, 3553])], 'type': 'heatmap'}"
       ]
      },
      {
       "output_type": "stream",
       "stream": "stdout",
       "text": [
        "\n",
        "{'z': [array([4774, 1447, 3228, 4733, 2091, 3176, 5300, 2803])], 'type': 'heatmap'}"
       ]
      },
      {
       "output_type": "stream",
       "stream": "stdout",
       "text": [
        "\n",
        "{'z': [array([3909, 1282, 2442, 3438, 1655, 2615, 4518, 2293])], 'type': 'heatmap'}"
       ]
      },
      {
       "output_type": "stream",
       "stream": "stdout",
       "text": [
        "\n",
        "{'z': [array([5181, 2484, 3016, 6391, 3397, 2217, 5803, 3654])], 'type': 'heatmap'}"
       ]
      },
      {
       "output_type": "stream",
       "stream": "stdout",
       "text": [
        "\n",
        "{'z': [array([6142, 2842, 3668, 7302, 3749, 3138, 6663, 4136])], 'type': 'heatmap'}"
       ]
      },
      {
       "output_type": "stream",
       "stream": "stdout",
       "text": [
        "\n",
        "{'z': [array([4169, 1941, 2461, 5268, 2669, 1020, 4540, 3264])], 'type': 'heatmap'}"
       ]
      },
      {
       "output_type": "stream",
       "stream": "stdout",
       "text": [
        "\n",
        "{'z': [array([6303, 2763, 3524, 7332, 3708, 2827, 6650, 4155])], 'type': 'heatmap'}"
       ]
      },
      {
       "output_type": "stream",
       "stream": "stdout",
       "text": [
        "\n",
        "{'z': [array([6157, 2349, 3661, 6846, 3420, 3067, 6885, 3948])], 'type': 'heatmap'}"
       ]
      },
      {
       "output_type": "stream",
       "stream": "stdout",
       "text": [
        "\n",
        "{'z': [array([4887, 1366, 2434, 4408, 1872, 3833, 5551, 2974])], 'type': 'heatmap'}"
       ]
      },
      {
       "output_type": "stream",
       "stream": "stdout",
       "text": [
        "\n",
        "{'z': [array([3670, 1287, 1878, 3844, 1756, 3265, 4862, 2720])], 'type': 'heatmap'}"
       ]
      },
      {
       "output_type": "stream",
       "stream": "stdout",
       "text": [
        "\n",
        "{'z': [array([4760, 2168, 2948, 6196, 3153, 2223, 5594, 3840])], 'type': 'heatmap'}"
       ]
      },
      {
       "output_type": "stream",
       "stream": "stdout",
       "text": [
        "\n",
        "{'z': [array([5283, 2315, 3349, 6753, 3373, 2333, 5922, 4046])], 'type': 'heatmap'}"
       ]
      },
      {
       "output_type": "stream",
       "stream": "stdout",
       "text": [
        "\n",
        "{'z': [array([4296, 1910, 2745, 5499, 2767, 1588, 4790, 2967])], 'type': 'heatmap'}"
       ]
      },
      {
       "output_type": "stream",
       "stream": "stdout",
       "text": [
        "\n",
        "{'z': [array([5021, 2063, 3163, 6131, 3031, 1773, 4853, 3382])], 'type': 'heatmap'}"
       ]
      },
      {
       "output_type": "stream",
       "stream": "stdout",
       "text": [
        "\n",
        "{'z': [array([2758, 1051, 1761, 3540, 1806,  717, 2956, 2245])], 'type': 'heatmap'}"
       ]
      },
      {
       "output_type": "stream",
       "stream": "stdout",
       "text": [
        "\n",
        "{'z': [array([3598, 1141, 2391, 3866, 1541, 2042, 4518, 2538])], 'type': 'heatmap'}"
       ]
      },
      {
       "output_type": "stream",
       "stream": "stdout",
       "text": [
        "\n",
        "{'z': [array([4978, 1583, 2285, 4253, 2174, 4841, 5603, 2867])], 'type': 'heatmap'}"
       ]
      },
      {
       "output_type": "stream",
       "stream": "stdout",
       "text": [
        "\n",
        "{'z': [array([5562, 2541, 3341, 6564, 3333, 3380, 6234, 3463])], 'type': 'heatmap'}"
       ]
      },
      {
       "output_type": "stream",
       "stream": "stdout",
       "text": [
        "\n",
        "{'z': [array([3630, 1552, 2377, 4222, 2146, 1619, 4166, 2465])], 'type': 'heatmap'}"
       ]
      },
      {
       "output_type": "stream",
       "stream": "stdout",
       "text": [
        "\n",
        "{'z': [array([4888, 2374, 3292, 6381, 3237, 2403, 5338, 3278])], 'type': 'heatmap'}"
       ]
      },
      {
       "output_type": "stream",
       "stream": "stdout",
       "text": [
        "\n",
        "{'z': [array([5913, 2527, 3558, 7118, 3524, 3003, 6208, 3671])], 'type': 'heatmap'}"
       ]
      },
      {
       "output_type": "stream",
       "stream": "stdout",
       "text": [
        "\n",
        "{'z': [array([5434, 2040, 3225, 6323, 2899, 2784, 5930, 3469])], 'type': 'heatmap'}"
       ]
      },
      {
       "output_type": "stream",
       "stream": "stdout",
       "text": [
        "\n",
        "{'z': [array([4678, 1486, 2401, 4458, 1890, 4476, 5506, 3015])], 'type': 'heatmap'}"
       ]
      },
      {
       "output_type": "stream",
       "stream": "stdout",
       "text": [
        "\n",
        "{'z': [array([2719,  986, 1416, 2904, 1319, 1630, 3297, 1979])], 'type': 'heatmap'}"
       ]
      },
      {
       "output_type": "stream",
       "stream": "stdout",
       "text": [
        "\n",
        "{'z': [array([4342, 2179, 2512, 5639, 2888, 2250, 5073, 3203])], 'type': 'heatmap'}"
       ]
      },
      {
       "output_type": "stream",
       "stream": "stdout",
       "text": [
        "\n",
        "{'z': [array([5934, 2595, 3288, 6862, 3368, 3321, 6343, 3627])], 'type': 'heatmap'}"
       ]
      },
      {
       "output_type": "stream",
       "stream": "stdout",
       "text": [
        "\n",
        "{'z': [array([6128, 2712, 3236, 6951, 3487, 4373, 6327, 3989])], 'type': 'heatmap'}"
       ]
      },
      {
       "output_type": "stream",
       "stream": "stdout",
       "text": [
        "\n",
        "{'z': [array([3716, 1651, 2172, 4769, 2421, 1089, 4152, 2651])], 'type': 'heatmap'}"
       ]
      },
      {
       "output_type": "stream",
       "stream": "stdout",
       "text": [
        "\n",
        "{'z': [array([4562, 1788, 2726, 5463, 2569, 2657, 5073, 3168])], 'type': 'heatmap'}"
       ]
      },
      {
       "output_type": "stream",
       "stream": "stdout",
       "text": [
        "\n",
        "{'z': [array([3783, 1184, 2095, 3712, 1584, 2775, 4181, 2516])], 'type': 'heatmap'}"
       ]
      },
      {
       "output_type": "stream",
       "stream": "stdout",
       "text": [
        "\n",
        "{'z': [array([2671,  975, 1310, 2857, 1266, 2018, 3447, 1886])], 'type': 'heatmap'}"
       ]
      },
      {
       "output_type": "stream",
       "stream": "stdout",
       "text": [
        "\n",
        "{'z': [array([4980, 2402, 3173, 6407, 3255, 2795, 5988, 3356])], 'type': 'heatmap'}"
       ]
      },
      {
       "output_type": "stream",
       "stream": "stdout",
       "text": [
        "\n",
        "{'z': [array([6023, 2516, 3543, 7124, 3381, 3430, 6434, 3790])], 'type': 'heatmap'}"
       ]
      },
      {
       "output_type": "stream",
       "stream": "stdout",
       "text": [
        "\n",
        "{'z': [array([5255, 2192, 3158, 6081, 3191, 2414, 5408, 3485])], 'type': 'heatmap'}"
       ]
      },
      {
       "output_type": "stream",
       "stream": "stdout",
       "text": [
        "\n",
        "{'z': [array([5156, 2131, 3324, 6075, 3143, 1885, 5206, 3612])], 'type': 'heatmap'}"
       ]
      },
      {
       "output_type": "stream",
       "stream": "stdout",
       "text": [
        "\n",
        "{'z': [array([4187, 1742, 2626, 5333, 2551, 1339, 4698, 3143])], 'type': 'heatmap'}"
       ]
      },
      {
       "output_type": "stream",
       "stream": "stdout",
       "text": [
        "\n",
        "{'z': [array([4014, 1268, 2096, 3950, 1623, 2803, 4692, 2800])], 'type': 'heatmap'}"
       ]
      },
      {
       "output_type": "stream",
       "stream": "stdout",
       "text": [
        "\n",
        "{'z': [array([4002, 1358, 1855, 3617, 1755, 3689, 5042, 2556])], 'type': 'heatmap'}"
       ]
      },
      {
       "output_type": "stream",
       "stream": "stdout",
       "text": [
        "\n",
        "{'z': [array([5371, 2395, 3289, 6043, 3160, 2560, 5941, 3519])], 'type': 'heatmap'}"
       ]
      },
      {
       "output_type": "stream",
       "stream": "stdout",
       "text": [
        "\n",
        "{'z': [array([3803, 1683, 2469, 4829, 2348,  996, 4011, 2765])], 'type': 'heatmap'}"
       ]
      },
      {
       "output_type": "stream",
       "stream": "stdout",
       "text": [
        "\n",
        "{'z': [array([3411, 1714, 2304, 4459, 2242, 1043, 4546, 2874])], 'type': 'heatmap'}"
       ]
      },
      {
       "output_type": "stream",
       "stream": "stdout",
       "text": [
        "\n",
        "{'z': [array([5641, 2461, 3604, 6322, 3162, 2343, 6040, 3649])], 'type': 'heatmap'}"
       ]
      },
      {
       "output_type": "stream",
       "stream": "stdout",
       "text": [
        "\n",
        "{'z': [array([4767, 1978, 3166, 5725, 2731, 1777, 5558, 3381])], 'type': 'heatmap'}"
       ]
      },
      {
       "output_type": "stream",
       "stream": "stdout",
       "text": [
        "\n",
        "{'z': [array([4654, 1375, 2582, 4049, 1873, 3303, 5281, 2776])], 'type': 'heatmap'}"
       ]
      },
      {
       "output_type": "stream",
       "stream": "stdout",
       "text": [
        "\n",
        "{'z': [array([4695, 1388, 2475, 3842, 1769, 3487, 5345, 2913])], 'type': 'heatmap'}"
       ]
      },
      {
       "output_type": "stream",
       "stream": "stdout",
       "text": [
        "\n",
        "{'z': [array([5375, 2506, 3386, 6159, 3166, 2364, 5947, 3579])], 'type': 'heatmap'}"
       ]
      },
      {
       "output_type": "stream",
       "stream": "stdout",
       "text": [
        "\n",
        "{'z': [array([6127, 2771, 3745, 6806, 3337, 2573, 6015, 4248])], 'type': 'heatmap'}"
       ]
      },
      {
       "output_type": "stream",
       "stream": "stdout",
       "text": [
        "\n",
        "{'z': [array([6075, 2676, 3768, 6877, 3485, 2356, 6074, 4293])], 'type': 'heatmap'}"
       ]
      },
      {
       "output_type": "stream",
       "stream": "stdout",
       "text": [
        "\n",
        "{'z': [array([2699, 1339, 1788, 3511, 1801,  586, 3029, 2008])], 'type': 'heatmap'}"
       ]
      },
      {
       "output_type": "stream",
       "stream": "stdout",
       "text": [
        "\n",
        "{'z': [array([5162, 2335, 3410, 6406, 3068, 2116, 5793, 3653])], 'type': 'heatmap'}"
       ]
      },
      {
       "output_type": "stream",
       "stream": "stdout",
       "text": [
        "\n",
        "{'z': [array([4219, 1473, 2170, 4177, 1796, 3058, 5172, 2778])], 'type': 'heatmap'}"
       ]
      },
      {
       "output_type": "stream",
       "stream": "stdout",
       "text": [
        "\n",
        "{'z': [array([3918, 1442, 2030, 3752, 1843, 3381, 5119, 2742])], 'type': 'heatmap'}"
       ]
      },
      {
       "output_type": "stream",
       "stream": "stdout",
       "text": [
        "\n",
        "{'z': [array([3797, 2120, 2722, 4892, 2555, 1021, 4506, 2875])], 'type': 'heatmap'}"
       ]
      },
      {
       "output_type": "stream",
       "stream": "stdout",
       "text": [
        "\n",
        "{'z': [array([5566, 2805, 3662, 6355, 3373, 2153, 5888, 3738])], 'type': 'heatmap'}"
       ]
      },
      {
       "output_type": "stream",
       "stream": "stdout",
       "text": [
        "\n",
        "{'z': [array([5560, 2759, 3717, 6323, 3355, 1881, 5673, 3886])], 'type': 'heatmap'}"
       ]
      },
      {
       "output_type": "stream",
       "stream": "stdout",
       "text": [
        "\n",
        "{'z': [array([5806, 2766, 3902, 6713, 3466, 1941, 6044, 3995])], 'type': 'heatmap'}"
       ]
      },
      {
       "output_type": "stream",
       "stream": "stdout",
       "text": [
        "\n",
        "{'z': [array([4381, 2209, 3019, 5409, 2724, 1632, 5109, 3106])], 'type': 'heatmap'}"
       ]
      },
      {
       "output_type": "stream",
       "stream": "stdout",
       "text": [
        "\n",
        "{'z': [array([2682, 1018, 1701, 3178, 1385, 1494, 3593, 2303])], 'type': 'heatmap'}"
       ]
      },
      {
       "output_type": "stream",
       "stream": "stdout",
       "text": [
        "\n",
        "{'z': [array([4091, 1389, 1997, 3991, 1913, 3896, 5136, 2858])], 'type': 'heatmap'}"
       ]
      },
      {
       "output_type": "stream",
       "stream": "stdout",
       "text": [
        "\n",
        "{'z': [array([1513,  802,  973, 2073,  929,  824, 2359, 1533])], 'type': 'heatmap'}"
       ]
      },
      {
       "output_type": "stream",
       "stream": "stdout",
       "text": [
        "\n",
        "{'z': [array([5710, 3174, 3753, 7127, 3683, 1357, 5298, 3524])], 'type': 'heatmap'}"
       ]
      },
      {
       "output_type": "stream",
       "stream": "stdout",
       "text": [
        "\n",
        "{'z': [array([5460, 3258, 3865, 7005, 3884, 1512, 5561, 2913])], 'type': 'heatmap'}"
       ]
      },
      {
       "output_type": "stream",
       "stream": "stdout",
       "text": [
        "\n",
        "{'z': [array([6321, 3292, 4234, 7109, 3983, 1762, 5823, 2363])], 'type': 'heatmap'}"
       ]
      },
      {
       "output_type": "stream",
       "stream": "stdout",
       "text": [
        "\n",
        "{'z': [array([5555, 2848, 3708, 6797, 3593, 2022, 5780, 3534])], 'type': 'heatmap'}"
       ]
      },
      {
       "output_type": "stream",
       "stream": "stdout",
       "text": [
        "\n",
        "{'z': [array([2324, 1137, 1536, 2899, 1335, 1255, 3215, 2170])], 'type': 'heatmap'}"
       ]
      },
      {
       "output_type": "stream",
       "stream": "stdout",
       "text": [
        "\n",
        "{'z': [array([2997, 1423, 1677, 3183, 1808, 1768, 3971, 2224])], 'type': 'heatmap'}"
       ]
      },
      {
       "output_type": "stream",
       "stream": "stdout",
       "text": [
        "\n",
        "{'z': [array([5558, 3202, 3748, 6783, 4043, 1564, 5494, 3466])], 'type': 'heatmap'}"
       ]
      },
      {
       "output_type": "stream",
       "stream": "stdout",
       "text": [
        "\n",
        "{'z': [array([3278, 1697, 2279, 4107, 2439,  385, 3264, 2464])], 'type': 'heatmap'}"
       ]
      },
      {
       "output_type": "stream",
       "stream": "stdout",
       "text": [
        "\n",
        "{'z': [array([5412, 2997, 3552, 6449, 3629, 1470, 5355, 3790])], 'type': 'heatmap'}"
       ]
      },
      {
       "output_type": "stream",
       "stream": "stdout",
       "text": [
        "\n",
        "{'z': [array([2877, 1646, 2088, 3917, 2255,  428, 3111, 2433])], 'type': 'heatmap'}"
       ]
      },
      {
       "output_type": "stream",
       "stream": "stdout",
       "text": [
        "\n",
        "{'z': [array([3869, 2253, 2886, 5168, 3096,  953, 4085, 3065])], 'type': 'heatmap'}"
       ]
      },
      {
       "output_type": "stream",
       "stream": "stdout",
       "text": [
        "\n",
        "{'z': [array([2488, 1494, 1706, 2911,  979, 1075, 3277, 2456])], 'type': 'heatmap'}"
       ]
      },
      {
       "output_type": "stream",
       "stream": "stdout",
       "text": [
        "\n",
        "{'z': [array([2243, 1749, 1417, 2933, 1804, 1459, 3623, 2527])], 'type': 'heatmap'}"
       ]
      },
      {
       "output_type": "stream",
       "stream": "stdout",
       "text": [
        "\n",
        "{'z': [array([4206, 2466, 2799, 5485, 3272,  855, 4307, 3012])], 'type': 'heatmap'}"
       ]
      },
      {
       "output_type": "stream",
       "stream": "stdout",
       "text": [
        "\n",
        "{'z': [array([5506, 3153, 3563, 6626, 3882, 1485, 5332, 3745])], 'type': 'heatmap'}"
       ]
      },
      {
       "output_type": "stream",
       "stream": "stdout",
       "text": [
        "\n",
        "{'z': [array([1564, 3330, 1154, 1803, 4074, 1759, 1511, 3921])], 'type': 'heatmap'}"
       ]
      },
      {
       "output_type": "stream",
       "stream": "stdout",
       "text": [
        "\n"
       ]
      }
     ],
     "prompt_number": 15
    },
    {
     "cell_type": "code",
     "collapsed": false,
     "input": [
      "help(py.Stream.write)"
     ],
     "language": "python",
     "metadata": {},
     "outputs": [
      {
       "output_type": "stream",
       "stream": "stdout",
       "text": [
        "Help on method write in module plotly.plotly.plotly:\n",
        "\n",
        "write(self, trace, layout=None, validate=True, reconnect_on=(200, '', 408)) unbound plotly.plotly.plotly.Stream method\n",
        "    Write to an open stream.\n",
        "    \n",
        "    Once you've instantiated a 'Stream' object with a 'stream_id',\n",
        "    you can 'write' to it in real time.\n",
        "    \n",
        "    positional arguments:\n",
        "    trace - A valid plotly trace object (e.g., Scatter, Heatmap, etc.).\n",
        "            Not all keys in these are `stremable` run help(Obj) on the type\n",
        "            of trace your trying to stream, for each valid key, if the key\n",
        "            is streamable, it will say 'streamable = True'. Trace objects\n",
        "            must be dictionary-like.\n",
        "    \n",
        "    keyword arguments:\n",
        "    layout (default=None) - A valid Layout object\n",
        "                            Run help(plotly.graph_objs.Layout)\n",
        "    validate (default = True) - Validate this stream before sending?\n",
        "                                This will catch local errors if set to True.\n",
        "    \n",
        "    Some valid keys for trace dictionaries:\n",
        "        'x', 'y', 'text', 'z', 'marker', 'line'\n",
        "    \n",
        "    Examples:\n",
        "    >>> write(dict(x=1, y=2))  # assumes 'scatter' type\n",
        "    >>> write(Bar(x=[1, 2, 3], y=[10, 20, 30]))\n",
        "    >>> write(Scatter(x=1, y=2, text='scatter text'))\n",
        "    >>> write(Scatter(x=1, y=3, marker=Marker(color='blue')))\n",
        "    >>> write(Heatmap(z=[[1, 2, 3], [4, 5, 6]]))\n",
        "    \n",
        "    The connection to plotly's servers is checked before writing\n",
        "    and reconnected if disconnected and if the response status code\n",
        "    is in `reconnect_on`.\n",
        "    \n",
        "    For more help, see: `help(plotly.plotly.Stream)`\n",
        "    or see examples and tutorials here:\n",
        "    http://nbviewer.ipython.org/github/plotly/python-user-guide/blob/master/s7_streaming/s7_streaming.ipynb\n",
        "\n"
       ]
      }
     ],
     "prompt_number": 21
    },
    {
     "cell_type": "code",
     "collapsed": false,
     "input": [
      "from IPython.display import display, HTML\n",
      "import urllib2  \n",
      "url = 'https://raw.githubusercontent.com/plotly/python-user-guide/master/custom.css'\n",
      "display(HTML(urllib2.urlopen(url).read()))"
     ],
     "language": "python",
     "metadata": {},
     "outputs": [
      {
       "html": [
        "<style>\n",
        "    /*body {\n",
        "        background-color: #F5F5F5;\n",
        "    }*/\n",
        "    div.cell{\n",
        "        width: 850px;\n",
        "        margin-left: 10% !important;\n",
        "        margin-right: auto;\n",
        "    }\n",
        "    h1 {\n",
        "        font-family: \"Open sans\",verdana,arial,sans-serif;\n",
        "    }\n",
        "    .text_cell_render h1 {\n",
        "        font-weight: 200;\n",
        "        font-size: 40pt;\n",
        "        line-height: 100%;\n",
        "        color:#447adb;\n",
        "        margin-bottom: 0em;\n",
        "        margin-top: 0em;\n",
        "        display: block;\n",
        "        white-space: nowrap;\n",
        "    } \n",
        "    h2 {\n",
        "        font-family: \"Open sans\",verdana,arial,sans-serif;\n",
        "        text-indent:1em;\n",
        "    }\n",
        "    .text_cell_render h2 {\n",
        "        font-weight: 200;\n",
        "        font-size: 20pt;\n",
        "        font-style: italic;\n",
        "        line-height: 100%;\n",
        "        color:#447adb;\n",
        "        margin-bottom: 1.5em;\n",
        "        margin-top: 0.5em;\n",
        "        display: block;\n",
        "        white-space: nowrap;\n",
        "    } \n",
        "    h3 {\n",
        "        font-family: \"Open sans\",verdana,arial,sans-serif;\n",
        "    }\n",
        "    .text_cell_render h3 {\n",
        "        font-weight: 300;\n",
        "        font-size: 18pt;\n",
        "        line-height: 100%;\n",
        "        color:#447adb;\n",
        "        margin-bottom: 0.5em;\n",
        "        margin-top: 2em;\n",
        "        display: block;\n",
        "        white-space: nowrap;\n",
        "    }\n",
        "    h4 {\n",
        "        font-family: \"Open sans\",verdana,arial,sans-serif;\n",
        "    }\n",
        "    .text_cell_render h4 {\n",
        "        font-weight: 300;\n",
        "        font-size: 16pt;\n",
        "        color:#447adb;\n",
        "        margin-bottom: 0.5em;\n",
        "        margin-top: 0.5em;\n",
        "        display: block;\n",
        "        white-space: nowrap;\n",
        "    }\n",
        "    h5 {\n",
        "        font-family: \"Open sans\",verdana,arial,sans-serif;\n",
        "    }\n",
        "    .text_cell_render h5 {\n",
        "        font-weight: 300;\n",
        "        font-style: normal;\n",
        "        color: #1d3b84;\n",
        "        font-size: 16pt;\n",
        "        margin-bottom: 0em;\n",
        "        margin-top: 1.5em;\n",
        "        display: block;\n",
        "        white-space: nowrap;\n",
        "    }\n",
        "    div.text_cell_render{\n",
        "        font-family: \"Open sans\",verdana,arial,sans-serif;\n",
        "        line-height: 135%;\n",
        "        font-size: 125%;\n",
        "        width:750px;\n",
        "        margin-left:auto;\n",
        "        margin-right:auto;\n",
        "        text-align:justify;\n",
        "        text-justify:inter-word;\n",
        "    }\n",
        "    div.output_subarea.output_text.output_pyout {\n",
        "        overflow-x: auto;\n",
        "        overflow-y: scroll;\n",
        "        max-height: 300px;\n",
        "    }\n",
        "    div.output_subarea.output_stream.output_stdout.output_text {\n",
        "        overflow-x: auto;\n",
        "        overflow-y: scroll;\n",
        "        max-height: 300px;\n",
        "    }\n",
        "    div.output_subarea.output_html.rendered_html {\n",
        "        overflow-x: scroll;\n",
        "        max-width: 100%;\n",
        "      /*  overflow-y: scroll; */\n",
        "      /*  max-height: 300px;   */\n",
        "    }\n",
        "    code{\n",
        "      font-size: 78%;\n",
        "    }\n",
        "    .rendered_html code{\n",
        "    background-color: transparent;\n",
        "    }\n",
        "    ul{\n",
        "        /* color:#447adb; */  \n",
        "        margin: 2em;\n",
        "    }\n",
        "    ul li{\n",
        "        padding-left: 0.5em; \n",
        "        margin-bottom: 0.5em; \n",
        "        margin-top: 0.5em; \n",
        "    }\n",
        "    ul li li{\n",
        "        padding-left: 0.2em; \n",
        "        margin-bottom: 0.2em; \n",
        "        margin-top: 0.2em; \n",
        "    }\n",
        "    ol{\n",
        "        /* color:#447adb; */  \n",
        "        margin: 2em;\n",
        "    }\n",
        "    ol li{\n",
        "        padding-left: 0.5em; \n",
        "        margin-bottom: 0.5em; \n",
        "        margin-top: 0.5em; \n",
        "    }\n",
        "    /*.prompt{\n",
        "        display: None;\n",
        "    } */\n",
        "    ul li{\n",
        "        padding-left: 0.5em; \n",
        "        margin-bottom: 0.5em; \n",
        "        margin-top: 0.2em; \n",
        "    }\n",
        "    a:link{\n",
        "       font-weight: bold;\n",
        "       color:#447adb;\n",
        "    }\n",
        "    a:visited{\n",
        "       font-weight: bold;\n",
        "       color: #1d3b84;\n",
        "    }\n",
        "    a:hover{\n",
        "       font-weight: bold;\n",
        "       color: #1d3b84;\n",
        "    }\n",
        "    a:focus{\n",
        "       font-weight: bold;\n",
        "       color:#447adb;\n",
        "    }\n",
        "    a:active{\n",
        "       font-weight: bold;\n",
        "       color:#447adb;\n",
        "    }\n",
        "    .rendered_html :link {\n",
        "       text-decoration: none; \n",
        "    }\n",
        "    .rendered_html :hover {\n",
        "       text-decoration: none; \n",
        "    }\n",
        "    .rendered_html :visited {\n",
        "      text-decoration: none;\n",
        "    }\n",
        "    .rendered_html :focus {\n",
        "      text-decoration: none;\n",
        "    }\n",
        "    .rendered_html :active {\n",
        "      text-decoration: none;\n",
        "    }\n",
        "    .warning{\n",
        "        color: rgb( 240, 20, 20 )\n",
        "    } \n",
        "    hr {\n",
        "      color: #f3f3f3;\n",
        "      background-color: #f3f3f3;\n",
        "      height: 1px;\n",
        "    }\n",
        "    blockquote{\n",
        "      display:block;\n",
        "      background: #f3f3f3;\n",
        "      font-family: \"Open sans\",verdana,arial,sans-serif;\n",
        "      width:610px;\n",
        "      padding: 15px 15px 15px 15px;\n",
        "      text-align:justify;\n",
        "      text-justify:inter-word;\n",
        "      }\n",
        "      blockquote p {\n",
        "        margin-bottom: 0;\n",
        "        line-height: 125%;\n",
        "        font-size: 100%;\n",
        "      }\n",
        "   /* element.style {\n",
        "    } */  \n",
        "</style>\n",
        "<script>\n",
        "    MathJax.Hub.Config({\n",
        "                        TeX: {\n",
        "                           extensions: [\"AMSmath.js\"]\n",
        "                           },\n",
        "                tex2jax: {\n",
        "                    inlineMath: [ [\"$\",\"$\"], [\"\\\\(\",\"\\\\)\"] ],\n",
        "                    displayMath: [ [\"$$\",\"$$\"], [\"\\\\[\",\"\\\\]\"] ]\n",
        "                },\n",
        "                displayAlign: \"center\", // Change this to \"center\" to center equations.\n",
        "                \"HTML-CSS\": {\n",
        "                    styles: {\".MathJax_Display\": {\"margin\": 4}}\n",
        "                }\n",
        "        });\n",
        "</script>\n"
       ],
       "metadata": {},
       "output_type": "display_data",
       "text": [
        "<IPython.core.display.HTML at 0x7f8b501f4410>"
       ]
      }
     ],
     "prompt_number": 2
    }
   ],
   "metadata": {}
  }
 ]
}