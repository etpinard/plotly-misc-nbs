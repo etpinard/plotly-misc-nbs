{
 "metadata": {
  "name": "",
  "signature": "sha256:ba53eaf1625f685716aaaca656816e96d69834aa4878d4e35d188a9de6cd7235"
 },
 "nbformat": 3,
 "nbformat_minor": 0,
 "worksheets": [
  {
   "cells": [
    {
     "cell_type": "heading",
     "level": 1,
     "metadata": {},
     "source": [
      "Simulation on shared axes"
     ]
    },
    {
     "cell_type": "heading",
     "level": 2,
     "metadata": {},
     "source": [
      "with Plotly's Streaming API"
     ]
    },
    {
     "cell_type": "markdown",
     "metadata": {},
     "source": [
      "From your last email:\n",
      "\n",
      "[...] what I had in mind was not to stream data through the y=sin(x) curves per se.  Rather, I want the animation to plot the subsequent y curves after a given time interval.  So for example:\n",
      "\n",
      "* t = 0  (plot is blank)\n",
      "* t = 1s (y1 is plotted and is static)\n",
      "* t = 2s (y2 is plotted as well)\n",
      "* t = 3s (y3 is plotted)\n",
      "* t = 4s (y4 is plotted)\n",
      "\n",
      "\n",
      "The curves y(x) are static, merely plotting them increments with time.   Is something like this available?"
     ]
    },
    {
     "cell_type": "markdown",
     "metadata": {},
     "source": [
      "Absolutely. \n",
      "\n",
      "Plotly allows you to either append a given state (like in the last example) or overwrite it (like I will show you here); hence, plotting full curves in sequence.\n",
      "\n",
      "This <a href=\"http://nbviewer.ipython.org/github/plotly/python-user-guide/blob/master/s7_streaming/s7_streaming_p2-double-pendulum.ipynb\" target=\"_blank\">notebook</a> has more on the topic."
     ]
    },
    {
     "cell_type": "markdown",
     "metadata": {},
     "source": [
      "<hr>\n",
      "<br>\n",
      "\n",
      "Again, import a few modules:"
     ]
    },
    {
     "cell_type": "code",
     "collapsed": false,
     "input": [
      "import plotly.plotly as py\n",
      "import plotly.tools as tls"
     ],
     "language": "python",
     "metadata": {},
     "outputs": [],
     "prompt_number": 1
    },
    {
     "cell_type": "code",
     "collapsed": false,
     "input": [
      "from plotly.graph_objs import Figure, Data, Layout\n",
      "from plotly.graph_objs import Scatter\n",
      "from plotly.graph_objs import XAxis, YAxis\n",
      "from plotly.graph_objs import Stream        # aka Stream id object"
     ],
     "language": "python",
     "metadata": {},
     "outputs": [],
     "prompt_number": 2
    },
    {
     "cell_type": "code",
     "collapsed": false,
     "input": [
      "import numpy as np\n",
      "import time"
     ],
     "language": "python",
     "metadata": {},
     "outputs": [],
     "prompt_number": 3
    },
    {
     "cell_type": "markdown",
     "metadata": {},
     "source": [
      "Next, retrieve the stream ids in your credentials file as a list:"
     ]
    },
    {
     "cell_type": "code",
     "collapsed": false,
     "input": [
      "# Get stream ids in credentials file\n",
      "my_stream_ids = tls.get_credentials_file()['stream_ids']"
     ],
     "language": "python",
     "metadata": {},
     "outputs": [],
     "prompt_number": 4
    },
    {
     "cell_type": "markdown",
     "metadata": {},
     "source": [
      "You can check to content of your credentials file inside IPython/Python with:\n",
      "\n",
      "    >>> tls.show_credentials_file()\n",
      "    \n",
      "Instructions on how to get your stream tokens from <a href=\"https://plot.ly\" target=\"_blank\">plot.ly</a> and write them into your credentials file can be found <a href=\"http://nbviewer.ipython.org/github/plotly/python-user-guide/blob/master/s7_streaming/s7_streaming.ipynb#Get-your-stream-tokens\" target=\"_blank\">here</a>."
     ]
    },
    {
     "cell_type": "markdown",
     "metadata": {},
     "source": [
      "Make two instances of the stream id object, each with a unique stream token:"
     ]
    },
    {
     "cell_type": "code",
     "collapsed": false,
     "input": [
      "# Make a first stream id object \n",
      "my_stream_id1 = my_stream_ids[0]         # get a stream token from list\n",
      "my_stream1 = Stream(token=my_stream_id1) # N.B. link stream id to 'token' key\n",
      "\n",
      "# Make a second stream id object\n",
      "my_stream_id2 = my_stream_ids[1]         # get different stream token from list\n",
      "my_stream2 = Stream(token=my_stream_id2)"
     ],
     "language": "python",
     "metadata": {},
     "outputs": [],
     "prompt_number": 5
    },
    {
     "cell_type": "markdown",
     "metadata": {},
     "source": [
      "Before starting to stream data, we must first initialize the figure object:"
     ]
    },
    {
     "cell_type": "code",
     "collapsed": false,
     "input": [
      "# Scatter object for sin(x) line\n",
      "my_scatter1 = Scatter(x=[],\n",
      "                      y=[],\n",
      "                      mode='lines+markers',\n",
      "                      name='$y_1 = \\sin(x)$',  # label for legend\n",
      "                      yaxis='y1',         # N.B. link data to y-axis 1\n",
      "                      stream=my_stream1)  # N.B. embed stream id, 1 per trace\n",
      "\n",
      "# Scatter object for sin(2x) line\n",
      "my_scatter2 = Scatter(x=[],\n",
      "                      y=[],\n",
      "                      mode='lines+markers',\n",
      "                      name='$y_2 = \\sin(2x)$',  \n",
      "                      yaxis='y2',         # N.B. link data to y-axis 2\n",
      "                      stream=my_stream2)  # N.B. embed stream id, 1 per trace\n",
      "\n",
      "# Package them into data object\n",
      "my_data = Data([my_scatter1, my_scatter2])"
     ],
     "language": "python",
     "metadata": {},
     "outputs": [],
     "prompt_number": 6
    },
    {
     "cell_type": "code",
     "collapsed": false,
     "input": [
      "# Layout object\n",
      "my_layout = Layout(title='A shared axes simulation',  # plot's title\n",
      "                   xaxis= XAxis(range=[0,2*np.pi]),\n",
      "                   yaxis1= YAxis(domain=[0.0, 0.475], # bottom yaxis domain\n",
      "                                 range=[-1.3,1.3]),       #  and range\n",
      "                   yaxis2= YAxis(domain=[0.525, 1.0], # top yaxis domain\n",
      "                                 range=[-1.3,1.3])       #   and range\n",
      "                  )"
     ],
     "language": "python",
     "metadata": {},
     "outputs": [],
     "prompt_number": 7
    },
    {
     "cell_type": "code",
     "collapsed": false,
     "input": [
      "# Make instance of figure object\n",
      "my_fig = Figure(data=my_data, layout=my_layout)\n",
      "\n",
      "# Initialize streaming plot, show result in notebook\n",
      "py.iplot(my_fig, filename='stream-shared-axis')"
     ],
     "language": "python",
     "metadata": {},
     "outputs": [
      {
       "html": [
        "<iframe id=\"igraph\" scrolling=\"no\" style=\"border:none;\"seamless=\"seamless\" src=\"https://plot.ly/~etpinard/277\" height=\"525\" width=\"100%\"></iframe>"
       ],
       "metadata": {},
       "output_type": "display_data",
       "text": [
        "<IPython.core.display.HTML at 0x7f4c2c5ddb10>"
       ]
      }
     ],
     "prompt_number": 14
    },
    {
     "cell_type": "markdown",
     "metadata": {},
     "source": [
      "Next, open both streams via the stream link object:"
     ]
    },
    {
     "cell_type": "code",
     "collapsed": false,
     "input": [
      "# Make a first instance of the Stream link object, \n",
      "#  with same stream id as the first Stream id object and open the stream\n",
      "s1 = py.Stream(my_stream_id1)\n",
      "s1.open()\n",
      "\n",
      "# Make a second instance of the Stream link object, \n",
      "#  with same stream id as the second Stream id object and open the stream\n",
      "s2 = py.Stream(my_stream_id2)\n",
      "s2.open()"
     ],
     "language": "python",
     "metadata": {},
     "outputs": [],
     "prompt_number": 16
    },
    {
     "cell_type": "markdown",
     "metadata": {},
     "source": [
      "And now stream some data:"
     ]
    },
    {
     "cell_type": "code",
     "collapsed": false,
     "input": [
      "# Make list of arrays of data pts from [0,pi/2], [pi/2,pi], [pi,3*pi/2], [3*pi/2,pi]\n",
      "dx = 0.1  # spacing between data points\n",
      "X = [np.arange(0,np.pi/2,dx),\n",
      "     np.arange(np.pi/2,np.pi,dx),\n",
      "     np.arange(np.pi,3*np.pi/2,dx),\n",
      "     np.arange(3*np.pi/2,2*np.pi,dx)]\n",
      "\n",
      "time.sleep(1)  # wait 1 sec\n",
      "\n",
      "for x in X:  # loop through list of arrays\n",
      "    \n",
      "    s1_data = dict(x=x, y=np.sin(x))    # data for stream 1\n",
      "                                        # N.B. both x and np.sin(x) are lists \n",
      "                                        #   (i.e. not numbers)\n",
      "                                        #   so the current state is overwritten!\n",
      "    s1.write(s1_data)                   # send data to stream 1\n",
      "    \n",
      "    time.sleep(1)  # wait 1 sec\n",
      "    \n",
      "    s2_data = dict(x=x, y=np.sin(2*x))  # data for stream 2\n",
      "                                        # N.B. again both x and np.sin(2*x) are lists!\n",
      "    s2.write(s2_data)                   # send data to stream 2\n",
      "    \n",
      "    time.sleep(1)  # wait 1 sec\n",
      "    \n",
      "# Close both streams when done\n",
      "s1.close()\n",
      "s2.close()"
     ],
     "language": "python",
     "metadata": {},
     "outputs": [],
     "prompt_number": 17
    },
    {
     "cell_type": "markdown",
     "metadata": {},
     "source": [
      "\n",
      "See the results right inside this notebook above.\n",
      "\n",
      "\n",
      "Note that, in this example, the two lines first plotted disappearer when they are overwritten. To see all eight traces on the plot at the end of the simulation either:\n",
      "\n",
      "* Use **eight** unique stream tokens, plotting each trace sequentially to different streams\n",
      "\n",
      "* Or, use"
     ]
    },
    {
     "cell_type": "code",
     "collapsed": false,
     "input": [
      "# Make instance of figure object\n",
      "my_fig = Figure(data=my_data, layout=my_layout)\n",
      "\n",
      "# Initialize streaming plot, show result in notebook\n",
      "py.iplot(my_fig, filename='stream-shared-axis2')"
     ],
     "language": "python",
     "metadata": {},
     "outputs": [
      {
       "html": [
        "<iframe id=\"igraph\" scrolling=\"no\" style=\"border:none;\"seamless=\"seamless\" src=\"https://plot.ly/~etpinard/278\" height=\"525\" width=\"100%\"></iframe>"
       ],
       "metadata": {},
       "output_type": "display_data",
       "text": [
        "<IPython.core.display.HTML at 0x7f4c16fd2590>"
       ]
      }
     ],
     "prompt_number": 11
    },
    {
     "cell_type": "code",
     "collapsed": false,
     "input": [
      "s1.open()\n",
      "s2.open()\n",
      "\n",
      "time.sleep(1)  # wait 1 sec\n",
      "\n",
      "xx = np.array([])\n",
      "\n",
      "for x in X:  # loop through list of arrays\n",
      "    \n",
      "    xx = np.append(xx,x)\n",
      "    \n",
      "    y1 = np.sin(xx)\n",
      "    s1_data = dict(x=xx, y=y1)   # data for stream 1\n",
      "    s1.write(s1_data)            # send data to stream 1\n",
      "    \n",
      "    time.sleep(1)  # wait 1 sec\n",
      "    \n",
      "    y2 = np.sin(2*xx)\n",
      "    s2_data = dict(x=xx, y=y2)  # data for stream 2\n",
      "    s2.write(s2_data)           # send data to stream 2\n",
      "    \n",
      "    time.sleep(1)  # wait 1 sec\n",
      "    \n",
      "# Close both streams when done\n",
      "s1.close()\n",
      "s2.close()"
     ],
     "language": "python",
     "metadata": {},
     "outputs": [],
     "prompt_number": 12
    },
    {
     "cell_type": "code",
     "collapsed": false,
     "input": [],
     "language": "python",
     "metadata": {},
     "outputs": []
    },
    {
     "cell_type": "markdown",
     "metadata": {},
     "source": [
      "<br>\n",
      "<hr>"
     ]
    },
    {
     "cell_type": "markdown",
     "metadata": {},
     "source": [
      "<div style=\"float:right; \\\">\n",
      "    <img src=\"http://i.imgur.com/4vwuxdJ.png\" \n",
      " align=right style=\"float:right; margin-left: 5px; margin-top: -10px\" />\n",
      "</div>\n",
      "\n",
      "<h4 style=\"margin-top:80px;\">Got Questions or Feedback? </h4>\n",
      "\n",
      "About <a href=\"https://plot.ly\" target=\"_blank\">Plotly</a>\n",
      "\n",
      "* email: feedback@plot.ly \n",
      "* tweet: \n",
      "<a href=\"https://twitter.com/plotlygraphs\" target=\"_blank\">@plotlygraphs</a>\n",
      "\n",
      "<h4 style=\"margin-top:30px;\">Notebook styling ideas</h4>\n",
      "\n",
      "Big thanks to\n",
      "\n",
      "* <a href=\"http://nbviewer.ipython.org/github/CamDavidsonPilon/Probabilistic-Programming-and-Bayesian-Methods-for-Hackers/blob/master/Prologue/Prologue.ipynb\" target=\"_blank\">Cam Davidson-Pilon</a>\n",
      "* <a href=\"http://lorenabarba.com/blog/announcing-aeropython/#.U1ULXdX1LJ4.google_plusone_share\" target=\"_blank\">Lorena A. Barba</a>\n",
      "\n",
      "<br>"
     ]
    },
    {
     "cell_type": "code",
     "collapsed": false,
     "input": [
      "# CSS styling within IPython notebook\n",
      "from IPython.core.display import HTML\n",
      "import urllib2\n",
      "def css_styling():\n",
      "    url = 'https://raw.githubusercontent.com/plotly/python-user-guide/master/custom.css'\n",
      "    styles = urllib2.urlopen(url).read()\n",
      "    return HTML(styles)\n",
      "\n",
      "css_styling()"
     ],
     "language": "python",
     "metadata": {},
     "outputs": [
      {
       "html": [
        "<style>\n",
        "    /*body {\n",
        "        background-color: #F5F5F5;\n",
        "    }*/\n",
        "    div.cell{\n",
        "        width: 850px;\n",
        "        margin-left: 10% !important;\n",
        "        margin-right: auto;\n",
        "    }\n",
        "    h1 {\n",
        "        font-family: \"Open sans\",verdana,arial,sans-serif;\n",
        "    }\n",
        "    .text_cell_render h1 {\n",
        "        font-weight: 200;\n",
        "        font-size: 40pt;\n",
        "        line-height: 100%;\n",
        "        color:#447adb;\n",
        "        margin-bottom: 0em;\n",
        "        margin-top: 0em;\n",
        "        display: block;\n",
        "        white-space: nowrap;\n",
        "    } \n",
        "    h2 {\n",
        "        font-family: \"Open sans\",verdana,arial,sans-serif;\n",
        "        text-indent:1em;\n",
        "    }\n",
        "    .text_cell_render h2 {\n",
        "        font-weight: 200;\n",
        "        font-size: 20pt;\n",
        "        font-style: italic;\n",
        "        line-height: 100%;\n",
        "        color:#447adb;\n",
        "        margin-bottom: 1.5em;\n",
        "        margin-top: 0.5em;\n",
        "        display: block;\n",
        "        white-space: nowrap;\n",
        "    } \n",
        "    h3 {\n",
        "        font-family: \"Open sans\",verdana,arial,sans-serif;\n",
        "    }\n",
        "    .text_cell_render h3 {\n",
        "        font-weight: 300;\n",
        "        font-size: 18pt;\n",
        "        line-height: 100%;\n",
        "        color:#447adb;\n",
        "        margin-bottom: 0.5em;\n",
        "        margin-top: 2em;\n",
        "        display: block;\n",
        "        white-space: nowrap;\n",
        "    }\n",
        "    h4 {\n",
        "        font-family: \"Open sans\",verdana,arial,sans-serif;\n",
        "    }\n",
        "    .text_cell_render h4 {\n",
        "        font-weight: 300;\n",
        "        font-size: 16pt;\n",
        "        color:#447adb;\n",
        "        margin-bottom: 0.5em;\n",
        "        margin-top: 0.5em;\n",
        "        display: block;\n",
        "        white-space: nowrap;\n",
        "    }\n",
        "    h5 {\n",
        "        font-family: \"Open sans\",verdana,arial,sans-serif;\n",
        "    }\n",
        "    .text_cell_render h5 {\n",
        "        font-weight: 300;\n",
        "        font-style: normal;\n",
        "        color: #1d3b84;\n",
        "        font-size: 16pt;\n",
        "        margin-bottom: 0em;\n",
        "        margin-top: 1.5em;\n",
        "        display: block;\n",
        "        white-space: nowrap;\n",
        "    }\n",
        "    div.text_cell_render{\n",
        "        font-family: \"Open sans\",verdana,arial,sans-serif;\n",
        "        line-height: 135%;\n",
        "        font-size: 125%;\n",
        "        width:750px;\n",
        "        margin-left:auto;\n",
        "        margin-right:auto;\n",
        "        text-align:justify;\n",
        "        text-justify:inter-word;\n",
        "    }\n",
        "    div.output_subarea.output_text.output_pyout {\n",
        "        overflow-x: auto;\n",
        "        overflow-y: scroll;\n",
        "        max-height: 300px;\n",
        "    }\n",
        "    div.output_subarea.output_stream.output_stdout.output_text {\n",
        "        overflow-x: auto;\n",
        "        overflow-y: scroll;\n",
        "        max-height: 300px;\n",
        "    }\n",
        "    code{\n",
        "      font-size: 78%;\n",
        "    }\n",
        "    .rendered_html code{\n",
        "    background-color: transparent;\n",
        "    }\n",
        "    ul{\n",
        "        /* color:#447adb; */  // colors text too\n",
        "        margin: 2em;\n",
        "    }\n",
        "    ul li{\n",
        "        padding-left: 0.5em; \n",
        "        margin-bottom: 0.5em; \n",
        "        margin-top: 0.5em; \n",
        "    }\n",
        "    ul li li{\n",
        "        padding-left: 0.2em; \n",
        "        margin-bottom: 0.2em; \n",
        "        margin-top: 0.2em; \n",
        "    }\n",
        "    ol{\n",
        "        /* color:#447adb; */  // colors text too\n",
        "        margin: 2em;\n",
        "    }\n",
        "    ol li{\n",
        "        padding-left: 0.5em; \n",
        "        margin-bottom: 0.5em; \n",
        "        margin-top: 0.5em; \n",
        "    }\n",
        "    /*.prompt{\n",
        "        display: None;\n",
        "    } */\n",
        "    ul li{\n",
        "        padding-left: 0.5em; \n",
        "        margin-bottom: 0.5em; \n",
        "        margin-top: 0.2em; \n",
        "    }\n",
        "    a:link{\n",
        "       font-weight: bold;\n",
        "       color:#447adb;\n",
        "    }\n",
        "    a:visited{\n",
        "       font-weight: bold;\n",
        "       color: #1d3b84;\n",
        "    }\n",
        "    a:hover{\n",
        "       font-weight: bold;\n",
        "       color: #1d3b84;\n",
        "    }\n",
        "    a:focus{\n",
        "       font-weight: bold;\n",
        "       color:#447adb;\n",
        "    }\n",
        "    a:active{\n",
        "       font-weight: bold;\n",
        "       color:#447adb;\n",
        "    }\n",
        "    .rendered_html :link {\n",
        "       text-decoration: none; \n",
        "    }\n",
        "    .rendered_html :hover {\n",
        "       text-decoration: none; \n",
        "    }\n",
        "    .rendered_html :visited {\n",
        "      text-decoration: none;\n",
        "    }\n",
        "    .rendered_html :focus {\n",
        "      text-decoration: none;\n",
        "    }\n",
        "    .rendered_html :active {\n",
        "      text-decoration: none;\n",
        "    }\n",
        "    .warning{\n",
        "        color: rgb( 240, 20, 20 )\n",
        "    } \n",
        "    hr {\n",
        "      color: #f3f3f3;\n",
        "      background-color: #f3f3f3;\n",
        "      height: 1px;\n",
        "    }\n",
        "    blockquote{\n",
        "      display:block;\n",
        "      background: #f3f3f3;\n",
        "      font-family: \"Open sans\",verdana,arial,sans-serif;\n",
        "      width:610px;\n",
        "      padding: 15px 15px 15px 15px;\n",
        "      text-align:justify;\n",
        "      text-justify:inter-word;\n",
        "      }\n",
        "      blockquote p {\n",
        "        margin-bottom: 0;\n",
        "        line-height: 125%;\n",
        "        font-size: 100%;\n",
        "      }\n",
        "   /* element.style {\n",
        "    } */  \n",
        "</style>\n",
        "<script>\n",
        "    MathJax.Hub.Config({\n",
        "                        TeX: {\n",
        "                           extensions: [\"AMSmath.js\"]\n",
        "                           },\n",
        "                tex2jax: {\n",
        "                    inlineMath: [ [\"$\",\"$\"], [\"\\\\(\",\"\\\\)\"] ],\n",
        "                    displayMath: [ [\"$$\",\"$$\"], [\"\\\\[\",\"\\\\]\"] ]\n",
        "                },\n",
        "                displayAlign: \"center\", // Change this to \"center\" to center equations.\n",
        "                \"HTML-CSS\": {\n",
        "                    styles: {\".MathJax_Display\": {\"margin\": 4}}\n",
        "                }\n",
        "        });\n",
        "</script>\n"
       ],
       "metadata": {},
       "output_type": "pyout",
       "prompt_number": 13,
       "text": [
        "<IPython.core.display.HTML at 0x7f4c16fe7c90>"
       ]
      }
     ],
     "prompt_number": 13
    },
    {
     "cell_type": "code",
     "collapsed": false,
     "input": [],
     "language": "python",
     "metadata": {},
     "outputs": [],
     "prompt_number": 13
    }
   ],
   "metadata": {}
  }
 ]
}