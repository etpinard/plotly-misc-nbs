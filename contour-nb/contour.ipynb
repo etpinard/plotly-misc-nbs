{
 "metadata": {
  "name": "",
  "signature": "sha256:9ba7545d96a60dacae5cb467d2bf3754a4e9895ed83a834b2a976b1354d774ea"
 },
 "nbformat": 3,
 "nbformat_minor": 0,
 "worksheets": [
  {
   "cells": [
    {
     "cell_type": "heading",
     "level": 1,
     "metadata": {},
     "source": [
      "Contour Plot Examples"
     ]
    },
    {
     "cell_type": "heading",
     "level": 2,
     "metadata": {},
     "source": [
      "an IPython Notebook by plotly"
     ]
    },
    {
     "cell_type": "markdown",
     "metadata": {},
     "source": [
      "Sign in to Plotly using the current version of Plotly's Python API:"
     ]
    },
    {
     "cell_type": "code",
     "collapsed": false,
     "input": [
      "import plotly\n",
      "plotly.__version__"
     ],
     "language": "python",
     "metadata": {},
     "outputs": [
      {
       "metadata": {},
       "output_type": "pyout",
       "prompt_number": 1,
       "text": [
        "'0.5.13'"
       ]
      }
     ],
     "prompt_number": 1
    },
    {
     "cell_type": "code",
     "collapsed": false,
     "input": [
      "py = plotly.plotly(\"<your-user-name>\", \"<your-api-key>\")"
     ],
     "language": "python",
     "metadata": {},
     "outputs": [],
     "prompt_number": 2
    },
    {
     "cell_type": "heading",
     "level": 3,
     "metadata": {},
     "source": [
      "A 2D contour histograms"
     ]
    },
    {
     "cell_type": "markdown",
     "metadata": {},
     "source": [
      "The following cell has the code used to generate <a href=\"https://plot.ly/~alex/309/\" target=\"_blank\">this plot</a> which features a 2d contour histogram (new!), one x and one y histogram and some scatter points."
     ]
    },
    {
     "cell_type": "code",
     "collapsed": false,
     "input": [
      "import numpy as np  # we'll need this\n",
      "\n",
      "# some linear space\n",
      "t = np.linspace(-1,1.2,2001)\n",
      "\n",
      "# cubic function plus norm. dist. noise\n",
      "x = (t**3)+(0.3*np.random.randn(2001))\n",
      "\n",
      "# sixth power plus norm. dist. noise\n",
      "y = (t**6)+(0.3*np.random.randn(2001))\n",
      "\n",
      "# dictionary for the marker points\n",
      "markers = {'x':x,\n",
      "           'y':y,\n",
      "           'mode':'markers',\n",
      "           'name':'points',\n",
      "           'marker':{'color':'rgb(102,0,0)',\n",
      "                     'opacity':0.4,'size':2}}\n",
      "\n",
      "# dictionary for the 2d contour histogram\n",
      "hist2d = {'x':x,\n",
      "          'y':y,\n",
      "          'type':'histogram2dcontour',   # NEw plot type!\n",
      "          'name':'density',\n",
      "          'scl':'Hot',        # choose a color scale\n",
      "          'reversescl':True,  # reverse to scale\n",
      "          'showscale':False,  # don't show the color bar\n",
      "          'ncontours':20}     # number of contours \n",
      "\n",
      "# dictionary for the x histogram\n",
      "histx =  {'x':x,\n",
      "          'type':'histogramx',\n",
      "          'name':'x density',\n",
      "          'yaxis':'y2',        # plot on yaxis2\n",
      "          'marker':{'color':'rgb(102,0,0)'}}\n",
      "\n",
      "# dictionary for th y histogram \n",
      "histy =  {'y':y,\n",
      "          'type':'histogramy',\n",
      "          'name':'y density',\n",
      "          'xaxis':'x2',   # plot on xaxis2\n",
      "          'bardir':'h',   # horizontal bars!\n",
      "          'marker':{'color':'rgb(102,0,0)'}}\n",
      "\n",
      "# make data list out of the 4 trace dictionaries\n",
      "data = [markers,hist2d,histx,histy]\n",
      "\n",
      "# some layout options \n",
      "layout = {'hovermode':'closest',  # info about data pt closest to cursor will appear\n",
      "          'width':600,\n",
      "          'height':550,\n",
      "          'autosize':False,\n",
      "          'showlegend':False,\n",
      "          'bargap':0,          # no space between bars\n",
      "          'margin':{'t':50},\n",
      "          'xaxis':{'domain':[0,0.85],'showgrid':False,'zeroline':False},  # remove grid\n",
      "          'yaxis':{'domain':[0,0.85],'showgrid':False,'zeroline':False},  # and thick\n",
      "          'xaxis2':{'domain':[0.85,1],'showgrid':False,'zeroline':False}, # zero on\n",
      "          'yaxis2':{'domain':[0.85,1],'showgrid':False,'zeroline':False}} # all axes\n",
      "\n",
      "# send data to Plotly and embed plot in notebook\n",
      "py.iplot(data, layout=layout, filename='alex-309')"
     ],
     "language": "python",
     "metadata": {},
     "outputs": [
      {
       "html": [
        "<iframe height=\"550\" id=\"igraph\" scrolling=\"no\" seamless=\"seamless\" src=\"https://plot.ly/~etpinard/174\" width=\"100%\"></iframe>"
       ],
       "metadata": {},
       "output_type": "pyout",
       "prompt_number": 3,
       "text": [
        "<IPython.core.display.HTML at 0x2ed1d90>"
       ]
      }
     ],
     "prompt_number": 3
    },
    {
     "cell_type": "heading",
     "level": 3,
     "metadata": {},
     "source": [
      "A contour plot of a vortex"
     ]
    },
    {
     "cell_type": "markdown",
     "metadata": {},
     "source": [
      "And now code used to generate <a href=\"https://plot.ly/~alex/309/\" target=\"_blank\">this contour plot</a>."
     ]
    },
    {
     "cell_type": "code",
     "collapsed": false,
     "input": [
      "# select size of square grid\n",
      "size = 100\n",
      "\n",
      "# linear space from -2 pi to 2 pi\n",
      "x = np.linspace(-2*np.pi,2*np.pi,size)\n",
      "\n",
      "# init. vortex surface\n",
      "z = np.empty((size,size))\n",
      "\n",
      "# compute vortex surface\n",
      "for i,xi in enumerate(x):\n",
      "    r2 = (xi**2+x**2)\n",
      "    z[i] = np.sin(xi)*np.cos(x)*np.sin(r2)/(np.log(r2+1))\n",
      "    \n",
      "# make data list\n",
      "data = [{'x':x,\n",
      "         'y':x,\n",
      "         'z':z,\n",
      "         'type':'contour'}]\n",
      "\n",
      "# some layout options\n",
      "layout = {'width':600,\n",
      "          'height':550,\n",
      "          'margin':{'t':50},\n",
      "          'autosize':False}\n",
      "\n",
      "# send data to Plotly and embed plot in notebook\n",
      "py.iplot(data, layout=layout, filename='alex-310')"
     ],
     "language": "python",
     "metadata": {},
     "outputs": [
      {
       "html": [
        "<iframe height=\"550\" id=\"igraph\" scrolling=\"no\" seamless=\"seamless\" src=\"https://plot.ly/~etpinard/175\" width=\"100%\"></iframe>"
       ],
       "metadata": {},
       "output_type": "pyout",
       "prompt_number": 4,
       "text": [
        "<IPython.core.display.HTML at 0x7f8e629eeb10>"
       ]
      }
     ],
     "prompt_number": 4
    },
    {
     "cell_type": "markdown",
     "metadata": {},
     "source": [
      "<br>\n",
      "\n",
      "<div style=\"float:right; \\\">\n",
      "    <img src=\"http://i.imgur.com/i6YeveO.png\" \n",
      " align=right style=\"float:right; margin-left: 5px; margin-top: -20px\" />\n",
      "</div>\n",
      "\n",
      "<br>\n",
      "<br>\n",
      "<br>\n",
      "<br>\n",
      "<br>\n",
      "\n",
      "<h4>Got Questions and Feedback <br> about plotly? </h4>\n",
      "\n",
      "<br>\n",
      "\n",
      "* email: feedback@plot.ly \n",
      "* tweet: \n",
      "<a href=\"https://twitter.com/plotlygraphs\" target=\"_blank\">@plotlygraphs</a>"
     ]
    },
    {
     "cell_type": "code",
     "collapsed": false,
     "input": [
      "# CSS styling within IPython notebook\n",
      "from IPython.core.display import HTML\n",
      "def css_styling():\n",
      "    styles = open(\"plotly-python-doc.css\", \"r\").read()\n",
      "    return HTML(styles)\n",
      "css_styling()"
     ],
     "language": "python",
     "metadata": {},
     "outputs": [
      {
       "html": [
        "<style>\n",
        "    /*body {\n",
        "        background-color: #F5F5F5;\n",
        "    }*/\n",
        "    div.cell{\n",
        "        width: 850px;\n",
        "        margin-left: 10% !important;\n",
        "        margin-right: auto;\n",
        "    }\n",
        "    h1 {\n",
        "        font-family: 'Open sans',verdana,arial,sans-serif;\n",
        "        margin-top: 10px;\n",
        "        margin-bottom: 10px;\n",
        "    }\n",
        "    .text_cell_render h1 {\n",
        "        font-weight: 200;\n",
        "        font-size: 48pt;\n",
        "        line-height: 100%;\n",
        "        color:#447adb;\n",
        "        margin-bottom: 0em;\n",
        "        margin-top: 0em;\n",
        "        display: block;\n",
        "    } \n",
        "    h2 {\n",
        "        font-family: 'Open sans',verdana,arial,sans-serif;\n",
        "        margin-top: 10px;\n",
        "        margin-bottom: 40px;\n",
        "        text-indent:1em;\n",
        "    }\n",
        "    .text_cell_render h2 {\n",
        "        font-weight: 200;\n",
        "        font-size: 20pt;\n",
        "        font-style: italic;\n",
        "        line-height: 100%;\n",
        "        color:#447adb;\n",
        "        margin-bottom: 1.5em;\n",
        "        margin-top: 0.5em;\n",
        "        display: block;\n",
        "    } \n",
        "    h3 {\n",
        "        font-family: 'Open sans',verdana,arial,sans-serif;\n",
        "        text-indent:0.5em;\n",
        "    }\n",
        "    .text_cell_render h3 {\n",
        "        font-weight: 300;\n",
        "        font-size: 18pt;\n",
        "        /* color: #1d3b84; */\n",
        "        color:#447adb;\n",
        "        /* font-style: italic; */\n",
        "        margin-bottom: 0.5em;\n",
        "        margin-top: 2em;\n",
        "        display: block;\n",
        "    }\n",
        "    h4 {\n",
        "        font-family: 'Open sans',verdana,arial,sans-serif;\n",
        "        margin-top:15px;\n",
        "        margin-bottom: 3px;\n",
        "    }\n",
        "    .text_cell_render h4 {\n",
        "        font-weight: 300;\n",
        "        font-size: 16pt;\n",
        "        /* color: #1d3b84; */\n",
        "        color:#447adb;\n",
        "        /* font-style: italic; */\n",
        "        margin-bottom: 0.5em;\n",
        "        margin-top: 0.5em;\n",
        "        display: block;\n",
        "    }\n",
        "    div.text_cell_render{\n",
        "        font-family: 'Open sans',verdana,arial,sans-serif;\n",
        "        line-height: 135%;\n",
        "        font-size: 120%;\n",
        "        width:750px;\n",
        "        margin-left:auto;\n",
        "        margin-right:auto;\n",
        "        text-align:justify;\n",
        "        text-justify:inter-word;\n",
        "    }\n",
        "    code{\n",
        "      /* font-family: \"Source Code Pro\"; */\n",
        "      font-size: 80%;\n",
        "    }\n",
        "    ul{\n",
        "        /* color:#447adb; */\n",
        "        margin: 2em;\n",
        "    }\n",
        "    ul li{\n",
        "        padding-left: 0.5em; \n",
        "        margin-bottom: 0.5em; \n",
        "        margin-top: 0.2em; \n",
        "    }\n",
        "    /*.prompt{\n",
        "        display: None;\n",
        "    } */\n",
        "    a:hover, a:visited {\n",
        "        text-decoration: none;\n",
        "        color: #1d3b84;\n",
        "        }\n",
        "    a:link, a:active {\n",
        "        text-decoration: none;\n",
        "        color:#447adb;\n",
        "        }\n",
        "    .warning{\n",
        "        color: rgb( 240, 20, 20 )\n",
        "        } \n",
        "    element.style {\n",
        "      display: -webkit-box;\n",
        "      -webkit-box-orient: vertical;\n",
        "      -webkit-box-align: stretch;\n",
        "      display: -moz-box;\n",
        "      -moz-box-orient: vertical;\n",
        "      -moz-box-align: stretch;\n",
        "      display: box;\n",
        "      box-orient: vertical;\n",
        "      box-align: stretch;\n",
        "      width: 100%;\n",
        "      -webkit-box-flex: 1;\n",
        "      -moz-box-flex: 1;\n",
        "      box-flex: 1;\n",
        "      overflow: auto;\n",
        "      overflow-x: auto;\n",
        "      overflow-y: auto;\n",
        "    }  \n",
        "</style>\n",
        "<script>\n",
        "    MathJax.Hub.Config({\n",
        "                        TeX: {\n",
        "                           extensions: [\"AMSmath.js\"]\n",
        "                           },\n",
        "                tex2jax: {\n",
        "                    inlineMath: [ ['$','$'], [\"\\\\(\",\"\\\\)\"] ],\n",
        "                    displayMath: [ ['$$','$$'], [\"\\\\[\",\"\\\\]\"] ]\n",
        "                },\n",
        "                displayAlign: 'center', // Change this to 'center' to center equations.\n",
        "                \"HTML-CSS\": {\n",
        "                    styles: {'.MathJax_Display': {\"margin\": 4}}\n",
        "                }\n",
        "        });\n",
        "</script>\n"
       ],
       "metadata": {},
       "output_type": "pyout",
       "prompt_number": 5,
       "text": [
        "<IPython.core.display.HTML at 0x37ad910>"
       ]
      }
     ],
     "prompt_number": 5
    },
    {
     "cell_type": "code",
     "collapsed": false,
     "input": [],
     "language": "python",
     "metadata": {},
     "outputs": [],
     "prompt_number": 5
    }
   ],
   "metadata": {}
  }
 ]
}