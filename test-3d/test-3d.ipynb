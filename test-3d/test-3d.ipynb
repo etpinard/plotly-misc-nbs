{
 "metadata": {
  "name": "",
  "signature": "sha256:cb3b160290d6031d01b756e61db26d4c562248f71425e4ce7f03ff538c11807a"
 },
 "nbformat": 3,
 "nbformat_minor": 0,
 "worksheets": [
  {
   "cells": [
    {
     "cell_type": "heading",
     "level": 1,
     "metadata": {},
     "source": [
      "3D plots"
     ]
    },
    {
     "cell_type": "heading",
     "level": 2,
     "metadata": {},
     "source": [
      "with Plotly"
     ]
    },
    {
     "cell_type": "markdown",
     "metadata": {},
     "source": [
      "First check which Plotly version is installed on your machine:"
     ]
    },
    {
     "cell_type": "code",
     "collapsed": false,
     "input": [
      "import plotly\n",
      "\n",
      "plotly.__version__"
     ],
     "language": "python",
     "metadata": {},
     "outputs": [
      {
       "metadata": {},
       "output_type": "pyout",
       "prompt_number": 1,
       "text": [
        "'1.0.17'"
       ]
      }
     ],
     "prompt_number": 1
    },
    {
     "cell_type": "markdown",
     "metadata": {},
     "source": [
      "If not version 1.0.17 or up, please upgrade using pip:\n",
      "\n",
      "    $ pip install plotly --upgrade\n",
      "    \n",
      "or\n",
      "\n",
      "    $ sudo pip install plotly --upgrade"
     ]
    },
    {
     "cell_type": "markdown",
     "metadata": {},
     "source": [
      "Now, import the `plotly` and `tools` module and sign in using your credentials file: "
     ]
    },
    {
     "cell_type": "code",
     "collapsed": false,
     "input": [
      "import plotly.plotly as py  # (New syntax!) tools to communicate with Plotly's server\n",
      "import plotly.tools as tls  # (NEW!) useful Python/Plotly tools \n",
      "\n",
      "my_creds = tls.get_credentials_file()                  # read credentials\n",
      "py.sign_in(my_creds['username'], my_creds['api_key'])  # (New syntax!) Plotly sign in"
     ],
     "language": "python",
     "metadata": {},
     "outputs": [],
     "prompt_number": 2
    },
    {
     "cell_type": "markdown",
     "metadata": {},
     "source": [
      "> Graph objects for 3d plots have yet to be inserted in the latest version of the Plotly package; hence, we will use standard Python dictionaries and list to create our figure in this notebook. \n",
      "\n",
      "The following example is just snippet of things to come."
     ]
    },
    {
     "cell_type": "heading",
     "level": 3,
     "metadata": {},
     "source": [
      "1. A 3D Gaussian surface"
     ]
    },
    {
     "cell_type": "markdown",
     "metadata": {},
     "source": [
      "Let's start by making a simple 3D Gaussian surface (the below function was inspired by this <a href=\"http://stackoverflow.com/questions/7687679/how-to-generate-2d-gaussian-with-python#answer-14525830\" target=\"_blank\">stackoverflow answer</a>, thanks)."
     ]
    },
    {
     "cell_type": "code",
     "collapsed": false,
     "input": [
      "import numpy as np\n",
      " \n",
      "def makeGaussian(A, L, fwhm = 3, center=None):\n",
      "    \"\"\" Make a square gaussian kernel.\n",
      " \n",
      "    A is the amplitude of the curve\n",
      "    L is the length of a side of the square\n",
      "    fwhm is full-width-half-maximum, which\n",
      "    can be thought of as an effective radius.\n",
      "    \"\"\"\n",
      " \n",
      "    x = np.arange(0, L, 0.1, float)\n",
      "    y = x[:,np.newaxis]\n",
      "    \n",
      "    if center is None:\n",
      "        x0 = y0 = L // 2\n",
      "    else:\n",
      "        x0 = center[0]\n",
      "        y0 = center[1]\n",
      "    \n",
      "    return A*np.exp(-4*np.log(2) * ((x-x0)**2 + (y-y0)**2) / fwhm**2)"
     ],
     "language": "python",
     "metadata": {},
     "outputs": [],
     "prompt_number": 3
    },
    {
     "cell_type": "code",
     "collapsed": false,
     "input": [
      "A = 10  # choose a maximum amplitude\n",
      "L = 8   # choose length of square domain\n",
      "\n",
      "# Get coordinate arrays\n",
      "z = makeGaussian(A,L)"
     ],
     "language": "python",
     "metadata": {},
     "outputs": [],
     "prompt_number": 4
    },
    {
     "cell_type": "code",
     "collapsed": false,
     "input": [
      "# Print shape of x,y and z\n",
      "x.shape, y.shape, z.shape "
     ],
     "language": "python",
     "metadata": {},
     "outputs": [
      {
       "metadata": {},
       "output_type": "pyout",
       "prompt_number": 5,
       "text": [
        "((80,), (80, 1), (80, 80))"
       ]
      }
     ],
     "prompt_number": 5
    },
    {
     "cell_type": "markdown",
     "metadata": {},
     "source": [
      "Then, build a trace dictionary containing the surface plot type:"
     ]
    },
    {
     "cell_type": "code",
     "collapsed": false,
     "input": [
      "my_surface = dict(z=z,            # z coords, a 2D array\n",
      "                  type='surface', # N.B. 'surface' plot type\n",
      "                  )"
     ],
     "language": "python",
     "metadata": {},
     "outputs": [],
     "prompt_number": 24
    },
    {
     "cell_type": "markdown",
     "metadata": {},
     "source": [
      "Make a correponding figure dictionary:"
     ]
    },
    {
     "cell_type": "code",
     "collapsed": false,
     "input": [
      "my_fig = dict(data=[my_surface])  # N.B. value link to 'data' must be a list\n",
      "\n",
      "my_fig  # print figure dictionary below"
     ],
     "language": "python",
     "metadata": {},
     "outputs": [
      {
       "metadata": {},
       "output_type": "pyout",
       "prompt_number": 26,
       "text": [
        "{'data': [{'type': 'surface',\n",
        "   'z': array([[ 0.00052322,  0.00066739,  0.00084606, ...,  0.00106596,\n",
        "            0.00084606,  0.00066739],\n",
        "          [ 0.00066739,  0.00085128,  0.00107918, ...,  0.00135968,\n",
        "            0.00107918,  0.00085128],\n",
        "          [ 0.00084606,  0.00107918,  0.00136808, ...,  0.00172368,\n",
        "            0.00136808,  0.00107918],\n",
        "          ..., \n",
        "          [ 0.00106596,  0.00135968,  0.00172368, ...,  0.0021717 ,\n",
        "            0.00172368,  0.00135968],\n",
        "          [ 0.00084606,  0.00107918,  0.00136808, ...,  0.00172368,\n",
        "            0.00136808,  0.00107918],\n",
        "          [ 0.00066739,  0.00085128,  0.00107918, ...,  0.00135968,\n",
        "            0.00107918,  0.00085128]])}]}"
       ]
      }
     ],
     "prompt_number": 26
    },
    {
     "cell_type": "markdown",
     "metadata": {},
     "source": [
      "We are now ready to send the figure dictionary (or figure object) to Plotly. As graph objects for 3D plots are missing for the current release of the Plotly package, we must turn off the automatic key-value validation by adding the `validate=False` keyword argument in the `py.plot()` call. Otherwise, we would get an error and no plot.\n",
      "\n",
      "So,"
     ]
    },
    {
     "cell_type": "code",
     "collapsed": false,
     "input": [
      "py.plot(my_fig, validate=False, filename='test-3d')"
     ],
     "language": "python",
     "metadata": {},
     "outputs": [
      {
       "metadata": {},
       "output_type": "pyout",
       "prompt_number": 27,
       "text": [
        "u'https://plot.ly/~etpinard/234'"
       ]
      }
     ],
     "prompt_number": 27
    },
    {
     "cell_type": "markdown",
     "metadata": {},
     "source": [
      "Where the above is the unique URL corresponding to our Plotly plot.\n",
      "\n",
      "Or, inside an IPython notebook, use:"
     ]
    },
    {
     "cell_type": "code",
     "collapsed": false,
     "input": [
      "py.iplot(my_fig, validate=False, filename='test-3d')"
     ],
     "language": "python",
     "metadata": {},
     "outputs": [
      {
       "html": [
        "<iframe id=\"igraph\" scrolling=\"no\" style=\"border:none;\"seamless=\"seamless\" src=\"https://plot.ly/~etpinard/234\" height=\"525\" width=\"100%\"></iframe>"
       ],
       "metadata": {},
       "output_type": "display_data",
       "text": [
        "<IPython.core.display.HTML at 0x7f7a48a4af50>"
       ]
      }
     ],
     "prompt_number": 9
    },
    {
     "cell_type": "markdown",
     "metadata": {},
     "source": [
      "*And there you go.* An interactive 3D plot from Plotly."
     ]
    },
    {
     "cell_type": "heading",
     "level": 3,
     "metadata": {},
     "source": [
      "2. 3D random scatter"
     ]
    },
    {
     "cell_type": "markdown",
     "metadata": {},
     "source": [
      "Next, let's make a 3D scatter plot of random numbers"
     ]
    },
    {
     "cell_type": "code",
     "collapsed": false,
     "input": [
      "my_scatter3d = dict(x=np.random.rand(50),  # x coords \n",
      "                    y=np.random.rand(50),  # y coords \n",
      "                    z=np.random.rand(50),  # z coords \n",
      "                    type='scatter3d',      # N.B. 'scatter3d' plot type\n",
      "                    )"
     ],
     "language": "python",
     "metadata": {},
     "outputs": [],
     "prompt_number": 20
    },
    {
     "cell_type": "code",
     "collapsed": false,
     "input": [
      "my_fig = dict(data=[my_scatter3d])  # N.B. value link to 'data' must be a list\n",
      "\n",
      "my_fig"
     ],
     "language": "python",
     "metadata": {},
     "outputs": [
      {
       "metadata": {},
       "output_type": "pyout",
       "prompt_number": 22,
       "text": [
        "{'data': [{'type': 'scatter3d',\n",
        "   'x': array([ 0.09742073,  0.12250178,  0.36726671,  0.75634342,  0.24023573,\n",
        "           0.38994926,  0.37123778,  0.98793424,  0.39119597,  0.91721845,\n",
        "           0.72220012,  0.98997361,  0.89810297,  0.44232979,  0.17340305,\n",
        "           0.69517464,  0.05889271,  0.06325442,  0.46043143,  0.03775094,\n",
        "           0.49388299,  0.71637938,  0.09275642,  0.32221656,  0.48959937,\n",
        "           0.00203972,  0.50095219,  0.01136562,  0.32649339,  0.21569812,\n",
        "           0.34783356,  0.68078553,  0.69791958,  0.20493518,  0.11728379,\n",
        "           0.63732908,  0.39198442,  0.27791158,  0.08199367,  0.19084269,\n",
        "           0.73619368,  0.96059417,  0.22229357,  0.92920813,  0.15269247,\n",
        "           0.15595285,  0.56430211,  0.25309848,  0.20529208,  0.45585123]),\n",
        "   'y': array([ 0.69554482,  0.88246323,  0.02901954,  0.40780822,  0.43710274,\n",
        "           0.8294493 ,  0.20482341,  0.21841489,  0.88014768,  0.48569875,\n",
        "           0.91989608,  0.96149611,  0.46797542,  0.53088412,  0.7164586 ,\n",
        "           0.81288983,  0.69240128,  0.59246245,  0.54606999,  0.81909108,\n",
        "           0.93088899,  0.87754044,  0.53215566,  0.35686721,  0.71132997,\n",
        "           0.69684347,  0.25110726,  0.1184376 ,  0.00681816,  0.45534956,\n",
        "           0.998584  ,  0.59468039,  0.81118587,  0.91833526,  0.67031692,\n",
        "           0.28411012,  0.58548937,  0.0728992 ,  0.48403863,  0.50794934,\n",
        "           0.74008359,  0.62678646,  0.36673116,  0.27035151,  0.5150138 ,\n",
        "           0.30998338,  0.53661352,  0.29374659,  0.43456759,  0.36246073]),\n",
        "   'z': array([ 0.71756224,  0.46241136,  0.57560165,  0.09572018,  0.88022457,\n",
        "           0.04869763,  0.20100608,  0.22076569,  0.0645985 ,  0.30037338,\n",
        "           0.0196388 ,  0.12905148,  0.73093142,  0.59570962,  0.09932251,\n",
        "           0.35203143,  0.40885263,  0.22303796,  0.24774194,  0.89528721,\n",
        "           0.95820366,  0.05293248,  0.9609043 ,  0.80302231,  0.09340491,\n",
        "           0.84752929,  0.83077286,  0.35332945,  0.79844898,  0.61471713,\n",
        "           0.58419175,  0.88973883,  0.71882182,  0.06404185,  0.52796868,\n",
        "           0.60130919,  0.78542686,  0.47476414,  0.2234271 ,  0.58164929,\n",
        "           0.71397902,  0.94875175,  0.17254788,  0.34084737,  0.21164574,\n",
        "           0.27128741,  0.36611201,  0.83755474,  0.69263854,  0.53645061])}]}"
       ]
      }
     ],
     "prompt_number": 22
    },
    {
     "cell_type": "code",
     "collapsed": false,
     "input": [
      "py.plot(my_fig, validate=False, filename='test-3d-scatter')"
     ],
     "language": "python",
     "metadata": {},
     "outputs": [
      {
       "metadata": {},
       "output_type": "pyout",
       "prompt_number": 23,
       "text": [
        "u'https://plot.ly/~etpinard/263'"
       ]
      }
     ],
     "prompt_number": 23
    },
    {
     "cell_type": "code",
     "collapsed": false,
     "input": [
      "py.iplot(my_fig, validate=False, filename='test-3d-scatter')"
     ],
     "language": "python",
     "metadata": {},
     "outputs": [
      {
       "html": [
        "<iframe id=\"igraph\" scrolling=\"no\" style=\"border:none;\"seamless=\"seamless\" src=\"https://plot.ly/~etpinard/263\" height=\"525\" width=\"100%\"></iframe>"
       ],
       "metadata": {},
       "output_type": "display_data",
       "text": [
        "<IPython.core.display.HTML at 0x7f7a477f5650>"
       ]
      }
     ],
     "prompt_number": 21
    },
    {
     "cell_type": "markdown",
     "metadata": {},
     "source": [
      "<div style=\"float:right; \\\">\n",
      "    <img src=\"http://i.imgur.com/4vwuxdJ.png\" \n",
      " align=right style=\"float:right; margin-left: 5px; margin-top: -10px\" />\n",
      "</div>\n",
      "\n",
      "<h4 style=\"padding-top:60px;\">Got Questions or Feedback? </h4>\n",
      "\n",
      "About <a href=\"https://plot.ly\" target=\"_blank\">Plotly</a>\n",
      "\n",
      "* email: feedback@plot.ly \n",
      "* tweet: \n",
      "<a href=\"https://twitter.com/plotlygraphs\" target=\"_blank\">@plotlygraphs</a>\n",
      "\n",
      "<h4 style=\"margin-top:50px;\">Notebook styling ideas</h4>\n",
      "\n",
      "Big thanks to\n",
      "\n",
      "* <a href=\"http://nbviewer.ipython.org/github/CamDavidsonPilon/Probabilistic-Programming-and-Bayesian-Methods-for-Hackers/blob/master/Prologue/Prologue.ipynb\" target=\"_blank\">Cam Davidson-Pilon</a>\n",
      "* <a href=\"http://lorenabarba.com/blog/announcing-aeropython/#.U1ULXdX1LJ4.google_plusone_share\" target=\"_blank\">Lorena A. Barba</a>\n",
      "\n",
      "<br>"
     ]
    },
    {
     "cell_type": "code",
     "collapsed": false,
     "input": [
      "# CSS styling within IPython notebook\n",
      "from IPython.core.display import HTML\n",
      "def css_styling():\n",
      "    styles = open(\"../../python-user-guide/custom.css\", \"r\").read()\n",
      "    return HTML(styles)\n",
      "css_styling()"
     ],
     "language": "python",
     "metadata": {},
     "outputs": [
      {
       "html": [
        "<style>\n",
        "    /*body {\n",
        "        background-color: #F5F5F5;\n",
        "    }*/\n",
        "    div.cell{\n",
        "        width: 850px;\n",
        "        margin-left: 10% !important;\n",
        "        margin-right: auto;\n",
        "    }\n",
        "    h1 {\n",
        "        font-family: \"Open sans\",verdana,arial,sans-serif;\n",
        "    }\n",
        "    .text_cell_render h1 {\n",
        "        font-weight: 200;\n",
        "        font-size: 40pt;\n",
        "        line-height: 100%;\n",
        "        color:#447adb;\n",
        "        margin-bottom: 0em;\n",
        "        margin-top: 0em;\n",
        "        display: block;\n",
        "        white-space: nowrap;\n",
        "    } \n",
        "    h2 {\n",
        "        font-family: \"Open sans\",verdana,arial,sans-serif;\n",
        "        text-indent:1em;\n",
        "    }\n",
        "    .text_cell_render h2 {\n",
        "        font-weight: 200;\n",
        "        font-size: 20pt;\n",
        "        font-style: italic;\n",
        "        line-height: 100%;\n",
        "        color:#447adb;\n",
        "        margin-bottom: 1.5em;\n",
        "        margin-top: 0.5em;\n",
        "        display: block;\n",
        "        white-space: nowrap;\n",
        "    } \n",
        "    h3 {\n",
        "        font-family: \"Open sans\",verdana,arial,sans-serif;\n",
        "    }\n",
        "    .text_cell_render h3 {\n",
        "        font-weight: 300;\n",
        "        font-size: 18pt;\n",
        "        line-height: 100%;\n",
        "        color:#447adb;\n",
        "        margin-bottom: 0.5em;\n",
        "        margin-top: 2em;\n",
        "        display: block;\n",
        "        white-space: nowrap;\n",
        "    }\n",
        "    h4 {\n",
        "        font-family: \"Open sans\",verdana,arial,sans-serif;\n",
        "    }\n",
        "    .text_cell_render h4 {\n",
        "        font-weight: 300;\n",
        "        font-size: 16pt;\n",
        "        color:#447adb;\n",
        "        margin-bottom: 0.5em;\n",
        "        margin-top: 0.5em;\n",
        "        display: block;\n",
        "        white-space: nowrap;\n",
        "    }\n",
        "    h5 {\n",
        "        font-family: \"Open sans\",verdana,arial,sans-serif;\n",
        "    }\n",
        "    .text_cell_render h5 {\n",
        "        font-weight: 300;\n",
        "        font-style: normal;\n",
        "        color: #1d3b84;\n",
        "        font-size: 16pt;\n",
        "        margin-bottom: 0em;\n",
        "        margin-top: 1.5em;\n",
        "        display: block;\n",
        "        white-space: nowrap;\n",
        "    }\n",
        "    div.text_cell_render{\n",
        "        font-family: \"Open sans\",verdana,arial,sans-serif;\n",
        "        line-height: 135%;\n",
        "        font-size: 125%;\n",
        "        width:750px;\n",
        "        margin-left:auto;\n",
        "        margin-right:auto;\n",
        "        text-align:justify;\n",
        "        text-justify:inter-word;\n",
        "    }\n",
        "    div.output_subarea.output_text.output_pyout {\n",
        "        overflow-x: auto;\n",
        "        overflow-y: scroll;\n",
        "        max-height: 300px;\n",
        "    }\n",
        "    div.output_subarea.output_stream.output_stdout.output_text {\n",
        "        overflow-x: auto;\n",
        "        overflow-y: scroll;\n",
        "        max-height: 300px;\n",
        "    }\n",
        "    code{\n",
        "      font-size: 78%;\n",
        "    }\n",
        "    .rendered_html code{\n",
        "    background-color: transparent;\n",
        "    }\n",
        "    ul{\n",
        "        /* color:#447adb; */  // colors text too\n",
        "        margin: 2em;\n",
        "    }\n",
        "    ul li{\n",
        "        padding-left: 0.5em; \n",
        "        margin-bottom: 0.5em; \n",
        "        margin-top: 0.5em; \n",
        "    }\n",
        "    ul li li{\n",
        "        padding-left: 0.2em; \n",
        "        margin-bottom: 0.2em; \n",
        "        margin-top: 0.2em; \n",
        "    }\n",
        "    ol{\n",
        "        /* color:#447adb; */  // colors text too\n",
        "        margin: 2em;\n",
        "    }\n",
        "    ol li{\n",
        "        padding-left: 0.5em; \n",
        "        margin-bottom: 0.5em; \n",
        "        margin-top: 0.5em; \n",
        "    }\n",
        "    /*.prompt{\n",
        "        display: None;\n",
        "    } */\n",
        "    ul li{\n",
        "        padding-left: 0.5em; \n",
        "        margin-bottom: 0.5em; \n",
        "        margin-top: 0.2em; \n",
        "    }\n",
        "    a:link{\n",
        "       font-weight: bold;\n",
        "       color:#447adb;\n",
        "    }\n",
        "    a:visited{\n",
        "       font-weight: bold;\n",
        "       color: #1d3b84;\n",
        "    }\n",
        "    a:hover{\n",
        "       font-weight: bold;\n",
        "       color: #1d3b84;\n",
        "    }\n",
        "    a:focus{\n",
        "       font-weight: bold;\n",
        "       color:#447adb;\n",
        "    }\n",
        "    a:active{\n",
        "       font-weight: bold;\n",
        "       color:#447adb;\n",
        "    }\n",
        "    .rendered_html :link {\n",
        "       text-decoration: none; \n",
        "    }\n",
        "    .rendered_html :hover {\n",
        "       text-decoration: none; \n",
        "    }\n",
        "    .rendered_html :visited {\n",
        "      text-decoration: none;\n",
        "    }\n",
        "    .rendered_html :focus {\n",
        "      text-decoration: none;\n",
        "    }\n",
        "    .rendered_html :active {\n",
        "      text-decoration: none;\n",
        "    }\n",
        "    .warning{\n",
        "        color: rgb( 240, 20, 20 )\n",
        "    } \n",
        "    hr {\n",
        "      color: #f3f3f3;\n",
        "      background-color: #f3f3f3;\n",
        "      height: 1px;\n",
        "    }\n",
        "    blockquote{\n",
        "      display:block;\n",
        "      background: #f3f3f3;\n",
        "      font-family: \"Open sans\",verdana,arial,sans-serif;\n",
        "      width:610px;\n",
        "      padding: 15px 15px 15px 15px;\n",
        "      text-align:justify;\n",
        "      text-justify:inter-word;\n",
        "      }\n",
        "      blockquote p {\n",
        "        margin-bottom: 0;\n",
        "        line-height: 125%;\n",
        "        font-size: 100%;\n",
        "      }\n",
        "   /* element.style {\n",
        "    } */  \n",
        "</style>\n",
        "<script>\n",
        "    MathJax.Hub.Config({\n",
        "                        TeX: {\n",
        "                           extensions: [\"AMSmath.js\"]\n",
        "                           },\n",
        "                tex2jax: {\n",
        "                    inlineMath: [ [\"$\",\"$\"], [\"\\\\(\",\"\\\\)\"] ],\n",
        "                    displayMath: [ [\"$$\",\"$$\"], [\"\\\\[\",\"\\\\]\"] ]\n",
        "                },\n",
        "                displayAlign: \"center\", // Change this to \"center\" to center equations.\n",
        "                \"HTML-CSS\": {\n",
        "                    styles: {\".MathJax_Display\": {\"margin\": 4}}\n",
        "                }\n",
        "        });\n",
        "</script>\n"
       ],
       "metadata": {},
       "output_type": "pyout",
       "prompt_number": 10,
       "text": [
        "<IPython.core.display.HTML at 0x7f79e81b45d0>"
       ]
      }
     ],
     "prompt_number": 10
    },
    {
     "cell_type": "code",
     "collapsed": false,
     "input": [],
     "language": "python",
     "metadata": {},
     "outputs": [],
     "prompt_number": 10
    }
   ],
   "metadata": {}
  }
 ]
}