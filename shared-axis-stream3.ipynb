{
 "metadata": {
  "name": "",
  "signature": "sha256:0a87bc4b82bb477d2cf5e0f6a94f903373e0b7091fd56a6cae3383883a8d3ca0"
 },
 "nbformat": 3,
 "nbformat_minor": 0,
 "worksheets": [
  {
   "cells": [
    {
     "cell_type": "heading",
     "level": 1,
     "metadata": {},
     "source": [
      "Plotting curves in succession "
     ]
    },
    {
     "cell_type": "heading",
     "level": 2,
     "metadata": {},
     "source": [
      "with Plotly's Streaming API"
     ]
    },
    {
     "cell_type": "markdown",
     "metadata": {},
     "source": [
      "From your last email:\n",
      "\n",
      "*I guess for now, we will hold off on streaming our curves, since there are something like 1000-5000 curves per data set, and we'd need to generate that many stream ID's.*"
     ]
    },
    {
     "cell_type": "markdown",
     "metadata": {},
     "source": [
      "Hmmm.\n",
      "\n",
      "Are you thinking about plotting those 1000-5000 curves in succession on top of one another?\n",
      "\n",
      "Or, are you thinking about plotting 1000-5000 curves in succession but only showing one curve at a time on the plot?\n",
      "\n",
      "Because if your situation is like the latter, you only really need 1 stream token (or 2 two if you still want to plot data on two y axes) to do so.\n",
      "\n",
      "The former (which I am having a hard time imagining its context) would require as many stream tokens are curves to be plotted, in order to keep the information of each curve throughout the exercise.\n",
      "\n",
      "> Stream tokens are really stream ids serving to locate the destination of the data to be streamed with Plotly's streaming API. If you have a set of curves meant to be plotted at the same destination (i.e. the same set of axes) and that those curves are **not to be shown at the same time**, then **you can use the same stream token to plot all those curves**. This is done by overwritting the data on the plot at each stream write (i.e. `py.Stream.write()`) call.\n",
      "\n",
      "This notebook will show you an example."
     ]
    },
    {
     "cell_type": "markdown",
     "metadata": {},
     "source": [
      "<hr>\n",
      "<br>\n",
      "\n",
      "First import a few modules:"
     ]
    },
    {
     "cell_type": "code",
     "collapsed": false,
     "input": [
      "import plotly.plotly as py\n",
      "import plotly.tools as tls"
     ],
     "language": "python",
     "metadata": {},
     "outputs": [],
     "prompt_number": 1
    },
    {
     "cell_type": "code",
     "collapsed": false,
     "input": [
      "from plotly.graph_objs import Figure, Data, Layout\n",
      "from plotly.graph_objs import Scatter\n",
      "from plotly.graph_objs import XAxis, YAxis, Annotation\n",
      "from plotly.graph_objs import Stream  # aka Stream id object"
     ],
     "language": "python",
     "metadata": {},
     "outputs": [],
     "prompt_number": 2
    },
    {
     "cell_type": "code",
     "collapsed": false,
     "input": [
      "import numpy as np\n",
      "import time"
     ],
     "language": "python",
     "metadata": {},
     "outputs": [],
     "prompt_number": 3
    },
    {
     "cell_type": "markdown",
     "metadata": {},
     "source": [
      "Next, retrieve the stream ids in your credentials file as a list:"
     ]
    },
    {
     "cell_type": "code",
     "collapsed": false,
     "input": [
      "# Get stream ids in credentials file\n",
      "my_stream_ids = tls.get_credentials_file()['stream_ids']"
     ],
     "language": "python",
     "metadata": {},
     "outputs": [],
     "prompt_number": 4
    },
    {
     "cell_type": "markdown",
     "metadata": {},
     "source": [
      "You can check to content of your credentials file inside IPython/Python with:\n",
      "\n",
      "    >>> tls.show_credentials_file()\n",
      "    \n",
      "Instructions on how to get your stream tokens from <a href=\"https://plot.ly\" target=\"_blank\">plot.ly</a> and write them into your credentials file can be found <a href=\"http://nbviewer.ipython.org/github/plotly/python-user-guide/blob/master/s7_streaming/s7_streaming.ipynb#Get-your-stream-tokens\" target=\"_blank\">here</a>."
     ]
    },
    {
     "cell_type": "markdown",
     "metadata": {},
     "source": [
      "Make two instances of the stream id object, each with a unique stream token:"
     ]
    },
    {
     "cell_type": "code",
     "collapsed": false,
     "input": [
      "# Make a first stream id object \n",
      "my_stream_id1 = my_stream_ids[0]         # get a stream token from list\n",
      "my_stream1 = Stream(token=my_stream_id1) # N.B. link stream id to 'token' key\n",
      "\n",
      "# Make a second stream id object\n",
      "my_stream_id2 = my_stream_ids[1]         # get different stream token from list\n",
      "my_stream2 = Stream(token=my_stream_id2)"
     ],
     "language": "python",
     "metadata": {},
     "outputs": [],
     "prompt_number": 5
    },
    {
     "cell_type": "markdown",
     "metadata": {},
     "source": [
      "Before starting to stream data, we must first initialize the figure object:"
     ]
    },
    {
     "cell_type": "code",
     "collapsed": false,
     "input": [
      "# Scatter object for sin(x) line\n",
      "my_scatter1 = Scatter(x=[],\n",
      "                      y=[],\n",
      "                      mode='lines+markers',\n",
      "                      name='$y_1 = \\sin(x)$',  # label for legend\n",
      "                      yaxis='y1',         # N.B. link data to y-axis 1\n",
      "                      stream=my_stream1)  # N.B. embed stream id\n",
      "\n",
      "# Scatter object for sin(2x) line\n",
      "my_scatter2 = Scatter(x=[],\n",
      "                      y=[],\n",
      "                      mode='lines+markers',\n",
      "                      name='$y_2 = \\sin(2x)$',  \n",
      "                      yaxis='y2',         # N.B. link data to y-axis 2\n",
      "                      stream=my_stream2)  # N.B. embed stream id\n",
      "\n",
      "# Package them into data object\n",
      "my_data = Data([my_scatter1, my_scatter2])"
     ],
     "language": "python",
     "metadata": {},
     "outputs": [],
     "prompt_number": 6
    },
    {
     "cell_type": "code",
     "collapsed": false,
     "input": [
      "# Layout object\n",
      "my_layout = Layout(title='Plotting curves in succession', # plot's title\n",
      "                   xaxis1= XAxis(range=[-0.1,6.5]),   # xaxis (shared) range\n",
      "                   yaxis1= YAxis(domain=[0.0, 0.475], # bottom yaxis domain\n",
      "                                 range=[-2.1,2.1]),       #  and range\n",
      "                   yaxis2= YAxis(domain=[0.525, 1.0], # top yaxis domain\n",
      "                                 range=[-2.1,2.1])        #   and range\n",
      "                  )"
     ],
     "language": "python",
     "metadata": {},
     "outputs": [],
     "prompt_number": 7
    },
    {
     "cell_type": "code",
     "collapsed": false,
     "input": [
      "# Make instance of figure object\n",
      "my_fig = Figure(data=my_data, layout=my_layout)\n",
      "\n",
      "# Initialize streaming plot, show result in notebook\n",
      "py.iplot(my_fig, filename='stream-shared-axis3')"
     ],
     "language": "python",
     "metadata": {},
     "outputs": [
      {
       "html": [
        "<iframe id=\"igraph\" scrolling=\"no\" style=\"border:none;\"seamless=\"seamless\" src=\"https://plot.ly/~etpinard/282\" height=\"525\" width=\"100%\"></iframe>"
       ],
       "metadata": {},
       "output_type": "display_data",
       "text": [
        "<IPython.core.display.HTML at 0x7fe34f672710>"
       ]
      }
     ],
     "prompt_number": 12
    },
    {
     "cell_type": "markdown",
     "metadata": {},
     "source": [
      "Next, open both streams via the stream link object:"
     ]
    },
    {
     "cell_type": "code",
     "collapsed": false,
     "input": [
      "# Make a first instance of the Stream link object, \n",
      "#  with same stream id as the first Stream id object and open the stream\n",
      "s1 = py.Stream(my_stream_id1)\n",
      "s1.open()\n",
      "\n",
      "# Make a second instance of the Stream link object, \n",
      "#  with same stream id as the second Stream id object and open the stream\n",
      "s2 = py.Stream(my_stream_id2)\n",
      "s2.open()"
     ],
     "language": "python",
     "metadata": {},
     "outputs": [],
     "prompt_number": 13
    },
    {
     "cell_type": "markdown",
     "metadata": {},
     "source": [
      "And now stream some data:"
     ]
    },
    {
     "cell_type": "code",
     "collapsed": false,
     "input": [
      "N = 30  # number of curved to be plotted\n",
      "i = 0   # init. counter\n",
      "\n",
      "dx = 0.1  # spacing between data points\n",
      "xx = np.arange(0,2*np.pi,dx)\n",
      "\n",
      "# Make list of curves to be plotted\n",
      "curves1 = [np.sin(xx)+np.random.rand(len(xx))-0.5 for i in range(N)]\n",
      "curves2 = [np.sin(2*xx)+np.random.rand(len(xx))-0.5 for i in range(N)]\n",
      "\n",
      "# Make list of annotations\n",
      "def make_anno(yref_in,text_in):\n",
      "    return Annotation(x=0.1,yref=yref_in,y=1.6,\n",
      "                      text='<b>Curve '+str(text_in)+'</b>',showarrow=False)\n",
      "anno1 = [make_anno('y1',i) for i in range(1,2*(N+1),2)]\n",
      "anno2 = [make_anno('y2',i) for i in range(2,2*(N+1),2)]\n",
      "\n",
      "\n",
      "for i in range(N):  # loop through the curves' indices\n",
      "    \n",
      "    s1_data = dict(x=xx, y=curves1[i])       # N.B. data for stream 1 \n",
      "                                             #   overwrite current data on plot\n",
      "                                             #   as we are sending lists of numbers\n",
      "    s1_layout = dict(annotations=[anno1[i]]) # annotation for stream 1\n",
      "    s1.write(s1_data, layout=s1_layout)      # send data to stream 1\n",
      "    \n",
      "    time.sleep(1)  # wait 1 second\n",
      "    \n",
      "    s2_data = dict(x=xx, y=curves2[i])       # N.B. data for stream 2\n",
      "                                             #   overwrite current data on plot\n",
      "                                             #   as we are sending lists of numbers\n",
      "    s2_layout = dict(annotations=[anno2[i]]) # annotation for stream 2\n",
      "    s2.write(s2_data, layout=s2_layout)      # send data to stream 2\n",
      "    \n",
      "    time.sleep(1)  # wait 1 second\n",
      "    \n",
      "# Close both streams when done\n",
      "s1.close()\n",
      "s2.close()"
     ],
     "language": "python",
     "metadata": {},
     "outputs": [],
     "prompt_number": 14
    },
    {
     "cell_type": "markdown",
     "metadata": {},
     "source": [
      "<br>\n",
      "<hr>"
     ]
    },
    {
     "cell_type": "markdown",
     "metadata": {},
     "source": [
      "<div style=\"float:right; \\\">\n",
      "    <img src=\"http://i.imgur.com/4vwuxdJ.png\" \n",
      " align=right style=\"float:right; margin-left: 5px; margin-top: -10px\" />\n",
      "</div>\n",
      "\n",
      "<h4 style=\"margin-top:80px;\">Got Questions or Feedback? </h4>\n",
      "\n",
      "About <a href=\"https://plot.ly\" target=\"_blank\">Plotly</a>\n",
      "\n",
      "* email: feedback@plot.ly \n",
      "* tweet: \n",
      "<a href=\"https://twitter.com/plotlygraphs\" target=\"_blank\">@plotlygraphs</a>\n",
      "\n",
      "<h4 style=\"margin-top:30px;\">Notebook styling ideas</h4>\n",
      "\n",
      "Big thanks to\n",
      "\n",
      "* <a href=\"http://nbviewer.ipython.org/github/CamDavidsonPilon/Probabilistic-Programming-and-Bayesian-Methods-for-Hackers/blob/master/Prologue/Prologue.ipynb\" target=\"_blank\">Cam Davidson-Pilon</a>\n",
      "* <a href=\"http://lorenabarba.com/blog/announcing-aeropython/#.U1ULXdX1LJ4.google_plusone_share\" target=\"_blank\">Lorena A. Barba</a>\n",
      "\n",
      "<br>"
     ]
    },
    {
     "cell_type": "code",
     "collapsed": false,
     "input": [
      "# CSS styling within IPython notebook\n",
      "from IPython.core.display import HTML\n",
      "import urllib2\n",
      "def css_styling():\n",
      "    url = 'https://raw.githubusercontent.com/plotly/python-user-guide/master/custom.css'\n",
      "    styles = urllib2.urlopen(url).read()\n",
      "    return HTML(styles)\n",
      "\n",
      "css_styling()"
     ],
     "language": "python",
     "metadata": {},
     "outputs": [
      {
       "html": [
        "<style>\n",
        "    /*body {\n",
        "        background-color: #F5F5F5;\n",
        "    }*/\n",
        "    div.cell{\n",
        "        width: 850px;\n",
        "        margin-left: 10% !important;\n",
        "        margin-right: auto;\n",
        "    }\n",
        "    h1 {\n",
        "        font-family: \"Open sans\",verdana,arial,sans-serif;\n",
        "    }\n",
        "    .text_cell_render h1 {\n",
        "        font-weight: 200;\n",
        "        font-size: 40pt;\n",
        "        line-height: 100%;\n",
        "        color:#447adb;\n",
        "        margin-bottom: 0em;\n",
        "        margin-top: 0em;\n",
        "        display: block;\n",
        "        white-space: nowrap;\n",
        "    } \n",
        "    h2 {\n",
        "        font-family: \"Open sans\",verdana,arial,sans-serif;\n",
        "        text-indent:1em;\n",
        "    }\n",
        "    .text_cell_render h2 {\n",
        "        font-weight: 200;\n",
        "        font-size: 20pt;\n",
        "        font-style: italic;\n",
        "        line-height: 100%;\n",
        "        color:#447adb;\n",
        "        margin-bottom: 1.5em;\n",
        "        margin-top: 0.5em;\n",
        "        display: block;\n",
        "        white-space: nowrap;\n",
        "    } \n",
        "    h3 {\n",
        "        font-family: \"Open sans\",verdana,arial,sans-serif;\n",
        "    }\n",
        "    .text_cell_render h3 {\n",
        "        font-weight: 300;\n",
        "        font-size: 18pt;\n",
        "        line-height: 100%;\n",
        "        color:#447adb;\n",
        "        margin-bottom: 0.5em;\n",
        "        margin-top: 2em;\n",
        "        display: block;\n",
        "        white-space: nowrap;\n",
        "    }\n",
        "    h4 {\n",
        "        font-family: \"Open sans\",verdana,arial,sans-serif;\n",
        "    }\n",
        "    .text_cell_render h4 {\n",
        "        font-weight: 300;\n",
        "        font-size: 16pt;\n",
        "        color:#447adb;\n",
        "        margin-bottom: 0.5em;\n",
        "        margin-top: 0.5em;\n",
        "        display: block;\n",
        "        white-space: nowrap;\n",
        "    }\n",
        "    h5 {\n",
        "        font-family: \"Open sans\",verdana,arial,sans-serif;\n",
        "    }\n",
        "    .text_cell_render h5 {\n",
        "        font-weight: 300;\n",
        "        font-style: normal;\n",
        "        color: #1d3b84;\n",
        "        font-size: 16pt;\n",
        "        margin-bottom: 0em;\n",
        "        margin-top: 1.5em;\n",
        "        display: block;\n",
        "        white-space: nowrap;\n",
        "    }\n",
        "    div.text_cell_render{\n",
        "        font-family: \"Open sans\",verdana,arial,sans-serif;\n",
        "        line-height: 135%;\n",
        "        font-size: 125%;\n",
        "        width:750px;\n",
        "        margin-left:auto;\n",
        "        margin-right:auto;\n",
        "        text-align:justify;\n",
        "        text-justify:inter-word;\n",
        "    }\n",
        "    div.output_subarea.output_text.output_pyout {\n",
        "        overflow-x: auto;\n",
        "        overflow-y: scroll;\n",
        "        max-height: 300px;\n",
        "    }\n",
        "    div.output_subarea.output_stream.output_stdout.output_text {\n",
        "        overflow-x: auto;\n",
        "        overflow-y: scroll;\n",
        "        max-height: 300px;\n",
        "    }\n",
        "    code{\n",
        "      font-size: 78%;\n",
        "    }\n",
        "    .rendered_html code{\n",
        "    background-color: transparent;\n",
        "    }\n",
        "    ul{\n",
        "        /* color:#447adb; */  // colors text too\n",
        "        margin: 2em;\n",
        "    }\n",
        "    ul li{\n",
        "        padding-left: 0.5em; \n",
        "        margin-bottom: 0.5em; \n",
        "        margin-top: 0.5em; \n",
        "    }\n",
        "    ul li li{\n",
        "        padding-left: 0.2em; \n",
        "        margin-bottom: 0.2em; \n",
        "        margin-top: 0.2em; \n",
        "    }\n",
        "    ol{\n",
        "        /* color:#447adb; */  // colors text too\n",
        "        margin: 2em;\n",
        "    }\n",
        "    ol li{\n",
        "        padding-left: 0.5em; \n",
        "        margin-bottom: 0.5em; \n",
        "        margin-top: 0.5em; \n",
        "    }\n",
        "    /*.prompt{\n",
        "        display: None;\n",
        "    } */\n",
        "    ul li{\n",
        "        padding-left: 0.5em; \n",
        "        margin-bottom: 0.5em; \n",
        "        margin-top: 0.2em; \n",
        "    }\n",
        "    a:link{\n",
        "       font-weight: bold;\n",
        "       color:#447adb;\n",
        "    }\n",
        "    a:visited{\n",
        "       font-weight: bold;\n",
        "       color: #1d3b84;\n",
        "    }\n",
        "    a:hover{\n",
        "       font-weight: bold;\n",
        "       color: #1d3b84;\n",
        "    }\n",
        "    a:focus{\n",
        "       font-weight: bold;\n",
        "       color:#447adb;\n",
        "    }\n",
        "    a:active{\n",
        "       font-weight: bold;\n",
        "       color:#447adb;\n",
        "    }\n",
        "    .rendered_html :link {\n",
        "       text-decoration: none; \n",
        "    }\n",
        "    .rendered_html :hover {\n",
        "       text-decoration: none; \n",
        "    }\n",
        "    .rendered_html :visited {\n",
        "      text-decoration: none;\n",
        "    }\n",
        "    .rendered_html :focus {\n",
        "      text-decoration: none;\n",
        "    }\n",
        "    .rendered_html :active {\n",
        "      text-decoration: none;\n",
        "    }\n",
        "    .warning{\n",
        "        color: rgb( 240, 20, 20 )\n",
        "    } \n",
        "    hr {\n",
        "      color: #f3f3f3;\n",
        "      background-color: #f3f3f3;\n",
        "      height: 1px;\n",
        "    }\n",
        "    blockquote{\n",
        "      display:block;\n",
        "      background: #f3f3f3;\n",
        "      font-family: \"Open sans\",verdana,arial,sans-serif;\n",
        "      width:610px;\n",
        "      padding: 15px 15px 15px 15px;\n",
        "      text-align:justify;\n",
        "      text-justify:inter-word;\n",
        "      }\n",
        "      blockquote p {\n",
        "        margin-bottom: 0;\n",
        "        line-height: 125%;\n",
        "        font-size: 100%;\n",
        "      }\n",
        "   /* element.style {\n",
        "    } */  \n",
        "</style>\n",
        "<script>\n",
        "    MathJax.Hub.Config({\n",
        "                        TeX: {\n",
        "                           extensions: [\"AMSmath.js\"]\n",
        "                           },\n",
        "                tex2jax: {\n",
        "                    inlineMath: [ [\"$\",\"$\"], [\"\\\\(\",\"\\\\)\"] ],\n",
        "                    displayMath: [ [\"$$\",\"$$\"], [\"\\\\[\",\"\\\\]\"] ]\n",
        "                },\n",
        "                displayAlign: \"center\", // Change this to \"center\" to center equations.\n",
        "                \"HTML-CSS\": {\n",
        "                    styles: {\".MathJax_Display\": {\"margin\": 4}}\n",
        "                }\n",
        "        });\n",
        "</script>\n"
       ],
       "metadata": {},
       "output_type": "pyout",
       "prompt_number": 11,
       "text": [
        "<IPython.core.display.HTML at 0x7fe32ca08a50>"
       ]
      }
     ],
     "prompt_number": 11
    },
    {
     "cell_type": "code",
     "collapsed": false,
     "input": [],
     "language": "python",
     "metadata": {},
     "outputs": [],
     "prompt_number": 11
    }
   ],
   "metadata": {}
  }
 ]
}